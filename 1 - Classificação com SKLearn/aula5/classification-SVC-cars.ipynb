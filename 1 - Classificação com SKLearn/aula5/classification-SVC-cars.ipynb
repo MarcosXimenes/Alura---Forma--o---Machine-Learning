{
 "cells": [
  {
   "cell_type": "markdown",
   "metadata": {},
   "source": [
    "### Algoritmo de Classificação com SVM (Máquina de Vetores de Suporte)\n",
    "Esse algoritmo encontra uma linha que separe as duas classes."
   ]
  },
  {
   "cell_type": "code",
   "execution_count": 7,
   "metadata": {},
   "outputs": [],
   "source": [
    "import pandas as pd\n",
    "from datetime import datetime\n",
    "from sklearn.model_selection import train_test_split\n",
    "from sklearn.svm import LinearSVC\n",
    "from sklearn.metrics import accuracy_score\n",
    "import numpy as np"
   ]
  },
  {
   "cell_type": "code",
   "execution_count": 8,
   "metadata": {},
   "outputs": [
    {
     "data": {
      "text/html": [
       "<div>\n",
       "<style scoped>\n",
       "    .dataframe tbody tr th:only-of-type {\n",
       "        vertical-align: middle;\n",
       "    }\n",
       "\n",
       "    .dataframe tbody tr th {\n",
       "        vertical-align: top;\n",
       "    }\n",
       "\n",
       "    .dataframe thead th {\n",
       "        text-align: right;\n",
       "    }\n",
       "</style>\n",
       "<table border=\"1\" class=\"dataframe\">\n",
       "  <thead>\n",
       "    <tr style=\"text-align: right;\">\n",
       "      <th></th>\n",
       "      <th>preco</th>\n",
       "      <th>vendido</th>\n",
       "      <th>idade</th>\n",
       "      <th>km_por_ano</th>\n",
       "    </tr>\n",
       "  </thead>\n",
       "  <tbody>\n",
       "    <tr>\n",
       "      <th>0</th>\n",
       "      <td>30941.02</td>\n",
       "      <td>1</td>\n",
       "      <td>22</td>\n",
       "      <td>35085.22134</td>\n",
       "    </tr>\n",
       "    <tr>\n",
       "      <th>1</th>\n",
       "      <td>40557.96</td>\n",
       "      <td>1</td>\n",
       "      <td>24</td>\n",
       "      <td>12622.05362</td>\n",
       "    </tr>\n",
       "    <tr>\n",
       "      <th>2</th>\n",
       "      <td>89627.50</td>\n",
       "      <td>0</td>\n",
       "      <td>16</td>\n",
       "      <td>11440.79806</td>\n",
       "    </tr>\n",
       "    <tr>\n",
       "      <th>3</th>\n",
       "      <td>95276.14</td>\n",
       "      <td>0</td>\n",
       "      <td>7</td>\n",
       "      <td>43167.32682</td>\n",
       "    </tr>\n",
       "    <tr>\n",
       "      <th>4</th>\n",
       "      <td>117384.68</td>\n",
       "      <td>1</td>\n",
       "      <td>8</td>\n",
       "      <td>12770.11290</td>\n",
       "    </tr>\n",
       "    <tr>\n",
       "      <th>...</th>\n",
       "      <td>...</td>\n",
       "      <td>...</td>\n",
       "      <td>...</td>\n",
       "      <td>...</td>\n",
       "    </tr>\n",
       "    <tr>\n",
       "      <th>9995</th>\n",
       "      <td>97112.86</td>\n",
       "      <td>0</td>\n",
       "      <td>16</td>\n",
       "      <td>25060.64248</td>\n",
       "    </tr>\n",
       "    <tr>\n",
       "      <th>9996</th>\n",
       "      <td>107424.63</td>\n",
       "      <td>1</td>\n",
       "      <td>20</td>\n",
       "      <td>21317.31764</td>\n",
       "    </tr>\n",
       "    <tr>\n",
       "      <th>9997</th>\n",
       "      <td>93856.99</td>\n",
       "      <td>0</td>\n",
       "      <td>8</td>\n",
       "      <td>20950.38812</td>\n",
       "    </tr>\n",
       "    <tr>\n",
       "      <th>9998</th>\n",
       "      <td>51250.57</td>\n",
       "      <td>1</td>\n",
       "      <td>11</td>\n",
       "      <td>16840.13376</td>\n",
       "    </tr>\n",
       "    <tr>\n",
       "      <th>9999</th>\n",
       "      <td>87945.73</td>\n",
       "      <td>0</td>\n",
       "      <td>23</td>\n",
       "      <td>19894.66108</td>\n",
       "    </tr>\n",
       "  </tbody>\n",
       "</table>\n",
       "<p>10000 rows × 4 columns</p>\n",
       "</div>"
      ],
      "text/plain": [
       "          preco  vendido  idade   km_por_ano\n",
       "0      30941.02        1     22  35085.22134\n",
       "1      40557.96        1     24  12622.05362\n",
       "2      89627.50        0     16  11440.79806\n",
       "3      95276.14        0      7  43167.32682\n",
       "4     117384.68        1      8  12770.11290\n",
       "...         ...      ...    ...          ...\n",
       "9995   97112.86        0     16  25060.64248\n",
       "9996  107424.63        1     20  21317.31764\n",
       "9997   93856.99        0      8  20950.38812\n",
       "9998   51250.57        1     11  16840.13376\n",
       "9999   87945.73        0     23  19894.66108\n",
       "\n",
       "[10000 rows x 4 columns]"
      ]
     },
     "execution_count": 8,
     "metadata": {},
     "output_type": "execute_result"
    }
   ],
   "source": [
    "url = \"https://gist.githubusercontent.com/guilhermesilveira/4d1d4a16ccbf6ea4e0a64a38a24ec884/raw/afd05cb0c796d18f3f5a6537053ded308ba94bf7/car-prices.csv\"\n",
    "df = pd.read_csv(url)\n",
    "\n",
    "map = {\n",
    "    \"mileage_per_year\": \"milhas_por_ano\",\n",
    "    \"model_year\": \"ano_modelo\",\n",
    "    \"price\": \"preco\",\n",
    "    \"sold\": \"vendido\",\n",
    "}\n",
    "\n",
    "df = df.rename(columns=map)\n",
    "\n",
    "trocar = {\n",
    "    \"yes\": 1,\n",
    "    \"no\": 0,\n",
    "}\n",
    "\n",
    "df[\"vendido\"] = df.vendido.map(trocar)\n",
    "\n",
    "ano_atual = datetime.today().year\n",
    "df[\"idade\"] = ano_atual - df.ano_modelo\n",
    "df[\"km_por_ano\"] = df.milhas_por_ano * 1.60934\n",
    "\n",
    "df.drop(columns=[\"Unnamed: 0\", \"milhas_por_ano\", \"ano_modelo\"], axis=1, inplace=True)\n",
    "\n",
    "df"
   ]
  },
  {
   "cell_type": "code",
   "execution_count": 9,
   "metadata": {},
   "outputs": [
    {
     "name": "stdout",
     "output_type": "stream",
     "text": [
      "A acurária foi de 46.88%\n",
      "Proporção para Dados de Treino: 1.38\n",
      "Proporção para Dados de Teste: 1.38\n"
     ]
    },
    {
     "name": "stderr",
     "output_type": "stream",
     "text": [
      "c:\\Users\\jujun\\AppData\\Local\\Programs\\Python\\Python38\\lib\\site-packages\\sklearn\\svm\\_base.py:1225: ConvergenceWarning: Liblinear failed to converge, increase the number of iterations.\n",
      "  warnings.warn(\n"
     ]
    }
   ],
   "source": [
    "x = df[[\"preco\", \"idade\", \"km_por_ano\"]]\n",
    "y = df[\"vendido\"]\n",
    "\n",
    "SEED = 5\n",
    "np.random.seed(SEED)\n",
    "\n",
    "x_train, x_test, y_train, y_test = train_test_split(x, y, test_size=0.25, stratify=y)\n",
    "modelo = LinearSVC()\n",
    "modelo.fit(x_train, y_train)\n",
    "previsoes = modelo.predict(x_test)\n",
    "\n",
    "acuracia = accuracy_score(y_test, previsoes) * 100\n",
    "print(\"A acurária foi de %.2f%%\" % acuracia)\n",
    "\n",
    "print(\n",
    "    \"Proporção para Dados de Treino: %.2f\\nProporção para Dados de Teste: %.2f\"\n",
    "    % (\n",
    "        round(\n",
    "            y_train.value_counts().to_list()[0] / y_train.value_counts().to_list()[1], 2\n",
    "        ),\n",
    "        round(\n",
    "            y_test.value_counts().to_list()[0] / y_test.value_counts().to_list()[1], 2\n",
    "        ),\n",
    "    )\n",
    ")"
   ]
  },
  {
   "cell_type": "code",
   "execution_count": 10,
   "metadata": {},
   "outputs": [
    {
     "name": "stdout",
     "output_type": "stream",
     "text": [
      "A acurária do Dummy Stratified foi de 52.96%\n"
     ]
    }
   ],
   "source": [
    "from sklearn.dummy import DummyClassifier\n",
    "\n",
    "dummy_stratified = DummyClassifier(strategy=\"stratified\")\n",
    "dummy_stratified.fit(x_train, y_train)\n",
    "previsoes = dummy_stratified.predict(x_test)\n",
    "\n",
    "acuracia = dummy_stratified.score(y_test, previsoes) * 100\n",
    "print(\"A acurária do Dummy Stratified foi de %.2f%%\" % acuracia)"
   ]
  },
  {
   "cell_type": "code",
   "execution_count": 11,
   "metadata": {},
   "outputs": [
    {
     "name": "stdout",
     "output_type": "stream",
     "text": [
      "A acurária do Dummy Most Frequent foi de 100.00%\n"
     ]
    }
   ],
   "source": [
    "from sklearn.dummy import DummyClassifier\n",
    "\n",
    "dummy_mostfrequent = DummyClassifier(strategy=\"most_frequent\")\n",
    "dummy_mostfrequent.fit(x_train, y_train)\n",
    "previsoes = dummy_mostfrequent.predict(x_test)\n",
    "acuracia = dummy_mostfrequent.score(y_test, previsoes) * 100\n",
    "print(\"A acurária do Dummy Most Frequent foi de %.2f%%\" % acuracia)"
   ]
  },
  {
   "cell_type": "code",
   "execution_count": 12,
   "metadata": {},
   "outputs": [
    {
     "name": "stdout",
     "output_type": "stream",
     "text": [
      "A acurária foi de 76.80%\n",
      "Proporção para Dados de Treino: 1.36\n",
      "Proporção para Dados de Teste: 1.45\n"
     ]
    }
   ],
   "source": [
    "from sklearn.preprocessing import StandardScaler\n",
    "from sklearn.svm import SVC\n",
    "\n",
    "SEED = 5\n",
    "np.random.seed(SEED)\n",
    "\n",
    "raw_x_train, raw_x_test, y_train, y_test = train_test_split(x, y, test_size=0.25)\n",
    "\n",
    "scaler = StandardScaler()\n",
    "scaler.fit(raw_x_train)\n",
    "x_train = scaler.transform(raw_x_train)\n",
    "x_test = scaler.transform(raw_x_test)\n",
    "\n",
    "modelo = SVC()\n",
    "modelo.fit(x_train, y_train)\n",
    "previsoes = modelo.predict(x_test)\n",
    "\n",
    "acuracia = accuracy_score(y_test, previsoes) * 100\n",
    "print(\"A acurária foi de %.2f%%\" % acuracia)\n",
    "\n",
    "print(\n",
    "    \"Proporção para Dados de Treino: %.2f\\nProporção para Dados de Teste: %.2f\"\n",
    "    % (\n",
    "        round(\n",
    "            y_train.value_counts().to_list()[0] / y_train.value_counts().to_list()[1], 2\n",
    "        ),\n",
    "        round(\n",
    "            y_test.value_counts().to_list()[0] / y_test.value_counts().to_list()[1], 2\n",
    "        ),\n",
    "    )\n",
    ")"
   ]
  },
  {
   "cell_type": "code",
   "execution_count": null,
   "metadata": {},
   "outputs": [],
   "source": []
  }
 ],
 "metadata": {
  "kernelspec": {
   "display_name": "Python 3.8.0 64-bit",
   "language": "python",
   "name": "python3"
  },
  "language_info": {
   "codemirror_mode": {
    "name": "ipython",
    "version": 3
   },
   "file_extension": ".py",
   "mimetype": "text/x-python",
   "name": "python",
   "nbconvert_exporter": "python",
   "pygments_lexer": "ipython3",
   "version": "3.8.0"
  },
  "orig_nbformat": 4,
  "vscode": {
   "interpreter": {
    "hash": "d42b36e91883c158bbf9912f1619094efb5f8f8e463740d823494e9ad9746f31"
   }
  }
 },
 "nbformat": 4,
 "nbformat_minor": 2
}
