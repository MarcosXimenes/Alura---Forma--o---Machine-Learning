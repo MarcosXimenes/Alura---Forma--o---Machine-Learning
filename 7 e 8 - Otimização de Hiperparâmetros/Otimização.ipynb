{
 "cells": [
  {
   "cell_type": "raw",
   "metadata": {
    "colab": {
     "base_uri": "https://localhost:8080/",
     "height": 205
    },
    "colab_type": "code",
    "id": "yku6GxC9PujF",
    "outputId": "9963aff5-0c1f-4804-b826-be878199a316"
   },
   "source": [
    "!pip install seaborn==0.9.0\n",
    "!pip install graphviz==0.9\n",
    "!pip install pydot\n",
    "!apt-get install graphviz"
   ]
  },
  {
   "attachments": {},
   "cell_type": "markdown",
   "metadata": {},
   "source": [
    "### Importação de Bibliotecas"
   ]
  },
  {
   "cell_type": "code",
   "execution_count": 117,
   "metadata": {
    "colab": {
     "base_uri": "https://localhost:8080/",
     "height": 34
    },
    "colab_type": "code",
    "id": "KV5KiJRLA6O5",
    "outputId": "8af7986a-9250-4a44-d0ea-9db48546c138",
    "vscode": {
     "languageId": "python"
    }
   },
   "outputs": [
    {
     "name": "stdout",
     "output_type": "stream",
     "text": [
      "0.11.2\n"
     ]
    }
   ],
   "source": [
    "import seaborn as sns\n",
    "import pandas as pd\n",
    "from sklearn.model_selection import cross_validate\n",
    "from sklearn.dummy import DummyClassifier\n",
    "import numpy as np\n",
    "from sklearn.model_selection import cross_validate\n",
    "from sklearn.tree import DecisionTreeClassifier\n",
    "from sklearn.preprocessing import StandardScaler\n",
    "from sklearn.svm import SVC\n",
    "from sklearn.pipeline import Pipeline\n",
    "from sklearn.model_selection import GroupKFold\n",
    "import time\n",
    "from sklearn.tree import export_graphviz\n",
    "import graphviz\n",
    "from sklearn.model_selection import GroupKFold, KFold\n",
    "from sklearn.tree import export_graphviz\n",
    "import graphviz\n",
    "from pandas.plotting import scatter_matrix\n",
    "from sklearn.model_selection import GridSearchCV\n",
    "from sklearn.model_selection import GridSearchCV\n",
    "from sklearn.metrics import accuracy_score\n",
    "from sklearn.model_selection import cross_val_score\n",
    "from sklearn.model_selection import cross_val_score\n",
    "from scipy.stats import randint\n",
    "from sklearn.ensemble import RandomForestClassifier\n",
    "import time\n",
    "from sklearn.model_selection import train_test_split\n",
    "from sklearn.model_selection import StratifiedShuffleSplit\n",
    "\n",
    "print(sns.__version__)"
   ]
  },
  {
   "attachments": {},
   "cell_type": "markdown",
   "metadata": {},
   "source": [
    "### Importação de Dados"
   ]
  },
  {
   "cell_type": "code",
   "execution_count": 118,
   "metadata": {
    "colab": {
     "base_uri": "https://localhost:8080/",
     "height": 195
    },
    "colab_type": "code",
    "id": "y7ik04NlDZMA",
    "outputId": "f1af0755-b27e-4128-acd9-7c63ed7b59c8",
    "vscode": {
     "languageId": "python"
    }
   },
   "outputs": [
    {
     "data": {
      "text/html": [
       "<div>\n",
       "<style scoped>\n",
       "    .dataframe tbody tr th:only-of-type {\n",
       "        vertical-align: middle;\n",
       "    }\n",
       "\n",
       "    .dataframe tbody tr th {\n",
       "        vertical-align: top;\n",
       "    }\n",
       "\n",
       "    .dataframe thead th {\n",
       "        text-align: right;\n",
       "    }\n",
       "</style>\n",
       "<table border=\"1\" class=\"dataframe\">\n",
       "  <thead>\n",
       "    <tr style=\"text-align: right;\">\n",
       "      <th></th>\n",
       "      <th>preco</th>\n",
       "      <th>vendido</th>\n",
       "      <th>idade_do_modelo</th>\n",
       "      <th>km_por_ano</th>\n",
       "    </tr>\n",
       "  </thead>\n",
       "  <tbody>\n",
       "    <tr>\n",
       "      <th>0</th>\n",
       "      <td>30941.02</td>\n",
       "      <td>1</td>\n",
       "      <td>18</td>\n",
       "      <td>35085.22134</td>\n",
       "    </tr>\n",
       "    <tr>\n",
       "      <th>1</th>\n",
       "      <td>40557.96</td>\n",
       "      <td>1</td>\n",
       "      <td>20</td>\n",
       "      <td>12622.05362</td>\n",
       "    </tr>\n",
       "    <tr>\n",
       "      <th>2</th>\n",
       "      <td>89627.50</td>\n",
       "      <td>0</td>\n",
       "      <td>12</td>\n",
       "      <td>11440.79806</td>\n",
       "    </tr>\n",
       "    <tr>\n",
       "      <th>3</th>\n",
       "      <td>95276.14</td>\n",
       "      <td>0</td>\n",
       "      <td>3</td>\n",
       "      <td>43167.32682</td>\n",
       "    </tr>\n",
       "    <tr>\n",
       "      <th>4</th>\n",
       "      <td>117384.68</td>\n",
       "      <td>1</td>\n",
       "      <td>4</td>\n",
       "      <td>12770.11290</td>\n",
       "    </tr>\n",
       "  </tbody>\n",
       "</table>\n",
       "</div>"
      ],
      "text/plain": [
       "       preco  vendido  idade_do_modelo   km_por_ano\n",
       "0   30941.02        1               18  35085.22134\n",
       "1   40557.96        1               20  12622.05362\n",
       "2   89627.50        0               12  11440.79806\n",
       "3   95276.14        0                3  43167.32682\n",
       "4  117384.68        1                4  12770.11290"
      ]
     },
     "execution_count": 118,
     "metadata": {},
     "output_type": "execute_result"
    }
   ],
   "source": [
    "uri = \"https://gist.githubusercontent.com/guilhermesilveira/e99a526b2e7ccc6c3b70f53db43a87d2/raw/1605fc74aa778066bf2e6695e24d53cf65f2f447/machine-learning-carros-simulacao.csv\"\n",
    "df = pd.read_csv(uri).drop(columns=[\"Unnamed: 0\"], axis=1)\n",
    "df.head()"
   ]
  },
  {
   "attachments": {},
   "cell_type": "markdown",
   "metadata": {},
   "source": [
    "### Situação de \"Azar\" onde as classes estão Ordenadas"
   ]
  },
  {
   "cell_type": "code",
   "execution_count": 119,
   "metadata": {
    "colab": {
     "base_uri": "https://localhost:8080/",
     "height": 195
    },
    "colab_type": "code",
    "id": "b52E4e1hjegN",
    "outputId": "52d614b2-2f88-4873-902e-5061fb230590",
    "vscode": {
     "languageId": "python"
    }
   },
   "outputs": [
    {
     "data": {
      "text/html": [
       "<div>\n",
       "<style scoped>\n",
       "    .dataframe tbody tr th:only-of-type {\n",
       "        vertical-align: middle;\n",
       "    }\n",
       "\n",
       "    .dataframe tbody tr th {\n",
       "        vertical-align: top;\n",
       "    }\n",
       "\n",
       "    .dataframe thead th {\n",
       "        text-align: right;\n",
       "    }\n",
       "</style>\n",
       "<table border=\"1\" class=\"dataframe\">\n",
       "  <thead>\n",
       "    <tr style=\"text-align: right;\">\n",
       "      <th></th>\n",
       "      <th>preco</th>\n",
       "      <th>vendido</th>\n",
       "      <th>idade_do_modelo</th>\n",
       "      <th>km_por_ano</th>\n",
       "    </tr>\n",
       "  </thead>\n",
       "  <tbody>\n",
       "    <tr>\n",
       "      <th>4999</th>\n",
       "      <td>74023.29</td>\n",
       "      <td>0</td>\n",
       "      <td>12</td>\n",
       "      <td>24812.80412</td>\n",
       "    </tr>\n",
       "    <tr>\n",
       "      <th>5322</th>\n",
       "      <td>84843.49</td>\n",
       "      <td>0</td>\n",
       "      <td>13</td>\n",
       "      <td>23095.63834</td>\n",
       "    </tr>\n",
       "    <tr>\n",
       "      <th>5319</th>\n",
       "      <td>83100.27</td>\n",
       "      <td>0</td>\n",
       "      <td>19</td>\n",
       "      <td>36240.72746</td>\n",
       "    </tr>\n",
       "    <tr>\n",
       "      <th>5316</th>\n",
       "      <td>87932.13</td>\n",
       "      <td>0</td>\n",
       "      <td>16</td>\n",
       "      <td>32249.56426</td>\n",
       "    </tr>\n",
       "    <tr>\n",
       "      <th>5315</th>\n",
       "      <td>77937.01</td>\n",
       "      <td>0</td>\n",
       "      <td>15</td>\n",
       "      <td>28414.50704</td>\n",
       "    </tr>\n",
       "  </tbody>\n",
       "</table>\n",
       "</div>"
      ],
      "text/plain": [
       "         preco  vendido  idade_do_modelo   km_por_ano\n",
       "4999  74023.29        0               12  24812.80412\n",
       "5322  84843.49        0               13  23095.63834\n",
       "5319  83100.27        0               19  36240.72746\n",
       "5316  87932.13        0               16  32249.56426\n",
       "5315  77937.01        0               15  28414.50704"
      ]
     },
     "execution_count": 119,
     "metadata": {},
     "output_type": "execute_result"
    }
   ],
   "source": [
    "df_bad = df.sort_values(\"vendido\", ascending=True)\n",
    "x_bad = df_bad[[\"preco\", \"idade_do_modelo\", \"km_por_ano\"]]\n",
    "y_bad = df_bad[\"vendido\"]\n",
    "df_bad.head()"
   ]
  },
  {
   "attachments": {},
   "cell_type": "markdown",
   "metadata": {},
   "source": [
    "### Treinamento com Dummy para se obter uma métrica Base"
   ]
  },
  {
   "cell_type": "code",
   "execution_count": 120,
   "metadata": {
    "colab": {
     "base_uri": "https://localhost:8080/",
     "height": 34
    },
    "colab_type": "code",
    "id": "ZNT26vFEeYmz",
    "outputId": "ea86f4a8-a728-46f2-ae49-e12fa5872451",
    "vscode": {
     "languageId": "python"
    }
   },
   "outputs": [
    {
     "name": "stdout",
     "output_type": "stream",
     "text": [
      "Accuracy com Dummy Estratificado (CV10): 58.00% a 58.00%\n"
     ]
    }
   ],
   "source": [
    "SEED = 301\n",
    "np.random.seed(SEED)\n",
    "\n",
    "dummy_model = DummyClassifier()\n",
    "results = cross_validate(dummy_model, x_bad, y_bad, cv=10, return_train_score=False)\n",
    "\n",
    "media = results[\"test_score\"].mean()\n",
    "desvio_padrao = results[\"test_score\"].std()\n",
    "print(\n",
    "    \"Accuracy com Dummy Estratificado (CV10): %.2f%% a %.2f%%\"\n",
    "    % ((media - 2 * desvio_padrao) * 100, (media + 2 * desvio_padrao) * 100)\n",
    ")"
   ]
  },
  {
   "attachments": {},
   "cell_type": "markdown",
   "metadata": {},
   "source": [
    "### Treinamento com Árvore de Decisão"
   ]
  },
  {
   "cell_type": "code",
   "execution_count": 121,
   "metadata": {
    "colab": {
     "base_uri": "https://localhost:8080/",
     "height": 34
    },
    "colab_type": "code",
    "id": "73mCcFA_eG_K",
    "outputId": "84610b2b-e91e-4ce0-be8b-39fdd4368dda",
    "vscode": {
     "languageId": "python"
    }
   },
   "outputs": [
    {
     "name": "stdout",
     "output_type": "stream",
     "text": [
      "Accuracy com Decision Tree Classifier (CV10): 73.83% a 77.73%\n"
     ]
    }
   ],
   "source": [
    "SEED = 301\n",
    "np.random.seed(SEED)\n",
    "\n",
    "dtc_model = DecisionTreeClassifier(max_depth=2)\n",
    "results = cross_validate(dtc_model, x_bad, y_bad, cv=10, return_train_score=False)\n",
    "\n",
    "media = results[\"test_score\"].mean()\n",
    "desvio_padrao = results[\"test_score\"].std()\n",
    "print(\n",
    "    \"Accuracy com Decision Tree Classifier (CV10): %.2f%% a %.2f%%\"\n",
    "    % ((media - 2 * desvio_padrao) * 100, (media + 2 * desvio_padrao) * 100)\n",
    ")"
   ]
  },
  {
   "attachments": {},
   "cell_type": "markdown",
   "metadata": {},
   "source": [
    "### Geração de Dados de Modelo para Simulação de Agrupamento do Estimador"
   ]
  },
  {
   "cell_type": "code",
   "execution_count": 122,
   "metadata": {
    "colab": {
     "base_uri": "https://localhost:8080/",
     "height": 204
    },
    "colab_type": "code",
    "id": "5C8Y6J-PGpYf",
    "outputId": "3ef11249-4ee7-4fc4-db36-2a64af775cde",
    "vscode": {
     "languageId": "python"
    }
   },
   "outputs": [
    {
     "data": {
      "text/html": [
       "<div>\n",
       "<style scoped>\n",
       "    .dataframe tbody tr th:only-of-type {\n",
       "        vertical-align: middle;\n",
       "    }\n",
       "\n",
       "    .dataframe tbody tr th {\n",
       "        vertical-align: top;\n",
       "    }\n",
       "\n",
       "    .dataframe thead th {\n",
       "        text-align: right;\n",
       "    }\n",
       "</style>\n",
       "<table border=\"1\" class=\"dataframe\">\n",
       "  <thead>\n",
       "    <tr style=\"text-align: right;\">\n",
       "      <th></th>\n",
       "      <th>preco</th>\n",
       "      <th>vendido</th>\n",
       "      <th>idade_do_modelo</th>\n",
       "      <th>km_por_ano</th>\n",
       "      <th>modelo</th>\n",
       "    </tr>\n",
       "  </thead>\n",
       "  <tbody>\n",
       "    <tr>\n",
       "      <th>0</th>\n",
       "      <td>30941.02</td>\n",
       "      <td>1</td>\n",
       "      <td>18</td>\n",
       "      <td>35085.22134</td>\n",
       "      <td>18</td>\n",
       "    </tr>\n",
       "    <tr>\n",
       "      <th>1</th>\n",
       "      <td>40557.96</td>\n",
       "      <td>1</td>\n",
       "      <td>20</td>\n",
       "      <td>12622.05362</td>\n",
       "      <td>24</td>\n",
       "    </tr>\n",
       "    <tr>\n",
       "      <th>2</th>\n",
       "      <td>89627.50</td>\n",
       "      <td>0</td>\n",
       "      <td>12</td>\n",
       "      <td>11440.79806</td>\n",
       "      <td>14</td>\n",
       "    </tr>\n",
       "    <tr>\n",
       "      <th>3</th>\n",
       "      <td>95276.14</td>\n",
       "      <td>0</td>\n",
       "      <td>3</td>\n",
       "      <td>43167.32682</td>\n",
       "      <td>6</td>\n",
       "    </tr>\n",
       "    <tr>\n",
       "      <th>4</th>\n",
       "      <td>117384.68</td>\n",
       "      <td>1</td>\n",
       "      <td>4</td>\n",
       "      <td>12770.11290</td>\n",
       "      <td>5</td>\n",
       "    </tr>\n",
       "  </tbody>\n",
       "</table>\n",
       "</div>"
      ],
      "text/plain": [
       "       preco  vendido  idade_do_modelo   km_por_ano  modelo\n",
       "0   30941.02        1               18  35085.22134      18\n",
       "1   40557.96        1               20  12622.05362      24\n",
       "2   89627.50        0               12  11440.79806      14\n",
       "3   95276.14        0                3  43167.32682       6\n",
       "4  117384.68        1                4  12770.11290       5"
      ]
     },
     "execution_count": 122,
     "metadata": {},
     "output_type": "execute_result"
    }
   ],
   "source": [
    "np.random.seed(SEED)\n",
    "\n",
    "df[\"modelo\"] = df.idade_do_modelo + np.random.randint(-2, 3, size=10000)\n",
    "df.modelo = df.modelo + abs(df.modelo.min()) + 1\n",
    "\n",
    "df.head()"
   ]
  },
  {
   "attachments": {},
   "cell_type": "markdown",
   "metadata": {},
   "source": [
    "### Função para exibir Métricas"
   ]
  },
  {
   "cell_type": "code",
   "execution_count": 123,
   "metadata": {
    "colab": {},
    "colab_type": "code",
    "id": "3hmjt7qPHOZY",
    "vscode": {
     "languageId": "python"
    }
   },
   "outputs": [],
   "source": [
    "def print_results(results):\n",
    "    media = results[\"test_score\"].mean() * 100\n",
    "    desvio = results[\"test_score\"].std() * 100\n",
    "    print(\"Acurácia Média: %.2f%%\" % media)\n",
    "    print(\n",
    "        \"Intervalo de Acurácias: %.2f%% a %.2f%%\"\n",
    "        % (media - 2 * desvio, media + 2 * desvio)\n",
    "    )"
   ]
  },
  {
   "attachments": {},
   "cell_type": "markdown",
   "metadata": {},
   "source": [
    "### GroupKFold em Pipeline com StandardScaler e SVC\n",
    "\n",
    "O GroupKFold possui a função de dividir nosso conjunto de treino e teste em k-dobras (k-fold) de forma que as amostras com mesmo grupo não sejam representadas nos conjuntos de teste e teste simultaneamente. Fazendo isso nós temos uma melhor aproximação de como o nosso modelo funcionará no mundo real, pois ele está sempre sendo treinado com dados de alguns grupos, e quando vamos testar colocamos um grupo que o nosso modelo nunca viu, e essas características podem ser algo totalmente diferentes das demais, pois amostras de grupos diferentes tendem a ter características diferentes também. Então o GroupKFold nos dá a resposta se nosso modelo é generalista ou não.\n",
    "\n",
    "<img src=\"https://i.stack.imgur.com/a0qtJ.png\">\n",
    "\n",
    "O StandardScaler padroniza as features removendo a média e escala a variância a uma unidade. Isso significa que para cada feature, a média seria 0, e o Desvio Padrão seria 1. Desta forma, as features são padronizadas, tornando-as mais manejáveis para nossos modelos.\n",
    "\n",
    "<img src=\"https://i.stack.imgur.com/PZgJ2.png\">\n",
    "\n",
    "O SVM (Support Vector Machine) (SVC, NuSVC, etc) é um classificador discriminativo formalmente definido por um hiperplano de separação. Em outras palavras, se temos dados de treinamento rotulados (aprendizado supervisionado), o algoritmo gera um hiperplano ideal que categoriza novos dados inéditos. Classificador.\n",
    "\n",
    "<img src=\"https://scikit-learn.org/stable/_images/sphx_glr_plot_iris_svc_001.png\">"
   ]
  },
  {
   "cell_type": "code",
   "execution_count": 124,
   "metadata": {
    "colab": {
     "base_uri": "https://localhost:8080/",
     "height": 350
    },
    "colab_type": "code",
    "id": "goijy0rSS7n-",
    "outputId": "8d1deef3-07e9-42ac-9ae6-3f8becaccb1b",
    "vscode": {
     "languageId": "python"
    }
   },
   "outputs": [
    {
     "name": "stdout",
     "output_type": "stream",
     "text": [
      "Tempo de Treinamento: 16.36 segundos\n",
      "Acurácia Média: 76.68%\n",
      "Intervalo de Acurácias: 74.28% a 79.08%\n"
     ]
    }
   ],
   "source": [
    "SEED = 301\n",
    "np.random.seed(SEED)\n",
    "\n",
    "scaler = StandardScaler()\n",
    "svc_model = SVC()\n",
    "\n",
    "pipeline = Pipeline([(\"Scaler\", scaler), (\"Model\", svc_model)])\n",
    "\n",
    "cv = GroupKFold(n_splits=10)\n",
    "\n",
    "tic = time.time()\n",
    "results = cross_validate(\n",
    "    pipeline, x_bad, y_bad, cv=cv, groups=df.modelo, return_train_score=False\n",
    ")\n",
    "tac = time.time()\n",
    "\n",
    "print(f\"Tempo de Treinamento: {'{:.2f}'.format(tac - tic)} segundos\")\n",
    "print_results(results)"
   ]
  },
  {
   "attachments": {},
   "cell_type": "markdown",
   "metadata": {},
   "source": [
    "### GroupKFold com Decision Tree Classifier e Análise da Árvore"
   ]
  },
  {
   "cell_type": "code",
   "execution_count": 125,
   "metadata": {
    "colab": {
     "base_uri": "https://localhost:8080/",
     "height": 51
    },
    "colab_type": "code",
    "id": "IKD8uaWkNcUL",
    "outputId": "68216846-255a-4a75-c64b-44ceb5a7f8c0",
    "vscode": {
     "languageId": "python"
    }
   },
   "outputs": [
    {
     "name": "stdout",
     "output_type": "stream",
     "text": [
      "Tempo de Treinamento: 0.08 segundos\n",
      "Acurácia Média: 75.78%\n",
      "Intervalo de Acurácias: 73.67% a 77.90%\n"
     ]
    }
   ],
   "source": [
    "SEED = 301\n",
    "np.random.seed(SEED)\n",
    "\n",
    "\n",
    "cv = GroupKFold(n_splits=10)\n",
    "modelo = DecisionTreeClassifier(max_depth=2)\n",
    "\n",
    "tic = time.time()\n",
    "results = cross_validate(\n",
    "    modelo, x_bad, y_bad, cv=cv, groups=df.modelo, return_train_score=False\n",
    ")\n",
    "tac = time.time()\n",
    "\n",
    "print(f\"Tempo de Treinamento: {'{:.2f}'.format(tac - tic)} segundos\")\n",
    "print_results(results)"
   ]
  },
  {
   "attachments": {},
   "cell_type": "markdown",
   "metadata": {},
   "source": [
    "### Análise da Árvore"
   ]
  },
  {
   "cell_type": "code",
   "execution_count": 126,
   "metadata": {
    "colab": {
     "base_uri": "https://localhost:8080/",
     "height": 440
    },
    "colab_type": "code",
    "id": "WhJEIZ4bO3J6",
    "outputId": "bdc05755-00be-4dae-ccc6-fc1e5137f9e9",
    "vscode": {
     "languageId": "python"
    }
   },
   "outputs": [
    {
     "data": {
      "image/svg+xml": "<?xml version=\"1.0\" encoding=\"UTF-8\" standalone=\"no\"?>\n<!DOCTYPE svg PUBLIC \"-//W3C//DTD SVG 1.1//EN\"\n \"http://www.w3.org/Graphics/SVG/1.1/DTD/svg11.dtd\">\n<!-- Generated by graphviz version 7.0.2 (20221119.0110)\n -->\n<!-- Title: Tree Pages: 1 -->\n<svg width=\"619pt\" height=\"314pt\"\n viewBox=\"0.00 0.00 619.00 314.00\" xmlns=\"http://www.w3.org/2000/svg\" xmlns:xlink=\"http://www.w3.org/1999/xlink\">\n<g id=\"graph0\" class=\"graph\" transform=\"scale(1 1) rotate(0) translate(4 310)\">\n<title>Tree</title>\n<polygon fill=\"white\" stroke=\"none\" points=\"-4,4 -4,-310 615,-310 615,4 -4,4\"/>\n<!-- 0 -->\n<g id=\"node1\" class=\"node\">\n<title>0</title>\n<path fill=\"#c8e4f8\" stroke=\"black\" d=\"M356.5,-306C356.5,-306 233.5,-306 233.5,-306 227.5,-306 221.5,-300 221.5,-294 221.5,-294 221.5,-235 221.5,-235 221.5,-229 227.5,-223 233.5,-223 233.5,-223 356.5,-223 356.5,-223 362.5,-223 368.5,-229 368.5,-235 368.5,-235 368.5,-294 368.5,-294 368.5,-300 362.5,-306 356.5,-306\"/>\n<text text-anchor=\"middle\" x=\"295\" y=\"-290.8\" font-family=\"Helvetica,sans-Serif\" font-size=\"14.00\">preco &lt;= 59982.246</text>\n<text text-anchor=\"middle\" x=\"295\" y=\"-275.8\" font-family=\"Helvetica,sans-Serif\" font-size=\"14.00\">gini = 0.487</text>\n<text text-anchor=\"middle\" x=\"295\" y=\"-260.8\" font-family=\"Helvetica,sans-Serif\" font-size=\"14.00\">samples = 10000</text>\n<text text-anchor=\"middle\" x=\"295\" y=\"-245.8\" font-family=\"Helvetica,sans-Serif\" font-size=\"14.00\">value = [4200, 5800]</text>\n<text text-anchor=\"middle\" x=\"295\" y=\"-230.8\" font-family=\"Helvetica,sans-Serif\" font-size=\"14.00\">class = sim</text>\n</g>\n<!-- 1 -->\n<g id=\"node2\" class=\"node\">\n<title>1</title>\n<path fill=\"#52a9e8\" stroke=\"black\" d=\"M263.5,-187C263.5,-187 140.5,-187 140.5,-187 134.5,-187 128.5,-181 128.5,-175 128.5,-175 128.5,-116 128.5,-116 128.5,-110 134.5,-104 140.5,-104 140.5,-104 263.5,-104 263.5,-104 269.5,-104 275.5,-110 275.5,-116 275.5,-116 275.5,-175 275.5,-175 275.5,-181 269.5,-187 263.5,-187\"/>\n<text text-anchor=\"middle\" x=\"202\" y=\"-171.8\" font-family=\"Helvetica,sans-Serif\" font-size=\"14.00\">preco &lt;= 40083.385</text>\n<text text-anchor=\"middle\" x=\"202\" y=\"-156.8\" font-family=\"Helvetica,sans-Serif\" font-size=\"14.00\">gini = 0.198</text>\n<text text-anchor=\"middle\" x=\"202\" y=\"-141.8\" font-family=\"Helvetica,sans-Serif\" font-size=\"14.00\">samples = 4347</text>\n<text text-anchor=\"middle\" x=\"202\" y=\"-126.8\" font-family=\"Helvetica,sans-Serif\" font-size=\"14.00\">value = [484, 3863]</text>\n<text text-anchor=\"middle\" x=\"202\" y=\"-111.8\" font-family=\"Helvetica,sans-Serif\" font-size=\"14.00\">class = sim</text>\n</g>\n<!-- 0&#45;&gt;1 -->\n<g id=\"edge1\" class=\"edge\">\n<title>0&#45;&gt;1</title>\n<path fill=\"none\" stroke=\"black\" d=\"M262.47,-222.58C255.64,-213.98 248.36,-204.82 241.3,-195.95\"/>\n<polygon fill=\"black\" stroke=\"black\" points=\"244.26,-194.04 235.29,-188.39 238.78,-198.39 244.26,-194.04\"/>\n<text text-anchor=\"middle\" x=\"231.51\" y=\"-208.34\" font-family=\"Helvetica,sans-Serif\" font-size=\"14.00\">True</text>\n</g>\n<!-- 4 -->\n<g id=\"node5\" class=\"node\">\n<title>4</title>\n<path fill=\"#f3c3a0\" stroke=\"black\" d=\"M472,-187C472,-187 306,-187 306,-187 300,-187 294,-181 294,-175 294,-175 294,-116 294,-116 294,-110 300,-104 306,-104 306,-104 472,-104 472,-104 478,-104 484,-110 484,-116 484,-116 484,-175 484,-175 484,-181 478,-187 472,-187\"/>\n<text text-anchor=\"middle\" x=\"389\" y=\"-171.8\" font-family=\"Helvetica,sans-Serif\" font-size=\"14.00\">km_por_ano &lt;= 24124.006</text>\n<text text-anchor=\"middle\" x=\"389\" y=\"-156.8\" font-family=\"Helvetica,sans-Serif\" font-size=\"14.00\">gini = 0.45</text>\n<text text-anchor=\"middle\" x=\"389\" y=\"-141.8\" font-family=\"Helvetica,sans-Serif\" font-size=\"14.00\">samples = 5653</text>\n<text text-anchor=\"middle\" x=\"389\" y=\"-126.8\" font-family=\"Helvetica,sans-Serif\" font-size=\"14.00\">value = [3716, 1937]</text>\n<text text-anchor=\"middle\" x=\"389\" y=\"-111.8\" font-family=\"Helvetica,sans-Serif\" font-size=\"14.00\">class = não</text>\n</g>\n<!-- 0&#45;&gt;4 -->\n<g id=\"edge4\" class=\"edge\">\n<title>0&#45;&gt;4</title>\n<path fill=\"none\" stroke=\"black\" d=\"M327.88,-222.58C334.79,-213.98 342.14,-204.82 349.27,-195.95\"/>\n<polygon fill=\"black\" stroke=\"black\" points=\"351.82,-198.37 355.35,-188.38 346.36,-193.98 351.82,-198.37\"/>\n<text text-anchor=\"middle\" x=\"359.01\" y=\"-208.35\" font-family=\"Helvetica,sans-Serif\" font-size=\"14.00\">False</text>\n</g>\n<!-- 2 -->\n<g id=\"node3\" class=\"node\">\n<title>2</title>\n<path fill=\"#399de5\" stroke=\"black\" d=\"M110,-68C110,-68 12,-68 12,-68 6,-68 0,-62 0,-56 0,-56 0,-12 0,-12 0,-6 6,0 12,0 12,0 110,0 110,0 116,0 122,-6 122,-12 122,-12 122,-56 122,-56 122,-62 116,-68 110,-68\"/>\n<text text-anchor=\"middle\" x=\"61\" y=\"-52.8\" font-family=\"Helvetica,sans-Serif\" font-size=\"14.00\">gini = 0.0</text>\n<text text-anchor=\"middle\" x=\"61\" y=\"-37.8\" font-family=\"Helvetica,sans-Serif\" font-size=\"14.00\">samples = 1935</text>\n<text text-anchor=\"middle\" x=\"61\" y=\"-22.8\" font-family=\"Helvetica,sans-Serif\" font-size=\"14.00\">value = [0, 1935]</text>\n<text text-anchor=\"middle\" x=\"61\" y=\"-7.8\" font-family=\"Helvetica,sans-Serif\" font-size=\"14.00\">class = sim</text>\n</g>\n<!-- 1&#45;&gt;2 -->\n<g id=\"edge2\" class=\"edge\">\n<title>1&#45;&gt;2</title>\n<path fill=\"none\" stroke=\"black\" d=\"M149.5,-103.73C137.52,-94.42 124.79,-84.54 112.84,-75.26\"/>\n<polygon fill=\"black\" stroke=\"black\" points=\"115.12,-72.6 105.07,-69.23 110.83,-78.13 115.12,-72.6\"/>\n</g>\n<!-- 3 -->\n<g id=\"node4\" class=\"node\">\n<title>3</title>\n<path fill=\"#6bb6ec\" stroke=\"black\" d=\"M266,-68C266,-68 152,-68 152,-68 146,-68 140,-62 140,-56 140,-56 140,-12 140,-12 140,-6 146,0 152,0 152,0 266,0 266,0 272,0 278,-6 278,-12 278,-12 278,-56 278,-56 278,-62 272,-68 266,-68\"/>\n<text text-anchor=\"middle\" x=\"209\" y=\"-52.8\" font-family=\"Helvetica,sans-Serif\" font-size=\"14.00\">gini = 0.321</text>\n<text text-anchor=\"middle\" x=\"209\" y=\"-37.8\" font-family=\"Helvetica,sans-Serif\" font-size=\"14.00\">samples = 2412</text>\n<text text-anchor=\"middle\" x=\"209\" y=\"-22.8\" font-family=\"Helvetica,sans-Serif\" font-size=\"14.00\">value = [484, 1928]</text>\n<text text-anchor=\"middle\" x=\"209\" y=\"-7.8\" font-family=\"Helvetica,sans-Serif\" font-size=\"14.00\">class = sim</text>\n</g>\n<!-- 1&#45;&gt;3 -->\n<g id=\"edge3\" class=\"edge\">\n<title>1&#45;&gt;3</title>\n<path fill=\"none\" stroke=\"black\" d=\"M204.61,-103.73C205.11,-95.88 205.64,-87.63 206.14,-79.67\"/>\n<polygon fill=\"black\" stroke=\"black\" points=\"209.63,-80.01 206.77,-69.81 202.64,-79.57 209.63,-80.01\"/>\n</g>\n<!-- 5 -->\n<g id=\"node6\" class=\"node\">\n<title>5</title>\n<path fill=\"#fcefe5\" stroke=\"black\" d=\"M443,-68C443,-68 321,-68 321,-68 315,-68 309,-62 309,-56 309,-56 309,-12 309,-12 309,-6 315,0 321,0 321,0 443,0 443,0 449,0 455,-6 455,-12 455,-12 455,-56 455,-56 455,-62 449,-68 443,-68\"/>\n<text text-anchor=\"middle\" x=\"382\" y=\"-52.8\" font-family=\"Helvetica,sans-Serif\" font-size=\"14.00\">gini = 0.498</text>\n<text text-anchor=\"middle\" x=\"382\" y=\"-37.8\" font-family=\"Helvetica,sans-Serif\" font-size=\"14.00\">samples = 3513</text>\n<text text-anchor=\"middle\" x=\"382\" y=\"-22.8\" font-family=\"Helvetica,sans-Serif\" font-size=\"14.00\">value = [1879, 1634]</text>\n<text text-anchor=\"middle\" x=\"382\" y=\"-7.8\" font-family=\"Helvetica,sans-Serif\" font-size=\"14.00\">class = não</text>\n</g>\n<!-- 4&#45;&gt;5 -->\n<g id=\"edge5\" class=\"edge\">\n<title>4&#45;&gt;5</title>\n<path fill=\"none\" stroke=\"black\" d=\"M386.39,-103.73C385.89,-95.88 385.36,-87.63 384.86,-79.67\"/>\n<polygon fill=\"black\" stroke=\"black\" points=\"388.36,-79.57 384.23,-69.81 381.37,-80.01 388.36,-79.57\"/>\n</g>\n<!-- 6 -->\n<g id=\"node7\" class=\"node\">\n<title>6</title>\n<path fill=\"#e9965a\" stroke=\"black\" d=\"M599,-68C599,-68 485,-68 485,-68 479,-68 473,-62 473,-56 473,-56 473,-12 473,-12 473,-6 479,0 485,0 485,0 599,0 599,0 605,0 611,-6 611,-12 611,-12 611,-56 611,-56 611,-62 605,-68 599,-68\"/>\n<text text-anchor=\"middle\" x=\"542\" y=\"-52.8\" font-family=\"Helvetica,sans-Serif\" font-size=\"14.00\">gini = 0.243</text>\n<text text-anchor=\"middle\" x=\"542\" y=\"-37.8\" font-family=\"Helvetica,sans-Serif\" font-size=\"14.00\">samples = 2140</text>\n<text text-anchor=\"middle\" x=\"542\" y=\"-22.8\" font-family=\"Helvetica,sans-Serif\" font-size=\"14.00\">value = [1837, 303]</text>\n<text text-anchor=\"middle\" x=\"542\" y=\"-7.8\" font-family=\"Helvetica,sans-Serif\" font-size=\"14.00\">class = não</text>\n</g>\n<!-- 4&#45;&gt;6 -->\n<g id=\"edge6\" class=\"edge\">\n<title>4&#45;&gt;6</title>\n<path fill=\"none\" stroke=\"black\" d=\"M445.97,-103.73C459.1,-94.33 473.05,-84.35 486.13,-74.99\"/>\n<polygon fill=\"black\" stroke=\"black\" points=\"488.15,-77.85 494.24,-69.18 484.07,-72.15 488.15,-77.85\"/>\n</g>\n</g>\n</svg>\n",
      "text/plain": [
       "<graphviz.sources.Source at 0x1f2a9e4fdc0>"
      ]
     },
     "execution_count": 126,
     "metadata": {},
     "output_type": "execute_result"
    }
   ],
   "source": [
    "modelo.fit(x_bad, y_bad)\n",
    "\n",
    "features = x_bad.columns\n",
    "\n",
    "dot_data = export_graphviz(\n",
    "    modelo,\n",
    "    out_file=None,\n",
    "    filled=True,\n",
    "    rounded=True,\n",
    "    class_names=[\"não\", \"sim\"],\n",
    "    feature_names=features,\n",
    ")\n",
    "\n",
    "graph = graphviz.Source(dot_data)\n",
    "graph"
   ]
  },
  {
   "attachments": {},
   "cell_type": "markdown",
   "metadata": {},
   "source": [
    "### GroupKFold com Decision Tree Classifier com Maior Profundidade e Análise da Árvore"
   ]
  },
  {
   "cell_type": "code",
   "execution_count": 127,
   "metadata": {
    "colab": {
     "base_uri": "https://localhost:8080/",
     "height": 51
    },
    "colab_type": "code",
    "id": "zdfgLexRPQ54",
    "outputId": "48f1c6be-519c-4d6d-b127-ba7a0e1537be",
    "vscode": {
     "languageId": "python"
    }
   },
   "outputs": [
    {
     "name": "stdout",
     "output_type": "stream",
     "text": [
      "Tempo de Treinamento: 0.09 segundos\n",
      "Acurácia Média: 78.67%\n",
      "Intervalo de Acurácias: 76.40% a 80.94%\n"
     ]
    }
   ],
   "source": [
    "SEED = 301\n",
    "np.random.seed(SEED)\n",
    "\n",
    "cv = GroupKFold(n_splits=10)\n",
    "modelo = DecisionTreeClassifier(max_depth=3)\n",
    "\n",
    "tic = time.time()\n",
    "results = cross_validate(\n",
    "    modelo, x_bad, y_bad, cv=cv, groups=df.modelo, return_train_score=False\n",
    ")\n",
    "tac = time.time()\n",
    "\n",
    "print(f\"Tempo de Treinamento: {'{:.2f}'.format(tac - tic)} segundos\")\n",
    "print_results(results)"
   ]
  },
  {
   "cell_type": "code",
   "execution_count": 128,
   "metadata": {
    "colab": {
     "base_uri": "https://localhost:8080/",
     "height": 598
    },
    "colab_type": "code",
    "id": "kSe6rPpdQ4Wy",
    "outputId": "588058cc-40cc-4876-fc52-dc979d69c8fa",
    "vscode": {
     "languageId": "python"
    }
   },
   "outputs": [
    {
     "data": {
      "image/svg+xml": "<?xml version=\"1.0\" encoding=\"UTF-8\" standalone=\"no\"?>\n<!DOCTYPE svg PUBLIC \"-//W3C//DTD SVG 1.1//EN\"\n \"http://www.w3.org/Graphics/SVG/1.1/DTD/svg11.dtd\">\n<!-- Generated by graphviz version 7.0.2 (20221119.0110)\n -->\n<!-- Title: Tree Pages: 1 -->\n<svg width=\"899pt\" height=\"433pt\"\n viewBox=\"0.00 0.00 899.00 433.00\" xmlns=\"http://www.w3.org/2000/svg\" xmlns:xlink=\"http://www.w3.org/1999/xlink\">\n<g id=\"graph0\" class=\"graph\" transform=\"scale(1 1) rotate(0) translate(4 429)\">\n<title>Tree</title>\n<polygon fill=\"white\" stroke=\"none\" points=\"-4,4 -4,-429 895,-429 895,4 -4,4\"/>\n<!-- 0 -->\n<g id=\"node1\" class=\"node\">\n<title>0</title>\n<path fill=\"#c8e4f8\" stroke=\"black\" d=\"M368.5,-425C368.5,-425 245.5,-425 245.5,-425 239.5,-425 233.5,-419 233.5,-413 233.5,-413 233.5,-354 233.5,-354 233.5,-348 239.5,-342 245.5,-342 245.5,-342 368.5,-342 368.5,-342 374.5,-342 380.5,-348 380.5,-354 380.5,-354 380.5,-413 380.5,-413 380.5,-419 374.5,-425 368.5,-425\"/>\n<text text-anchor=\"middle\" x=\"307\" y=\"-409.8\" font-family=\"Helvetica,sans-Serif\" font-size=\"14.00\">preco &lt;= 59982.246</text>\n<text text-anchor=\"middle\" x=\"307\" y=\"-394.8\" font-family=\"Helvetica,sans-Serif\" font-size=\"14.00\">gini = 0.487</text>\n<text text-anchor=\"middle\" x=\"307\" y=\"-379.8\" font-family=\"Helvetica,sans-Serif\" font-size=\"14.00\">samples = 10000</text>\n<text text-anchor=\"middle\" x=\"307\" y=\"-364.8\" font-family=\"Helvetica,sans-Serif\" font-size=\"14.00\">value = [4200, 5800]</text>\n<text text-anchor=\"middle\" x=\"307\" y=\"-349.8\" font-family=\"Helvetica,sans-Serif\" font-size=\"14.00\">class = sim</text>\n</g>\n<!-- 1 -->\n<g id=\"node2\" class=\"node\">\n<title>1</title>\n<path fill=\"#52a9e8\" stroke=\"black\" d=\"M275.5,-306C275.5,-306 152.5,-306 152.5,-306 146.5,-306 140.5,-300 140.5,-294 140.5,-294 140.5,-235 140.5,-235 140.5,-229 146.5,-223 152.5,-223 152.5,-223 275.5,-223 275.5,-223 281.5,-223 287.5,-229 287.5,-235 287.5,-235 287.5,-294 287.5,-294 287.5,-300 281.5,-306 275.5,-306\"/>\n<text text-anchor=\"middle\" x=\"214\" y=\"-290.8\" font-family=\"Helvetica,sans-Serif\" font-size=\"14.00\">preco &lt;= 40083.385</text>\n<text text-anchor=\"middle\" x=\"214\" y=\"-275.8\" font-family=\"Helvetica,sans-Serif\" font-size=\"14.00\">gini = 0.198</text>\n<text text-anchor=\"middle\" x=\"214\" y=\"-260.8\" font-family=\"Helvetica,sans-Serif\" font-size=\"14.00\">samples = 4347</text>\n<text text-anchor=\"middle\" x=\"214\" y=\"-245.8\" font-family=\"Helvetica,sans-Serif\" font-size=\"14.00\">value = [484, 3863]</text>\n<text text-anchor=\"middle\" x=\"214\" y=\"-230.8\" font-family=\"Helvetica,sans-Serif\" font-size=\"14.00\">class = sim</text>\n</g>\n<!-- 0&#45;&gt;1 -->\n<g id=\"edge1\" class=\"edge\">\n<title>0&#45;&gt;1</title>\n<path fill=\"none\" stroke=\"black\" d=\"M274.47,-341.58C267.64,-332.98 260.36,-323.82 253.3,-314.95\"/>\n<polygon fill=\"black\" stroke=\"black\" points=\"256.26,-313.04 247.29,-307.39 250.78,-317.39 256.26,-313.04\"/>\n<text text-anchor=\"middle\" x=\"243.51\" y=\"-327.34\" font-family=\"Helvetica,sans-Serif\" font-size=\"14.00\">True</text>\n</g>\n<!-- 6 -->\n<g id=\"node7\" class=\"node\">\n<title>6</title>\n<path fill=\"#f3c3a0\" stroke=\"black\" d=\"M538,-306C538,-306 372,-306 372,-306 366,-306 360,-300 360,-294 360,-294 360,-235 360,-235 360,-229 366,-223 372,-223 372,-223 538,-223 538,-223 544,-223 550,-229 550,-235 550,-235 550,-294 550,-294 550,-300 544,-306 538,-306\"/>\n<text text-anchor=\"middle\" x=\"455\" y=\"-290.8\" font-family=\"Helvetica,sans-Serif\" font-size=\"14.00\">km_por_ano &lt;= 24124.006</text>\n<text text-anchor=\"middle\" x=\"455\" y=\"-275.8\" font-family=\"Helvetica,sans-Serif\" font-size=\"14.00\">gini = 0.45</text>\n<text text-anchor=\"middle\" x=\"455\" y=\"-260.8\" font-family=\"Helvetica,sans-Serif\" font-size=\"14.00\">samples = 5653</text>\n<text text-anchor=\"middle\" x=\"455\" y=\"-245.8\" font-family=\"Helvetica,sans-Serif\" font-size=\"14.00\">value = [3716, 1937]</text>\n<text text-anchor=\"middle\" x=\"455\" y=\"-230.8\" font-family=\"Helvetica,sans-Serif\" font-size=\"14.00\">class = não</text>\n</g>\n<!-- 0&#45;&gt;6 -->\n<g id=\"edge6\" class=\"edge\">\n<title>0&#45;&gt;6</title>\n<path fill=\"none\" stroke=\"black\" d=\"M358.76,-341.58C370.25,-332.49 382.54,-322.79 394.35,-313.45\"/>\n<polygon fill=\"black\" stroke=\"black\" points=\"396.4,-316.28 402.08,-307.34 392.06,-310.79 396.4,-316.28\"/>\n<text text-anchor=\"middle\" x=\"400.36\" y=\"-327.53\" font-family=\"Helvetica,sans-Serif\" font-size=\"14.00\">False</text>\n</g>\n<!-- 2 -->\n<g id=\"node3\" class=\"node\">\n<title>2</title>\n<path fill=\"#399de5\" stroke=\"black\" d=\"M110,-179.5C110,-179.5 12,-179.5 12,-179.5 6,-179.5 0,-173.5 0,-167.5 0,-167.5 0,-123.5 0,-123.5 0,-117.5 6,-111.5 12,-111.5 12,-111.5 110,-111.5 110,-111.5 116,-111.5 122,-117.5 122,-123.5 122,-123.5 122,-167.5 122,-167.5 122,-173.5 116,-179.5 110,-179.5\"/>\n<text text-anchor=\"middle\" x=\"61\" y=\"-164.3\" font-family=\"Helvetica,sans-Serif\" font-size=\"14.00\">gini = 0.0</text>\n<text text-anchor=\"middle\" x=\"61\" y=\"-149.3\" font-family=\"Helvetica,sans-Serif\" font-size=\"14.00\">samples = 1935</text>\n<text text-anchor=\"middle\" x=\"61\" y=\"-134.3\" font-family=\"Helvetica,sans-Serif\" font-size=\"14.00\">value = [0, 1935]</text>\n<text text-anchor=\"middle\" x=\"61\" y=\"-119.3\" font-family=\"Helvetica,sans-Serif\" font-size=\"14.00\">class = sim</text>\n</g>\n<!-- 1&#45;&gt;2 -->\n<g id=\"edge2\" class=\"edge\">\n<title>1&#45;&gt;2</title>\n<path fill=\"none\" stroke=\"black\" d=\"M160.49,-222.58C145.22,-210.9 128.6,-198.19 113.39,-186.57\"/>\n<polygon fill=\"black\" stroke=\"black\" points=\"115.9,-184.07 105.83,-180.78 111.65,-189.64 115.9,-184.07\"/>\n</g>\n<!-- 3 -->\n<g id=\"node4\" class=\"node\">\n<title>3</title>\n<path fill=\"#6bb6ec\" stroke=\"black\" d=\"M275.5,-187C275.5,-187 152.5,-187 152.5,-187 146.5,-187 140.5,-181 140.5,-175 140.5,-175 140.5,-116 140.5,-116 140.5,-110 146.5,-104 152.5,-104 152.5,-104 275.5,-104 275.5,-104 281.5,-104 287.5,-110 287.5,-116 287.5,-116 287.5,-175 287.5,-175 287.5,-181 281.5,-187 275.5,-187\"/>\n<text text-anchor=\"middle\" x=\"214\" y=\"-171.8\" font-family=\"Helvetica,sans-Serif\" font-size=\"14.00\">preco &lt;= 41083.029</text>\n<text text-anchor=\"middle\" x=\"214\" y=\"-156.8\" font-family=\"Helvetica,sans-Serif\" font-size=\"14.00\">gini = 0.321</text>\n<text text-anchor=\"middle\" x=\"214\" y=\"-141.8\" font-family=\"Helvetica,sans-Serif\" font-size=\"14.00\">samples = 2412</text>\n<text text-anchor=\"middle\" x=\"214\" y=\"-126.8\" font-family=\"Helvetica,sans-Serif\" font-size=\"14.00\">value = [484, 1928]</text>\n<text text-anchor=\"middle\" x=\"214\" y=\"-111.8\" font-family=\"Helvetica,sans-Serif\" font-size=\"14.00\">class = sim</text>\n</g>\n<!-- 1&#45;&gt;3 -->\n<g id=\"edge3\" class=\"edge\">\n<title>1&#45;&gt;3</title>\n<path fill=\"none\" stroke=\"black\" d=\"M214,-222.58C214,-214.79 214,-206.53 214,-198.45\"/>\n<polygon fill=\"black\" stroke=\"black\" points=\"217.5,-198.71 214,-188.71 210.5,-198.71 217.5,-198.71\"/>\n</g>\n<!-- 4 -->\n<g id=\"node5\" class=\"node\">\n<title>4</title>\n<path fill=\"#95cbf1\" stroke=\"black\" d=\"M114.5,-68C114.5,-68 25.5,-68 25.5,-68 19.5,-68 13.5,-62 13.5,-56 13.5,-56 13.5,-12 13.5,-12 13.5,-6 19.5,0 25.5,0 25.5,0 114.5,0 114.5,0 120.5,0 126.5,-6 126.5,-12 126.5,-12 126.5,-56 126.5,-56 126.5,-62 120.5,-68 114.5,-68\"/>\n<text text-anchor=\"middle\" x=\"70\" y=\"-52.8\" font-family=\"Helvetica,sans-Serif\" font-size=\"14.00\">gini = 0.434</text>\n<text text-anchor=\"middle\" x=\"70\" y=\"-37.8\" font-family=\"Helvetica,sans-Serif\" font-size=\"14.00\">samples = 110</text>\n<text text-anchor=\"middle\" x=\"70\" y=\"-22.8\" font-family=\"Helvetica,sans-Serif\" font-size=\"14.00\">value = [35, 75]</text>\n<text text-anchor=\"middle\" x=\"70\" y=\"-7.8\" font-family=\"Helvetica,sans-Serif\" font-size=\"14.00\">class = sim</text>\n</g>\n<!-- 3&#45;&gt;4 -->\n<g id=\"edge4\" class=\"edge\">\n<title>3&#45;&gt;4</title>\n<path fill=\"none\" stroke=\"black\" d=\"M160.38,-103.73C148.15,-94.42 135.15,-84.54 122.95,-75.26\"/>\n<polygon fill=\"black\" stroke=\"black\" points=\"125.07,-72.48 115,-69.22 120.84,-78.05 125.07,-72.48\"/>\n</g>\n<!-- 5 -->\n<g id=\"node6\" class=\"node\">\n<title>5</title>\n<path fill=\"#69b5eb\" stroke=\"black\" d=\"M271,-68C271,-68 157,-68 157,-68 151,-68 145,-62 145,-56 145,-56 145,-12 145,-12 145,-6 151,0 157,0 157,0 271,0 271,0 277,0 283,-6 283,-12 283,-12 283,-56 283,-56 283,-62 277,-68 271,-68\"/>\n<text text-anchor=\"middle\" x=\"214\" y=\"-52.8\" font-family=\"Helvetica,sans-Serif\" font-size=\"14.00\">gini = 0.314</text>\n<text text-anchor=\"middle\" x=\"214\" y=\"-37.8\" font-family=\"Helvetica,sans-Serif\" font-size=\"14.00\">samples = 2302</text>\n<text text-anchor=\"middle\" x=\"214\" y=\"-22.8\" font-family=\"Helvetica,sans-Serif\" font-size=\"14.00\">value = [449, 1853]</text>\n<text text-anchor=\"middle\" x=\"214\" y=\"-7.8\" font-family=\"Helvetica,sans-Serif\" font-size=\"14.00\">class = sim</text>\n</g>\n<!-- 3&#45;&gt;5 -->\n<g id=\"edge5\" class=\"edge\">\n<title>3&#45;&gt;5</title>\n<path fill=\"none\" stroke=\"black\" d=\"M214,-103.73C214,-95.88 214,-87.63 214,-79.67\"/>\n<polygon fill=\"black\" stroke=\"black\" points=\"217.5,-79.81 214,-69.81 210.5,-79.81 217.5,-79.81\"/>\n</g>\n<!-- 7 -->\n<g id=\"node8\" class=\"node\">\n<title>7</title>\n<path fill=\"#fcefe5\" stroke=\"black\" d=\"M516,-187C516,-187 394,-187 394,-187 388,-187 382,-181 382,-175 382,-175 382,-116 382,-116 382,-110 388,-104 394,-104 394,-104 516,-104 516,-104 522,-104 528,-110 528,-116 528,-116 528,-175 528,-175 528,-181 522,-187 516,-187\"/>\n<text text-anchor=\"middle\" x=\"455\" y=\"-171.8\" font-family=\"Helvetica,sans-Serif\" font-size=\"14.00\">preco &lt;= 99974.41</text>\n<text text-anchor=\"middle\" x=\"455\" y=\"-156.8\" font-family=\"Helvetica,sans-Serif\" font-size=\"14.00\">gini = 0.498</text>\n<text text-anchor=\"middle\" x=\"455\" y=\"-141.8\" font-family=\"Helvetica,sans-Serif\" font-size=\"14.00\">samples = 3513</text>\n<text text-anchor=\"middle\" x=\"455\" y=\"-126.8\" font-family=\"Helvetica,sans-Serif\" font-size=\"14.00\">value = [1879, 1634]</text>\n<text text-anchor=\"middle\" x=\"455\" y=\"-111.8\" font-family=\"Helvetica,sans-Serif\" font-size=\"14.00\">class = não</text>\n</g>\n<!-- 6&#45;&gt;7 -->\n<g id=\"edge7\" class=\"edge\">\n<title>6&#45;&gt;7</title>\n<path fill=\"none\" stroke=\"black\" d=\"M455,-222.58C455,-214.79 455,-206.53 455,-198.45\"/>\n<polygon fill=\"black\" stroke=\"black\" points=\"458.5,-198.71 455,-188.71 451.5,-198.71 458.5,-198.71\"/>\n</g>\n<!-- 10 -->\n<g id=\"node11\" class=\"node\">\n<title>10</title>\n<path fill=\"#e9965a\" stroke=\"black\" d=\"M743.5,-187C743.5,-187 612.5,-187 612.5,-187 606.5,-187 600.5,-181 600.5,-175 600.5,-175 600.5,-116 600.5,-116 600.5,-110 606.5,-104 612.5,-104 612.5,-104 743.5,-104 743.5,-104 749.5,-104 755.5,-110 755.5,-116 755.5,-116 755.5,-175 755.5,-175 755.5,-181 749.5,-187 743.5,-187\"/>\n<text text-anchor=\"middle\" x=\"678\" y=\"-171.8\" font-family=\"Helvetica,sans-Serif\" font-size=\"14.00\">preco &lt;= 100076.957</text>\n<text text-anchor=\"middle\" x=\"678\" y=\"-156.8\" font-family=\"Helvetica,sans-Serif\" font-size=\"14.00\">gini = 0.243</text>\n<text text-anchor=\"middle\" x=\"678\" y=\"-141.8\" font-family=\"Helvetica,sans-Serif\" font-size=\"14.00\">samples = 2140</text>\n<text text-anchor=\"middle\" x=\"678\" y=\"-126.8\" font-family=\"Helvetica,sans-Serif\" font-size=\"14.00\">value = [1837, 303]</text>\n<text text-anchor=\"middle\" x=\"678\" y=\"-111.8\" font-family=\"Helvetica,sans-Serif\" font-size=\"14.00\">class = não</text>\n</g>\n<!-- 6&#45;&gt;10 -->\n<g id=\"edge10\" class=\"edge\">\n<title>6&#45;&gt;10</title>\n<path fill=\"none\" stroke=\"black\" d=\"M532.99,-222.58C551.41,-212.92 571.18,-202.55 590,-192.67\"/>\n<polygon fill=\"black\" stroke=\"black\" points=\"591.48,-195.85 598.71,-188.1 588.23,-189.65 591.48,-195.85\"/>\n</g>\n<!-- 8 -->\n<g id=\"node9\" class=\"node\">\n<title>8</title>\n<path fill=\"#f9e0ce\" stroke=\"black\" d=\"M435,-68C435,-68 313,-68 313,-68 307,-68 301,-62 301,-56 301,-56 301,-12 301,-12 301,-6 307,0 313,0 313,0 435,0 435,0 441,0 447,-6 447,-12 447,-12 447,-56 447,-56 447,-62 441,-68 435,-68\"/>\n<text text-anchor=\"middle\" x=\"374\" y=\"-52.8\" font-family=\"Helvetica,sans-Serif\" font-size=\"14.00\">gini = 0.49</text>\n<text text-anchor=\"middle\" x=\"374\" y=\"-37.8\" font-family=\"Helvetica,sans-Serif\" font-size=\"14.00\">samples = 2944</text>\n<text text-anchor=\"middle\" x=\"374\" y=\"-22.8\" font-family=\"Helvetica,sans-Serif\" font-size=\"14.00\">value = [1682, 1262]</text>\n<text text-anchor=\"middle\" x=\"374\" y=\"-7.8\" font-family=\"Helvetica,sans-Serif\" font-size=\"14.00\">class = não</text>\n</g>\n<!-- 7&#45;&gt;8 -->\n<g id=\"edge8\" class=\"edge\">\n<title>7&#45;&gt;8</title>\n<path fill=\"none\" stroke=\"black\" d=\"M424.84,-103.73C418.5,-95.15 411.79,-86.09 405.41,-77.46\"/>\n<polygon fill=\"black\" stroke=\"black\" points=\"408.29,-75.47 399.53,-69.52 402.67,-79.64 408.29,-75.47\"/>\n</g>\n<!-- 9 -->\n<g id=\"node10\" class=\"node\">\n<title>9</title>\n<path fill=\"#a2d1f3\" stroke=\"black\" d=\"M583,-68C583,-68 477,-68 477,-68 471,-68 465,-62 465,-56 465,-56 465,-12 465,-12 465,-6 471,0 477,0 477,0 583,0 583,0 589,0 595,-6 595,-12 595,-12 595,-56 595,-56 595,-62 589,-68 583,-68\"/>\n<text text-anchor=\"middle\" x=\"530\" y=\"-52.8\" font-family=\"Helvetica,sans-Serif\" font-size=\"14.00\">gini = 0.453</text>\n<text text-anchor=\"middle\" x=\"530\" y=\"-37.8\" font-family=\"Helvetica,sans-Serif\" font-size=\"14.00\">samples = 569</text>\n<text text-anchor=\"middle\" x=\"530\" y=\"-22.8\" font-family=\"Helvetica,sans-Serif\" font-size=\"14.00\">value = [197, 372]</text>\n<text text-anchor=\"middle\" x=\"530\" y=\"-7.8\" font-family=\"Helvetica,sans-Serif\" font-size=\"14.00\">class = sim</text>\n</g>\n<!-- 7&#45;&gt;9 -->\n<g id=\"edge9\" class=\"edge\">\n<title>7&#45;&gt;9</title>\n<path fill=\"none\" stroke=\"black\" d=\"M482.93,-103.73C488.74,-95.24 494.88,-86.28 500.73,-77.73\"/>\n<polygon fill=\"black\" stroke=\"black\" points=\"503.57,-79.78 506.34,-69.55 497.8,-75.82 503.57,-79.78\"/>\n</g>\n<!-- 11 -->\n<g id=\"node12\" class=\"node\">\n<title>11</title>\n<path fill=\"#e68742\" stroke=\"black\" d=\"M731,-68C731,-68 625,-68 625,-68 619,-68 613,-62 613,-56 613,-56 613,-12 613,-12 613,-6 619,0 625,0 625,0 731,0 731,0 737,0 743,-6 743,-12 743,-12 743,-56 743,-56 743,-62 737,-68 731,-68\"/>\n<text text-anchor=\"middle\" x=\"678\" y=\"-52.8\" font-family=\"Helvetica,sans-Serif\" font-size=\"14.00\">gini = 0.082</text>\n<text text-anchor=\"middle\" x=\"678\" y=\"-37.8\" font-family=\"Helvetica,sans-Serif\" font-size=\"14.00\">samples = 1809</text>\n<text text-anchor=\"middle\" x=\"678\" y=\"-22.8\" font-family=\"Helvetica,sans-Serif\" font-size=\"14.00\">value = [1732, 77]</text>\n<text text-anchor=\"middle\" x=\"678\" y=\"-7.8\" font-family=\"Helvetica,sans-Serif\" font-size=\"14.00\">class = não</text>\n</g>\n<!-- 10&#45;&gt;11 -->\n<g id=\"edge11\" class=\"edge\">\n<title>10&#45;&gt;11</title>\n<path fill=\"none\" stroke=\"black\" d=\"M678,-103.73C678,-95.88 678,-87.63 678,-79.67\"/>\n<polygon fill=\"black\" stroke=\"black\" points=\"681.5,-79.81 678,-69.81 674.5,-79.81 681.5,-79.81\"/>\n</g>\n<!-- 12 -->\n<g id=\"node13\" class=\"node\">\n<title>12</title>\n<path fill=\"#95cbf1\" stroke=\"black\" d=\"M879,-68C879,-68 773,-68 773,-68 767,-68 761,-62 761,-56 761,-56 761,-12 761,-12 761,-6 767,0 773,0 773,0 879,0 879,0 885,0 891,-6 891,-12 891,-12 891,-56 891,-56 891,-62 885,-68 879,-68\"/>\n<text text-anchor=\"middle\" x=\"826\" y=\"-52.8\" font-family=\"Helvetica,sans-Serif\" font-size=\"14.00\">gini = 0.433</text>\n<text text-anchor=\"middle\" x=\"826\" y=\"-37.8\" font-family=\"Helvetica,sans-Serif\" font-size=\"14.00\">samples = 331</text>\n<text text-anchor=\"middle\" x=\"826\" y=\"-22.8\" font-family=\"Helvetica,sans-Serif\" font-size=\"14.00\">value = [105, 226]</text>\n<text text-anchor=\"middle\" x=\"826\" y=\"-7.8\" font-family=\"Helvetica,sans-Serif\" font-size=\"14.00\">class = sim</text>\n</g>\n<!-- 10&#45;&gt;12 -->\n<g id=\"edge12\" class=\"edge\">\n<title>10&#45;&gt;12</title>\n<path fill=\"none\" stroke=\"black\" d=\"M733.11,-103.73C745.81,-94.33 759.3,-84.35 771.95,-74.99\"/>\n<polygon fill=\"black\" stroke=\"black\" points=\"773.82,-77.96 779.78,-69.2 769.65,-72.33 773.82,-77.96\"/>\n</g>\n</g>\n</svg>\n",
      "text/plain": [
       "<graphviz.sources.Source at 0x1f2b7938a90>"
      ]
     },
     "execution_count": 128,
     "metadata": {},
     "output_type": "execute_result"
    }
   ],
   "source": [
    "modelo.fit(x_bad, y_bad)\n",
    "\n",
    "features = x_bad.columns\n",
    "\n",
    "dot_data = export_graphviz(\n",
    "    modelo,\n",
    "    out_file=None,\n",
    "    filled=True,\n",
    "    rounded=True,\n",
    "    class_names=[\"não\", \"sim\"],\n",
    "    feature_names=features,\n",
    ")\n",
    "\n",
    "graph = graphviz.Source(dot_data)\n",
    "graph"
   ]
  },
  {
   "cell_type": "code",
   "execution_count": 129,
   "metadata": {
    "colab": {
     "base_uri": "https://localhost:8080/",
     "height": 51
    },
    "colab_type": "code",
    "id": "2mZNqHhCQ7DO",
    "outputId": "ef42ae61-9da6-4a4e-c071-24d863c3d76c",
    "vscode": {
     "languageId": "python"
    }
   },
   "outputs": [
    {
     "name": "stdout",
     "output_type": "stream",
     "text": [
      "Tempo de Treinamento: 0.19 segundos\n",
      "Acurácia Média: 77.19%\n",
      "Intervalo de Acurácias: 75.26% a 79.13%\n"
     ]
    }
   ],
   "source": [
    "SEED = 301\n",
    "np.random.seed(SEED)\n",
    "\n",
    "cv = GroupKFold(n_splits=10)\n",
    "modelo = DecisionTreeClassifier(max_depth=10)\n",
    "\n",
    "tic = time.time()\n",
    "results = cross_validate(\n",
    "    modelo, x_bad, y_bad, cv=cv, groups=df.modelo, return_train_score=False\n",
    ")\n",
    "tac = time.time()\n",
    "\n",
    "print(f\"Tempo de Treinamento: {'{:.2f}'.format(tac - tic)} segundos\")\n",
    "print_results(results)"
   ]
  },
  {
   "attachments": {},
   "cell_type": "markdown",
   "metadata": {
    "colab_type": "text",
    "id": "GMXJcGqWTiIp"
   },
   "source": [
    "### Explorando Hiperparâmetros em uma Dimensão"
   ]
  },
  {
   "cell_type": "code",
   "execution_count": 130,
   "metadata": {
    "colab": {
     "base_uri": "https://localhost:8080/",
     "height": 748
    },
    "colab_type": "code",
    "id": "xTV7Tc4aRFTF",
    "outputId": "e6121d96-60e8-4e4f-8b82-ea7f2d67eae5",
    "vscode": {
     "languageId": "python"
    }
   },
   "outputs": [
    {
     "name": "stdout",
     "output_type": "stream",
     "text": [
      "Max Depth = 1\tAcurácia de Treino = 75.79\tAcurácia de Teste = 75.78\n",
      "Max Depth = 2\tAcurácia de Treino = 75.79\tAcurácia de Teste = 75.78\n",
      "Max Depth = 3\tAcurácia de Treino = 78.75\tAcurácia de Teste = 78.67\n",
      "Max Depth = 4\tAcurácia de Treino = 78.79\tAcurácia de Teste = 78.63\n",
      "Max Depth = 5\tAcurácia de Treino = 78.94\tAcurácia de Teste = 78.56\n",
      "Max Depth = 6\tAcurácia de Treino = 79.17\tAcurácia de Teste = 78.12\n",
      "Max Depth = 7\tAcurácia de Treino = 79.50\tAcurácia de Teste = 77.96\n",
      "Max Depth = 8\tAcurácia de Treino = 79.89\tAcurácia de Teste = 77.86\n",
      "Max Depth = 9\tAcurácia de Treino = 80.46\tAcurácia de Teste = 77.38\n",
      "Max Depth = 10\tAcurácia de Treino = 81.16\tAcurácia de Teste = 77.19\n",
      "Max Depth = 11\tAcurácia de Treino = 82.03\tAcurácia de Teste = 76.97\n",
      "Max Depth = 12\tAcurácia de Treino = 82.89\tAcurácia de Teste = 76.49\n",
      "Max Depth = 13\tAcurácia de Treino = 83.95\tAcurácia de Teste = 75.81\n",
      "Max Depth = 14\tAcurácia de Treino = 85.03\tAcurácia de Teste = 75.66\n",
      "Max Depth = 15\tAcurácia de Treino = 86.14\tAcurácia de Teste = 75.16\n",
      "Max Depth = 16\tAcurácia de Treino = 87.19\tAcurácia de Teste = 75.11\n",
      "Max Depth = 17\tAcurácia de Treino = 88.31\tAcurácia de Teste = 74.74\n",
      "Max Depth = 18\tAcurácia de Treino = 89.26\tAcurácia de Teste = 74.33\n",
      "Max Depth = 19\tAcurácia de Treino = 90.32\tAcurácia de Teste = 74.34\n",
      "Max Depth = 20\tAcurácia de Treino = 91.32\tAcurácia de Teste = 74.22\n",
      "Max Depth = 21\tAcurácia de Treino = 92.14\tAcurácia de Teste = 73.80\n",
      "Max Depth = 22\tAcurácia de Treino = 93.02\tAcurácia de Teste = 73.81\n",
      "Max Depth = 23\tAcurácia de Treino = 93.80\tAcurácia de Teste = 73.38\n",
      "Max Depth = 24\tAcurácia de Treino = 94.47\tAcurácia de Teste = 73.43\n",
      "Max Depth = 25\tAcurácia de Treino = 95.16\tAcurácia de Teste = 73.14\n",
      "Max Depth = 26\tAcurácia de Treino = 95.74\tAcurácia de Teste = 73.04\n",
      "Max Depth = 27\tAcurácia de Treino = 96.33\tAcurácia de Teste = 72.91\n",
      "Max Depth = 28\tAcurácia de Treino = 96.75\tAcurácia de Teste = 72.66\n",
      "Max Depth = 29\tAcurácia de Treino = 97.10\tAcurácia de Teste = 72.73\n",
      "Max Depth = 30\tAcurácia de Treino = 97.43\tAcurácia de Teste = 72.81\n",
      "Max Depth = 31\tAcurácia de Treino = 97.80\tAcurácia de Teste = 72.86\n",
      "Max Depth = 32\tAcurácia de Treino = 98.10\tAcurácia de Teste = 72.52\n"
     ]
    },
    {
     "data": {
      "text/html": [
       "<div>\n",
       "<style scoped>\n",
       "    .dataframe tbody tr th:only-of-type {\n",
       "        vertical-align: middle;\n",
       "    }\n",
       "\n",
       "    .dataframe tbody tr th {\n",
       "        vertical-align: top;\n",
       "    }\n",
       "\n",
       "    .dataframe thead th {\n",
       "        text-align: right;\n",
       "    }\n",
       "</style>\n",
       "<table border=\"1\" class=\"dataframe\">\n",
       "  <thead>\n",
       "    <tr style=\"text-align: right;\">\n",
       "      <th></th>\n",
       "      <th>max_depth</th>\n",
       "      <th>train</th>\n",
       "      <th>test</th>\n",
       "    </tr>\n",
       "  </thead>\n",
       "  <tbody>\n",
       "    <tr>\n",
       "      <th>0</th>\n",
       "      <td>1</td>\n",
       "      <td>75.791169</td>\n",
       "      <td>75.784219</td>\n",
       "    </tr>\n",
       "    <tr>\n",
       "      <th>1</th>\n",
       "      <td>2</td>\n",
       "      <td>75.791169</td>\n",
       "      <td>75.784219</td>\n",
       "    </tr>\n",
       "    <tr>\n",
       "      <th>2</th>\n",
       "      <td>3</td>\n",
       "      <td>78.750993</td>\n",
       "      <td>78.672633</td>\n",
       "    </tr>\n",
       "    <tr>\n",
       "      <th>3</th>\n",
       "      <td>4</td>\n",
       "      <td>78.787628</td>\n",
       "      <td>78.632803</td>\n",
       "    </tr>\n",
       "    <tr>\n",
       "      <th>4</th>\n",
       "      <td>5</td>\n",
       "      <td>78.941007</td>\n",
       "      <td>78.555912</td>\n",
       "    </tr>\n",
       "    <tr>\n",
       "      <th>5</th>\n",
       "      <td>6</td>\n",
       "      <td>79.170115</td>\n",
       "      <td>78.123266</td>\n",
       "    </tr>\n",
       "    <tr>\n",
       "      <th>6</th>\n",
       "      <td>7</td>\n",
       "      <td>79.496806</td>\n",
       "      <td>77.963185</td>\n",
       "    </tr>\n",
       "    <tr>\n",
       "      <th>7</th>\n",
       "      <td>8</td>\n",
       "      <td>79.887810</td>\n",
       "      <td>77.857951</td>\n",
       "    </tr>\n",
       "    <tr>\n",
       "      <th>8</th>\n",
       "      <td>9</td>\n",
       "      <td>80.459009</td>\n",
       "      <td>77.376956</td>\n",
       "    </tr>\n",
       "    <tr>\n",
       "      <th>9</th>\n",
       "      <td>10</td>\n",
       "      <td>81.158994</td>\n",
       "      <td>77.194204</td>\n",
       "    </tr>\n",
       "    <tr>\n",
       "      <th>10</th>\n",
       "      <td>11</td>\n",
       "      <td>82.032490</td>\n",
       "      <td>76.971552</td>\n",
       "    </tr>\n",
       "    <tr>\n",
       "      <th>11</th>\n",
       "      <td>12</td>\n",
       "      <td>82.894797</td>\n",
       "      <td>76.494399</td>\n",
       "    </tr>\n",
       "    <tr>\n",
       "      <th>12</th>\n",
       "      <td>13</td>\n",
       "      <td>83.947087</td>\n",
       "      <td>75.807331</td>\n",
       "    </tr>\n",
       "    <tr>\n",
       "      <th>13</th>\n",
       "      <td>14</td>\n",
       "      <td>85.029664</td>\n",
       "      <td>75.660482</td>\n",
       "    </tr>\n",
       "    <tr>\n",
       "      <th>14</th>\n",
       "      <td>15</td>\n",
       "      <td>86.143009</td>\n",
       "      <td>75.156330</td>\n",
       "    </tr>\n",
       "    <tr>\n",
       "      <th>15</th>\n",
       "      <td>16</td>\n",
       "      <td>87.191999</td>\n",
       "      <td>75.107830</td>\n",
       "    </tr>\n",
       "    <tr>\n",
       "      <th>16</th>\n",
       "      <td>17</td>\n",
       "      <td>88.309794</td>\n",
       "      <td>74.735658</td>\n",
       "    </tr>\n",
       "    <tr>\n",
       "      <th>17</th>\n",
       "      <td>18</td>\n",
       "      <td>89.258706</td>\n",
       "      <td>74.333755</td>\n",
       "    </tr>\n",
       "    <tr>\n",
       "      <th>18</th>\n",
       "      <td>19</td>\n",
       "      <td>90.324252</td>\n",
       "      <td>74.337896</td>\n",
       "    </tr>\n",
       "    <tr>\n",
       "      <th>19</th>\n",
       "      <td>20</td>\n",
       "      <td>91.321085</td>\n",
       "      <td>74.223478</td>\n",
       "    </tr>\n",
       "    <tr>\n",
       "      <th>20</th>\n",
       "      <td>21</td>\n",
       "      <td>92.138773</td>\n",
       "      <td>73.801823</td>\n",
       "    </tr>\n",
       "    <tr>\n",
       "      <th>21</th>\n",
       "      <td>22</td>\n",
       "      <td>93.018677</td>\n",
       "      <td>73.811818</td>\n",
       "    </tr>\n",
       "    <tr>\n",
       "      <th>22</th>\n",
       "      <td>23</td>\n",
       "      <td>93.795631</td>\n",
       "      <td>73.381112</td>\n",
       "    </tr>\n",
       "    <tr>\n",
       "      <th>23</th>\n",
       "      <td>24</td>\n",
       "      <td>94.472209</td>\n",
       "      <td>73.431819</td>\n",
       "    </tr>\n",
       "    <tr>\n",
       "      <th>24</th>\n",
       "      <td>25</td>\n",
       "      <td>95.158024</td>\n",
       "      <td>73.141734</td>\n",
       "    </tr>\n",
       "    <tr>\n",
       "      <th>25</th>\n",
       "      <td>26</td>\n",
       "      <td>95.744492</td>\n",
       "      <td>73.040462</td>\n",
       "    </tr>\n",
       "    <tr>\n",
       "      <th>26</th>\n",
       "      <td>27</td>\n",
       "      <td>96.329320</td>\n",
       "      <td>72.913608</td>\n",
       "    </tr>\n",
       "    <tr>\n",
       "      <th>27</th>\n",
       "      <td>28</td>\n",
       "      <td>96.752575</td>\n",
       "      <td>72.663169</td>\n",
       "    </tr>\n",
       "    <tr>\n",
       "      <th>28</th>\n",
       "      <td>29</td>\n",
       "      <td>97.100106</td>\n",
       "      <td>72.734907</td>\n",
       "    </tr>\n",
       "    <tr>\n",
       "      <th>29</th>\n",
       "      <td>30</td>\n",
       "      <td>97.431075</td>\n",
       "      <td>72.813282</td>\n",
       "    </tr>\n",
       "    <tr>\n",
       "      <th>30</th>\n",
       "      <td>31</td>\n",
       "      <td>97.798758</td>\n",
       "      <td>72.860037</td>\n",
       "    </tr>\n",
       "    <tr>\n",
       "      <th>31</th>\n",
       "      <td>32</td>\n",
       "      <td>98.104373</td>\n",
       "      <td>72.518877</td>\n",
       "    </tr>\n",
       "  </tbody>\n",
       "</table>\n",
       "</div>"
      ],
      "text/plain": [
       "    max_depth      train       test\n",
       "0           1  75.791169  75.784219\n",
       "1           2  75.791169  75.784219\n",
       "2           3  78.750993  78.672633\n",
       "3           4  78.787628  78.632803\n",
       "4           5  78.941007  78.555912\n",
       "5           6  79.170115  78.123266\n",
       "6           7  79.496806  77.963185\n",
       "7           8  79.887810  77.857951\n",
       "8           9  80.459009  77.376956\n",
       "9          10  81.158994  77.194204\n",
       "10         11  82.032490  76.971552\n",
       "11         12  82.894797  76.494399\n",
       "12         13  83.947087  75.807331\n",
       "13         14  85.029664  75.660482\n",
       "14         15  86.143009  75.156330\n",
       "15         16  87.191999  75.107830\n",
       "16         17  88.309794  74.735658\n",
       "17         18  89.258706  74.333755\n",
       "18         19  90.324252  74.337896\n",
       "19         20  91.321085  74.223478\n",
       "20         21  92.138773  73.801823\n",
       "21         22  93.018677  73.811818\n",
       "22         23  93.795631  73.381112\n",
       "23         24  94.472209  73.431819\n",
       "24         25  95.158024  73.141734\n",
       "25         26  95.744492  73.040462\n",
       "26         27  96.329320  72.913608\n",
       "27         28  96.752575  72.663169\n",
       "28         29  97.100106  72.734907\n",
       "29         30  97.431075  72.813282\n",
       "30         31  97.798758  72.860037\n",
       "31         32  98.104373  72.518877"
      ]
     },
     "execution_count": 130,
     "metadata": {},
     "output_type": "execute_result"
    }
   ],
   "source": [
    "def run_dtc_model(max_depth):\n",
    "    SEED = 301\n",
    "    np.random.seed(SEED)\n",
    "\n",
    "    cv = GroupKFold(n_splits=10)\n",
    "    modelo = DecisionTreeClassifier(max_depth=max_depth)\n",
    "    results = cross_validate(\n",
    "        modelo, x_bad, y_bad, cv=cv, groups=df.modelo, return_train_score=True\n",
    "    )\n",
    "\n",
    "    train_score = results[\"train_score\"].mean() * 100\n",
    "    test_score = results[\"test_score\"].mean() * 100\n",
    "\n",
    "    print(\n",
    "        \"Max Depth = %d\\tAcurácia de Treino = %.2f\\tAcurácia de Teste = %.2f\"\n",
    "        % (max_depth, train_score, test_score)\n",
    "    )\n",
    "    return [max_depth, train_score, test_score]\n",
    "\n",
    "\n",
    "results = [run_dtc_model(i) for i in range(1, 33)]\n",
    "results = pd.DataFrame(results, columns=[\"max_depth\", \"train\", \"test\"])\n",
    "results"
   ]
  },
  {
   "cell_type": "code",
   "execution_count": 131,
   "metadata": {
    "colab": {
     "base_uri": "https://localhost:8080/",
     "height": 301
    },
    "colab_type": "code",
    "id": "6HBLCc7QTsLt",
    "outputId": "07b04681-72b3-4003-c839-54fab8e1e3f0",
    "vscode": {
     "languageId": "python"
    }
   },
   "outputs": [
    {
     "data": {
      "text/plain": [
       "<AxesSubplot:xlabel='max_depth', ylabel='train'>"
      ]
     },
     "execution_count": 131,
     "metadata": {},
     "output_type": "execute_result"
    },
    {
     "data": {
      "image/png": "[encoded data removed]",
      "text/plain": [
       "<Figure size 640x480 with 1 Axes>"
      ]
     },
     "metadata": {},
     "output_type": "display_data"
    }
   ],
   "source": [
    "sns.lineplot(x=\"max_depth\", y=\"train\", data=results)"
   ]
  },
  {
   "attachments": {},
   "cell_type": "markdown",
   "metadata": {
    "colab_type": "text",
    "id": "j-o6VtTrXbhu"
   },
   "source": [
    "### Verificação de Overfitting\n",
    "\n",
    "Modelo ficou \"perfeito\" para o treino mas ruim para o teste."
   ]
  },
  {
   "cell_type": "code",
   "execution_count": 132,
   "metadata": {
    "colab": {
     "base_uri": "https://localhost:8080/",
     "height": 301
    },
    "colab_type": "code",
    "id": "OhwJ_FAnWOlq",
    "outputId": "3ce06467-a776-4fae-d3b0-fcb41efcdeff",
    "vscode": {
     "languageId": "python"
    }
   },
   "outputs": [
    {
     "data": {
      "image/png": "[encoded data removed]",
      "text/plain": [
       "<Figure size 640x480 with 1 Axes>"
      ]
     },
     "metadata": {},
     "output_type": "display_data"
    }
   ],
   "source": [
    "import matplotlib.pyplot as plt\n",
    "\n",
    "sns.lineplot(x=\"max_depth\", y=\"train\", data=results)\n",
    "sns.lineplot(x=\"max_depth\", y=\"test\", data=results)\n",
    "plt.legend([\"Treino\", \"Teste\"])\n",
    "plt.xlabel(\"Max Depth\")\n",
    "plt.ylabel(\"Accuracy\")\n",
    "plt.title(\"Métricas do Modelo\")\n",
    "plt.show()"
   ]
  },
  {
   "cell_type": "code",
   "execution_count": 133,
   "metadata": {
    "colab": {
     "base_uri": "https://localhost:8080/",
     "height": 204
    },
    "colab_type": "code",
    "id": "wXmQpoGaXXqP",
    "outputId": "a3e02085-abff-4d7d-a64a-4b9f04f6d42a",
    "vscode": {
     "languageId": "python"
    }
   },
   "outputs": [
    {
     "data": {
      "text/html": [
       "<div>\n",
       "<style scoped>\n",
       "    .dataframe tbody tr th:only-of-type {\n",
       "        vertical-align: middle;\n",
       "    }\n",
       "\n",
       "    .dataframe tbody tr th {\n",
       "        vertical-align: top;\n",
       "    }\n",
       "\n",
       "    .dataframe thead th {\n",
       "        text-align: right;\n",
       "    }\n",
       "</style>\n",
       "<table border=\"1\" class=\"dataframe\">\n",
       "  <thead>\n",
       "    <tr style=\"text-align: right;\">\n",
       "      <th></th>\n",
       "      <th>max_depth</th>\n",
       "      <th>train</th>\n",
       "      <th>test</th>\n",
       "    </tr>\n",
       "  </thead>\n",
       "  <tbody>\n",
       "    <tr>\n",
       "      <th>2</th>\n",
       "      <td>3</td>\n",
       "      <td>78.750993</td>\n",
       "      <td>78.672633</td>\n",
       "    </tr>\n",
       "    <tr>\n",
       "      <th>3</th>\n",
       "      <td>4</td>\n",
       "      <td>78.787628</td>\n",
       "      <td>78.632803</td>\n",
       "    </tr>\n",
       "    <tr>\n",
       "      <th>4</th>\n",
       "      <td>5</td>\n",
       "      <td>78.941007</td>\n",
       "      <td>78.555912</td>\n",
       "    </tr>\n",
       "    <tr>\n",
       "      <th>5</th>\n",
       "      <td>6</td>\n",
       "      <td>79.170115</td>\n",
       "      <td>78.123266</td>\n",
       "    </tr>\n",
       "    <tr>\n",
       "      <th>6</th>\n",
       "      <td>7</td>\n",
       "      <td>79.496806</td>\n",
       "      <td>77.963185</td>\n",
       "    </tr>\n",
       "  </tbody>\n",
       "</table>\n",
       "</div>"
      ],
      "text/plain": [
       "   max_depth      train       test\n",
       "2          3  78.750993  78.672633\n",
       "3          4  78.787628  78.632803\n",
       "4          5  78.941007  78.555912\n",
       "5          6  79.170115  78.123266\n",
       "6          7  79.496806  77.963185"
      ]
     },
     "execution_count": 133,
     "metadata": {},
     "output_type": "execute_result"
    }
   ],
   "source": [
    "results.sort_values(\"test\", ascending=False).head()"
   ]
  },
  {
   "attachments": {},
   "cell_type": "markdown",
   "metadata": {
    "colab_type": "text",
    "id": "SnW9-CTjcpWp"
   },
   "source": [
    "### Explorando Hiperparâmetros em 2 Dimensões"
   ]
  },
  {
   "cell_type": "code",
   "execution_count": 134,
   "metadata": {
    "colab": {
     "base_uri": "https://localhost:8080/",
     "height": 2380
    },
    "colab_type": "code",
    "id": "Odrf-gsWXl9u",
    "outputId": "83ad4968-1911-4f76-9913-5933bde9fdee",
    "vscode": {
     "languageId": "python"
    }
   },
   "outputs": [
    {
     "name": "stdout",
     "output_type": "stream",
     "text": [
      "Max Depth = 1\tMin Samples Leaf = 32\tAcurácia de Treino = 75.79%\tAcurácia de Teste = 75.78%\n",
      "Max Depth = 1\tMin Samples Leaf = 64\tAcurácia de Treino = 75.79%\tAcurácia de Teste = 75.78%\n",
      "Max Depth = 1\tMin Samples Leaf = 128\tAcurácia de Treino = 75.79%\tAcurácia de Teste = 75.78%\n",
      "Max Depth = 1\tMin Samples Leaf = 256\tAcurácia de Treino = 75.79%\tAcurácia de Teste = 75.78%\n",
      "Max Depth = 2\tMin Samples Leaf = 32\tAcurácia de Treino = 75.79%\tAcurácia de Teste = 75.78%\n",
      "Max Depth = 2\tMin Samples Leaf = 64\tAcurácia de Treino = 75.79%\tAcurácia de Teste = 75.78%\n",
      "Max Depth = 2\tMin Samples Leaf = 128\tAcurácia de Treino = 75.79%\tAcurácia de Teste = 75.78%\n",
      "Max Depth = 2\tMin Samples Leaf = 256\tAcurácia de Treino = 75.79%\tAcurácia de Teste = 75.78%\n",
      "Max Depth = 3\tMin Samples Leaf = 32\tAcurácia de Treino = 78.75%\tAcurácia de Teste = 78.67%\n",
      "Max Depth = 3\tMin Samples Leaf = 64\tAcurácia de Treino = 78.75%\tAcurácia de Teste = 78.67%\n",
      "Max Depth = 3\tMin Samples Leaf = 128\tAcurácia de Treino = 78.75%\tAcurácia de Teste = 78.67%\n",
      "Max Depth = 3\tMin Samples Leaf = 256\tAcurácia de Treino = 78.75%\tAcurácia de Teste = 78.67%\n",
      "Max Depth = 4\tMin Samples Leaf = 32\tAcurácia de Treino = 78.75%\tAcurácia de Teste = 78.67%\n",
      "Max Depth = 4\tMin Samples Leaf = 64\tAcurácia de Treino = 78.75%\tAcurácia de Teste = 78.67%\n",
      "Max Depth = 4\tMin Samples Leaf = 128\tAcurácia de Treino = 78.75%\tAcurácia de Teste = 78.67%\n",
      "Max Depth = 4\tMin Samples Leaf = 256\tAcurácia de Treino = 78.75%\tAcurácia de Teste = 78.67%\n",
      "Max Depth = 5\tMin Samples Leaf = 32\tAcurácia de Treino = 78.82%\tAcurácia de Teste = 78.50%\n",
      "Max Depth = 5\tMin Samples Leaf = 64\tAcurácia de Treino = 78.79%\tAcurácia de Teste = 78.45%\n",
      "Max Depth = 5\tMin Samples Leaf = 128\tAcurácia de Treino = 78.77%\tAcurácia de Teste = 78.44%\n",
      "Max Depth = 5\tMin Samples Leaf = 256\tAcurácia de Treino = 78.77%\tAcurácia de Teste = 78.44%\n",
      "Max Depth = 6\tMin Samples Leaf = 32\tAcurácia de Treino = 78.96%\tAcurácia de Teste = 78.02%\n",
      "Max Depth = 6\tMin Samples Leaf = 64\tAcurácia de Treino = 78.92%\tAcurácia de Teste = 78.09%\n",
      "Max Depth = 6\tMin Samples Leaf = 128\tAcurácia de Treino = 78.85%\tAcurácia de Teste = 78.27%\n",
      "Max Depth = 6\tMin Samples Leaf = 256\tAcurácia de Treino = 78.79%\tAcurácia de Teste = 78.27%\n",
      "Max Depth = 7\tMin Samples Leaf = 32\tAcurácia de Treino = 79.24%\tAcurácia de Teste = 77.94%\n",
      "Max Depth = 7\tMin Samples Leaf = 64\tAcurácia de Treino = 79.18%\tAcurácia de Teste = 78.05%\n",
      "Max Depth = 7\tMin Samples Leaf = 128\tAcurácia de Treino = 79.01%\tAcurácia de Teste = 78.21%\n",
      "Max Depth = 7\tMin Samples Leaf = 256\tAcurácia de Treino = 78.85%\tAcurácia de Teste = 78.08%\n",
      "Max Depth = 8\tMin Samples Leaf = 32\tAcurácia de Treino = 79.47%\tAcurácia de Teste = 77.93%\n",
      "Max Depth = 8\tMin Samples Leaf = 64\tAcurácia de Treino = 79.30%\tAcurácia de Teste = 77.99%\n",
      "Max Depth = 8\tMin Samples Leaf = 128\tAcurácia de Treino = 79.05%\tAcurácia de Teste = 78.37%\n",
      "Max Depth = 8\tMin Samples Leaf = 256\tAcurácia de Treino = 78.89%\tAcurácia de Teste = 77.94%\n",
      "Max Depth = 9\tMin Samples Leaf = 32\tAcurácia de Treino = 79.80%\tAcurácia de Teste = 77.32%\n",
      "Max Depth = 9\tMin Samples Leaf = 64\tAcurácia de Treino = 79.46%\tAcurácia de Teste = 77.55%\n",
      "Max Depth = 9\tMin Samples Leaf = 128\tAcurácia de Treino = 79.12%\tAcurácia de Teste = 78.30%\n",
      "Max Depth = 9\tMin Samples Leaf = 256\tAcurácia de Treino = 78.90%\tAcurácia de Teste = 77.85%\n",
      "Max Depth = 10\tMin Samples Leaf = 32\tAcurácia de Treino = 80.05%\tAcurácia de Teste = 77.45%\n",
      "Max Depth = 10\tMin Samples Leaf = 64\tAcurácia de Treino = 79.55%\tAcurácia de Teste = 77.64%\n",
      "Max Depth = 10\tMin Samples Leaf = 128\tAcurácia de Treino = 79.16%\tAcurácia de Teste = 78.29%\n",
      "Max Depth = 10\tMin Samples Leaf = 256\tAcurácia de Treino = 78.90%\tAcurácia de Teste = 77.85%\n",
      "Max Depth = 11\tMin Samples Leaf = 32\tAcurácia de Treino = 80.21%\tAcurácia de Teste = 77.20%\n",
      "Max Depth = 11\tMin Samples Leaf = 64\tAcurácia de Treino = 79.60%\tAcurácia de Teste = 77.53%\n",
      "Max Depth = 11\tMin Samples Leaf = 128\tAcurácia de Treino = 79.19%\tAcurácia de Teste = 78.31%\n",
      "Max Depth = 11\tMin Samples Leaf = 256\tAcurácia de Treino = 78.90%\tAcurácia de Teste = 77.85%\n",
      "Max Depth = 12\tMin Samples Leaf = 32\tAcurácia de Treino = 80.34%\tAcurácia de Teste = 77.00%\n",
      "Max Depth = 12\tMin Samples Leaf = 64\tAcurácia de Treino = 79.72%\tAcurácia de Teste = 77.29%\n",
      "Max Depth = 12\tMin Samples Leaf = 128\tAcurácia de Treino = 79.21%\tAcurácia de Teste = 78.22%\n",
      "Max Depth = 12\tMin Samples Leaf = 256\tAcurácia de Treino = 78.90%\tAcurácia de Teste = 77.85%\n",
      "Max Depth = 13\tMin Samples Leaf = 32\tAcurácia de Treino = 80.51%\tAcurácia de Teste = 76.85%\n",
      "Max Depth = 13\tMin Samples Leaf = 64\tAcurácia de Treino = 79.74%\tAcurácia de Teste = 77.34%\n",
      "Max Depth = 13\tMin Samples Leaf = 128\tAcurácia de Treino = 79.21%\tAcurácia de Teste = 78.22%\n",
      "Max Depth = 13\tMin Samples Leaf = 256\tAcurácia de Treino = 78.90%\tAcurácia de Teste = 77.85%\n",
      "Max Depth = 14\tMin Samples Leaf = 32\tAcurácia de Treino = 80.60%\tAcurácia de Teste = 76.69%\n",
      "Max Depth = 14\tMin Samples Leaf = 64\tAcurácia de Treino = 79.77%\tAcurácia de Teste = 77.26%\n",
      "Max Depth = 14\tMin Samples Leaf = 128\tAcurácia de Treino = 79.21%\tAcurácia de Teste = 78.22%\n",
      "Max Depth = 14\tMin Samples Leaf = 256\tAcurácia de Treino = 78.90%\tAcurácia de Teste = 77.85%\n",
      "Max Depth = 15\tMin Samples Leaf = 32\tAcurácia de Treino = 80.70%\tAcurácia de Teste = 76.88%\n",
      "Max Depth = 15\tMin Samples Leaf = 64\tAcurácia de Treino = 79.79%\tAcurácia de Teste = 77.30%\n",
      "Max Depth = 15\tMin Samples Leaf = 128\tAcurácia de Treino = 79.21%\tAcurácia de Teste = 78.22%\n",
      "Max Depth = 15\tMin Samples Leaf = 256\tAcurácia de Treino = 78.90%\tAcurácia de Teste = 77.85%\n",
      "Max Depth = 16\tMin Samples Leaf = 32\tAcurácia de Treino = 80.76%\tAcurácia de Teste = 76.87%\n",
      "Max Depth = 16\tMin Samples Leaf = 64\tAcurácia de Treino = 79.79%\tAcurácia de Teste = 77.30%\n",
      "Max Depth = 16\tMin Samples Leaf = 128\tAcurácia de Treino = 79.21%\tAcurácia de Teste = 78.22%\n",
      "Max Depth = 16\tMin Samples Leaf = 256\tAcurácia de Treino = 78.90%\tAcurácia de Teste = 77.85%\n",
      "Max Depth = 17\tMin Samples Leaf = 32\tAcurácia de Treino = 80.82%\tAcurácia de Teste = 76.98%\n",
      "Max Depth = 17\tMin Samples Leaf = 64\tAcurácia de Treino = 79.79%\tAcurácia de Teste = 77.30%\n",
      "Max Depth = 17\tMin Samples Leaf = 128\tAcurácia de Treino = 79.21%\tAcurácia de Teste = 78.22%\n",
      "Max Depth = 17\tMin Samples Leaf = 256\tAcurácia de Treino = 78.90%\tAcurácia de Teste = 77.85%\n",
      "Max Depth = 18\tMin Samples Leaf = 32\tAcurácia de Treino = 80.85%\tAcurácia de Teste = 76.86%\n",
      "Max Depth = 18\tMin Samples Leaf = 64\tAcurácia de Treino = 79.79%\tAcurácia de Teste = 77.30%\n",
      "Max Depth = 18\tMin Samples Leaf = 128\tAcurácia de Treino = 79.21%\tAcurácia de Teste = 78.22%\n",
      "Max Depth = 18\tMin Samples Leaf = 256\tAcurácia de Treino = 78.90%\tAcurácia de Teste = 77.85%\n",
      "Max Depth = 19\tMin Samples Leaf = 32\tAcurácia de Treino = 80.86%\tAcurácia de Teste = 76.89%\n",
      "Max Depth = 19\tMin Samples Leaf = 64\tAcurácia de Treino = 79.79%\tAcurácia de Teste = 77.30%\n",
      "Max Depth = 19\tMin Samples Leaf = 128\tAcurácia de Treino = 79.21%\tAcurácia de Teste = 78.22%\n",
      "Max Depth = 19\tMin Samples Leaf = 256\tAcurácia de Treino = 78.90%\tAcurácia de Teste = 77.85%\n",
      "Max Depth = 20\tMin Samples Leaf = 32\tAcurácia de Treino = 80.88%\tAcurácia de Teste = 76.87%\n",
      "Max Depth = 20\tMin Samples Leaf = 64\tAcurácia de Treino = 79.79%\tAcurácia de Teste = 77.30%\n",
      "Max Depth = 20\tMin Samples Leaf = 128\tAcurácia de Treino = 79.21%\tAcurácia de Teste = 78.22%\n",
      "Max Depth = 20\tMin Samples Leaf = 256\tAcurácia de Treino = 78.90%\tAcurácia de Teste = 77.85%\n",
      "Max Depth = 21\tMin Samples Leaf = 32\tAcurácia de Treino = 80.88%\tAcurácia de Teste = 76.92%\n",
      "Max Depth = 21\tMin Samples Leaf = 64\tAcurácia de Treino = 79.79%\tAcurácia de Teste = 77.30%\n",
      "Max Depth = 21\tMin Samples Leaf = 128\tAcurácia de Treino = 79.21%\tAcurácia de Teste = 78.22%\n",
      "Max Depth = 21\tMin Samples Leaf = 256\tAcurácia de Treino = 78.90%\tAcurácia de Teste = 77.85%\n",
      "Max Depth = 22\tMin Samples Leaf = 32\tAcurácia de Treino = 80.88%\tAcurácia de Teste = 76.87%\n",
      "Max Depth = 22\tMin Samples Leaf = 64\tAcurácia de Treino = 79.79%\tAcurácia de Teste = 77.30%\n",
      "Max Depth = 22\tMin Samples Leaf = 128\tAcurácia de Treino = 79.21%\tAcurácia de Teste = 78.22%\n",
      "Max Depth = 22\tMin Samples Leaf = 256\tAcurácia de Treino = 78.90%\tAcurácia de Teste = 77.85%\n",
      "Max Depth = 23\tMin Samples Leaf = 32\tAcurácia de Treino = 80.88%\tAcurácia de Teste = 76.87%\n",
      "Max Depth = 23\tMin Samples Leaf = 64\tAcurácia de Treino = 79.79%\tAcurácia de Teste = 77.30%\n",
      "Max Depth = 23\tMin Samples Leaf = 128\tAcurácia de Treino = 79.21%\tAcurácia de Teste = 78.22%\n",
      "Max Depth = 23\tMin Samples Leaf = 256\tAcurácia de Treino = 78.90%\tAcurácia de Teste = 77.85%\n",
      "Max Depth = 24\tMin Samples Leaf = 32\tAcurácia de Treino = 80.89%\tAcurácia de Teste = 76.84%\n",
      "Max Depth = 24\tMin Samples Leaf = 64\tAcurácia de Treino = 79.79%\tAcurácia de Teste = 77.30%\n",
      "Max Depth = 24\tMin Samples Leaf = 128\tAcurácia de Treino = 79.21%\tAcurácia de Teste = 78.22%\n",
      "Max Depth = 24\tMin Samples Leaf = 256\tAcurácia de Treino = 78.90%\tAcurácia de Teste = 77.85%\n",
      "Max Depth = 25\tMin Samples Leaf = 32\tAcurácia de Treino = 80.89%\tAcurácia de Teste = 76.84%\n",
      "Max Depth = 25\tMin Samples Leaf = 64\tAcurácia de Treino = 79.79%\tAcurácia de Teste = 77.30%\n",
      "Max Depth = 25\tMin Samples Leaf = 128\tAcurácia de Treino = 79.21%\tAcurácia de Teste = 78.22%\n",
      "Max Depth = 25\tMin Samples Leaf = 256\tAcurácia de Treino = 78.90%\tAcurácia de Teste = 77.85%\n",
      "Max Depth = 26\tMin Samples Leaf = 32\tAcurácia de Treino = 80.89%\tAcurácia de Teste = 76.84%\n",
      "Max Depth = 26\tMin Samples Leaf = 64\tAcurácia de Treino = 79.79%\tAcurácia de Teste = 77.30%\n",
      "Max Depth = 26\tMin Samples Leaf = 128\tAcurácia de Treino = 79.21%\tAcurácia de Teste = 78.22%\n",
      "Max Depth = 26\tMin Samples Leaf = 256\tAcurácia de Treino = 78.90%\tAcurácia de Teste = 77.85%\n",
      "Max Depth = 27\tMin Samples Leaf = 32\tAcurácia de Treino = 80.89%\tAcurácia de Teste = 76.84%\n",
      "Max Depth = 27\tMin Samples Leaf = 64\tAcurácia de Treino = 79.79%\tAcurácia de Teste = 77.30%\n",
      "Max Depth = 27\tMin Samples Leaf = 128\tAcurácia de Treino = 79.21%\tAcurácia de Teste = 78.22%\n",
      "Max Depth = 27\tMin Samples Leaf = 256\tAcurácia de Treino = 78.90%\tAcurácia de Teste = 77.85%\n",
      "Max Depth = 28\tMin Samples Leaf = 32\tAcurácia de Treino = 80.89%\tAcurácia de Teste = 76.84%\n",
      "Max Depth = 28\tMin Samples Leaf = 64\tAcurácia de Treino = 79.79%\tAcurácia de Teste = 77.30%\n",
      "Max Depth = 28\tMin Samples Leaf = 128\tAcurácia de Treino = 79.21%\tAcurácia de Teste = 78.22%\n",
      "Max Depth = 28\tMin Samples Leaf = 256\tAcurácia de Treino = 78.90%\tAcurácia de Teste = 77.85%\n",
      "Max Depth = 29\tMin Samples Leaf = 32\tAcurácia de Treino = 80.89%\tAcurácia de Teste = 76.84%\n",
      "Max Depth = 29\tMin Samples Leaf = 64\tAcurácia de Treino = 79.79%\tAcurácia de Teste = 77.30%\n",
      "Max Depth = 29\tMin Samples Leaf = 128\tAcurácia de Treino = 79.21%\tAcurácia de Teste = 78.22%\n",
      "Max Depth = 29\tMin Samples Leaf = 256\tAcurácia de Treino = 78.90%\tAcurácia de Teste = 77.85%\n",
      "Max Depth = 30\tMin Samples Leaf = 32\tAcurácia de Treino = 80.89%\tAcurácia de Teste = 76.84%\n",
      "Max Depth = 30\tMin Samples Leaf = 64\tAcurácia de Treino = 79.79%\tAcurácia de Teste = 77.30%\n",
      "Max Depth = 30\tMin Samples Leaf = 128\tAcurácia de Treino = 79.21%\tAcurácia de Teste = 78.22%\n",
      "Max Depth = 30\tMin Samples Leaf = 256\tAcurácia de Treino = 78.90%\tAcurácia de Teste = 77.85%\n",
      "Max Depth = 31\tMin Samples Leaf = 32\tAcurácia de Treino = 80.89%\tAcurácia de Teste = 76.84%\n",
      "Max Depth = 31\tMin Samples Leaf = 64\tAcurácia de Treino = 79.79%\tAcurácia de Teste = 77.30%\n",
      "Max Depth = 31\tMin Samples Leaf = 128\tAcurácia de Treino = 79.21%\tAcurácia de Teste = 78.22%\n",
      "Max Depth = 31\tMin Samples Leaf = 256\tAcurácia de Treino = 78.90%\tAcurácia de Teste = 77.85%\n",
      "Max Depth = 32\tMin Samples Leaf = 32\tAcurácia de Treino = 80.89%\tAcurácia de Teste = 76.84%\n",
      "Max Depth = 32\tMin Samples Leaf = 64\tAcurácia de Treino = 79.79%\tAcurácia de Teste = 77.30%\n",
      "Max Depth = 32\tMin Samples Leaf = 128\tAcurácia de Treino = 79.21%\tAcurácia de Teste = 78.22%\n",
      "Max Depth = 32\tMin Samples Leaf = 256\tAcurácia de Treino = 78.90%\tAcurácia de Teste = 77.85%\n"
     ]
    },
    {
     "data": {
      "text/html": [
       "<div>\n",
       "<style scoped>\n",
       "    .dataframe tbody tr th:only-of-type {\n",
       "        vertical-align: middle;\n",
       "    }\n",
       "\n",
       "    .dataframe tbody tr th {\n",
       "        vertical-align: top;\n",
       "    }\n",
       "\n",
       "    .dataframe thead th {\n",
       "        text-align: right;\n",
       "    }\n",
       "</style>\n",
       "<table border=\"1\" class=\"dataframe\">\n",
       "  <thead>\n",
       "    <tr style=\"text-align: right;\">\n",
       "      <th></th>\n",
       "      <th>max_depth</th>\n",
       "      <th>min_samples_leaf</th>\n",
       "      <th>train</th>\n",
       "      <th>test</th>\n",
       "    </tr>\n",
       "  </thead>\n",
       "  <tbody>\n",
       "    <tr>\n",
       "      <th>0</th>\n",
       "      <td>1</td>\n",
       "      <td>32</td>\n",
       "      <td>75.791169</td>\n",
       "      <td>75.784219</td>\n",
       "    </tr>\n",
       "    <tr>\n",
       "      <th>1</th>\n",
       "      <td>1</td>\n",
       "      <td>64</td>\n",
       "      <td>75.791169</td>\n",
       "      <td>75.784219</td>\n",
       "    </tr>\n",
       "    <tr>\n",
       "      <th>2</th>\n",
       "      <td>1</td>\n",
       "      <td>128</td>\n",
       "      <td>75.791169</td>\n",
       "      <td>75.784219</td>\n",
       "    </tr>\n",
       "    <tr>\n",
       "      <th>3</th>\n",
       "      <td>1</td>\n",
       "      <td>256</td>\n",
       "      <td>75.791169</td>\n",
       "      <td>75.784219</td>\n",
       "    </tr>\n",
       "    <tr>\n",
       "      <th>4</th>\n",
       "      <td>2</td>\n",
       "      <td>32</td>\n",
       "      <td>75.791169</td>\n",
       "      <td>75.784219</td>\n",
       "    </tr>\n",
       "  </tbody>\n",
       "</table>\n",
       "</div>"
      ],
      "text/plain": [
       "   max_depth  min_samples_leaf      train       test\n",
       "0          1                32  75.791169  75.784219\n",
       "1          1                64  75.791169  75.784219\n",
       "2          1               128  75.791169  75.784219\n",
       "3          1               256  75.791169  75.784219\n",
       "4          2                32  75.791169  75.784219"
      ]
     },
     "execution_count": 134,
     "metadata": {},
     "output_type": "execute_result"
    }
   ],
   "source": [
    "def run_dtc_model(max_depth, min_samples_leaf):\n",
    "    SEED = 301\n",
    "    np.random.seed(SEED)\n",
    "\n",
    "    cv = GroupKFold(n_splits=10)\n",
    "    modelo = DecisionTreeClassifier(\n",
    "        max_depth=max_depth, min_samples_leaf=min_samples_leaf\n",
    "    )\n",
    "    results = cross_validate(\n",
    "        modelo, x_bad, y_bad, cv=cv, groups=df.modelo, return_train_score=True\n",
    "    )\n",
    "\n",
    "    train_score = results[\"train_score\"].mean() * 100\n",
    "    test_score = results[\"test_score\"].mean() * 100\n",
    "\n",
    "    print(\n",
    "        \"Max Depth = %d\\tMin Samples Leaf = %d\\tAcurácia de Treino = %.2f%%\\tAcurácia de Teste = %.2f%%\"\n",
    "        % (max_depth, min_samples_leaf, train_score, test_score)\n",
    "    )\n",
    "    return [max_depth, min_samples_leaf, train_score, test_score]\n",
    "\n",
    "\n",
    "results = []\n",
    "for max_depth in range(1, 33):\n",
    "    for min_samples_leaf in [32, 64, 128, 256]:\n",
    "        results.append(run_dtc_model(max_depth, min_samples_leaf))\n",
    "\n",
    "results = pd.DataFrame(\n",
    "    results, columns=[\"max_depth\", \"min_samples_leaf\", \"train\", \"test\"]\n",
    ")\n",
    "results.head()"
   ]
  },
  {
   "cell_type": "code",
   "execution_count": 135,
   "metadata": {
    "colab": {
     "base_uri": "https://localhost:8080/",
     "height": 204
    },
    "colab_type": "code",
    "id": "FEl16TSwdQgW",
    "outputId": "1ab65ca3-911c-4a73-a8ea-ba5960158e0d",
    "vscode": {
     "languageId": "python"
    }
   },
   "outputs": [
    {
     "data": {
      "text/html": [
       "<div>\n",
       "<style scoped>\n",
       "    .dataframe tbody tr th:only-of-type {\n",
       "        vertical-align: middle;\n",
       "    }\n",
       "\n",
       "    .dataframe tbody tr th {\n",
       "        vertical-align: top;\n",
       "    }\n",
       "\n",
       "    .dataframe thead th {\n",
       "        text-align: right;\n",
       "    }\n",
       "</style>\n",
       "<table border=\"1\" class=\"dataframe\">\n",
       "  <thead>\n",
       "    <tr style=\"text-align: right;\">\n",
       "      <th></th>\n",
       "      <th>max_depth</th>\n",
       "      <th>min_samples_leaf</th>\n",
       "      <th>train</th>\n",
       "      <th>test</th>\n",
       "    </tr>\n",
       "  </thead>\n",
       "  <tbody>\n",
       "    <tr>\n",
       "      <th>15</th>\n",
       "      <td>4</td>\n",
       "      <td>256</td>\n",
       "      <td>78.750993</td>\n",
       "      <td>78.672633</td>\n",
       "    </tr>\n",
       "    <tr>\n",
       "      <th>12</th>\n",
       "      <td>4</td>\n",
       "      <td>32</td>\n",
       "      <td>78.750993</td>\n",
       "      <td>78.672633</td>\n",
       "    </tr>\n",
       "    <tr>\n",
       "      <th>14</th>\n",
       "      <td>4</td>\n",
       "      <td>128</td>\n",
       "      <td>78.750993</td>\n",
       "      <td>78.672633</td>\n",
       "    </tr>\n",
       "    <tr>\n",
       "      <th>13</th>\n",
       "      <td>4</td>\n",
       "      <td>64</td>\n",
       "      <td>78.750993</td>\n",
       "      <td>78.672633</td>\n",
       "    </tr>\n",
       "    <tr>\n",
       "      <th>8</th>\n",
       "      <td>3</td>\n",
       "      <td>32</td>\n",
       "      <td>78.750993</td>\n",
       "      <td>78.672633</td>\n",
       "    </tr>\n",
       "  </tbody>\n",
       "</table>\n",
       "</div>"
      ],
      "text/plain": [
       "    max_depth  min_samples_leaf      train       test\n",
       "15          4               256  78.750993  78.672633\n",
       "12          4                32  78.750993  78.672633\n",
       "14          4               128  78.750993  78.672633\n",
       "13          4                64  78.750993  78.672633\n",
       "8           3                32  78.750993  78.672633"
      ]
     },
     "execution_count": 135,
     "metadata": {},
     "output_type": "execute_result"
    }
   ],
   "source": [
    "results.sort_values(\"test\", ascending=False).head()"
   ]
  },
  {
   "cell_type": "code",
   "execution_count": 142,
   "metadata": {
    "colab": {
     "base_uri": "https://localhost:8080/",
     "height": 173
    },
    "colab_type": "code",
    "id": "lZsBCpgRd6Yh",
    "outputId": "6291a1d7-ec6d-4ffb-bba1-bda521deda29",
    "vscode": {
     "languageId": "python"
    }
   },
   "outputs": [
    {
     "data": {
      "text/html": [
       "<div>\n",
       "<style scoped>\n",
       "    .dataframe tbody tr th:only-of-type {\n",
       "        vertical-align: middle;\n",
       "    }\n",
       "\n",
       "    .dataframe tbody tr th {\n",
       "        vertical-align: top;\n",
       "    }\n",
       "\n",
       "    .dataframe thead th {\n",
       "        text-align: right;\n",
       "    }\n",
       "</style>\n",
       "<table border=\"1\" class=\"dataframe\">\n",
       "  <thead>\n",
       "    <tr style=\"text-align: right;\">\n",
       "      <th></th>\n",
       "      <th>max_depth</th>\n",
       "      <th>min_samples_leaf</th>\n",
       "      <th>train</th>\n",
       "      <th>test</th>\n",
       "    </tr>\n",
       "  </thead>\n",
       "  <tbody>\n",
       "    <tr>\n",
       "      <th>max_depth</th>\n",
       "      <td>1.000000e+00</td>\n",
       "      <td>-2.780775e-16</td>\n",
       "      <td>0.536705</td>\n",
       "      <td>-0.027675</td>\n",
       "    </tr>\n",
       "    <tr>\n",
       "      <th>min_samples_leaf</th>\n",
       "      <td>-2.780775e-16</td>\n",
       "      <td>1.000000e+00</td>\n",
       "      <td>-0.409676</td>\n",
       "      <td>0.349011</td>\n",
       "    </tr>\n",
       "    <tr>\n",
       "      <th>train</th>\n",
       "      <td>5.367048e-01</td>\n",
       "      <td>-4.096762e-01</td>\n",
       "      <td>1.000000</td>\n",
       "      <td>0.116466</td>\n",
       "    </tr>\n",
       "    <tr>\n",
       "      <th>test</th>\n",
       "      <td>-2.767507e-02</td>\n",
       "      <td>3.490111e-01</td>\n",
       "      <td>0.116466</td>\n",
       "      <td>1.000000</td>\n",
       "    </tr>\n",
       "  </tbody>\n",
       "</table>\n",
       "</div>"
      ],
      "text/plain": [
       "                     max_depth  min_samples_leaf     train      test\n",
       "max_depth         1.000000e+00     -2.780775e-16  0.536705 -0.027675\n",
       "min_samples_leaf -2.780775e-16      1.000000e+00 -0.409676  0.349011\n",
       "train             5.367048e-01     -4.096762e-01  1.000000  0.116466\n",
       "test             -2.767507e-02      3.490111e-01  0.116466  1.000000"
      ]
     },
     "execution_count": 142,
     "metadata": {},
     "output_type": "execute_result"
    }
   ],
   "source": [
    "corr = results.corr()\n",
    "corr"
   ]
  },
  {
   "cell_type": "code",
   "execution_count": 143,
   "metadata": {
    "colab": {
     "base_uri": "https://localhost:8080/",
     "height": 365
    },
    "colab_type": "code",
    "id": "AdxtFwmZfmck",
    "outputId": "0d570020-0a4f-4672-80db-5bb1e8ed2ebb",
    "vscode": {
     "languageId": "python"
    }
   },
   "outputs": [
    {
     "data": {
      "text/plain": [
       "<AxesSubplot:>"
      ]
     },
     "execution_count": 143,
     "metadata": {},
     "output_type": "execute_result"
    },
    {
     "data": {
      "image/png": "[encoded data removed]",
      "text/plain": [
       "<Figure size 640x480 with 2 Axes>"
      ]
     },
     "metadata": {},
     "output_type": "display_data"
    }
   ],
   "source": [
    "sns.heatmap(corr)"
   ]
  },
  {
   "cell_type": "code",
   "execution_count": 144,
   "metadata": {
    "colab": {
     "base_uri": "https://localhost:8080/",
     "height": 849
    },
    "colab_type": "code",
    "id": "UWQaVyE-gKHI",
    "outputId": "73717035-6fc8-4205-88d0-755924f2dd47",
    "vscode": {
     "languageId": "python"
    }
   },
   "outputs": [
    {
     "data": {
      "text/plain": [
       "array([[<AxesSubplot:xlabel='max_depth', ylabel='max_depth'>,\n",
       "        <AxesSubplot:xlabel='min_samples_leaf', ylabel='max_depth'>,\n",
       "        <AxesSubplot:xlabel='train', ylabel='max_depth'>,\n",
       "        <AxesSubplot:xlabel='test', ylabel='max_depth'>],\n",
       "       [<AxesSubplot:xlabel='max_depth', ylabel='min_samples_leaf'>,\n",
       "        <AxesSubplot:xlabel='min_samples_leaf', ylabel='min_samples_leaf'>,\n",
       "        <AxesSubplot:xlabel='train', ylabel='min_samples_leaf'>,\n",
       "        <AxesSubplot:xlabel='test', ylabel='min_samples_leaf'>],\n",
       "       [<AxesSubplot:xlabel='max_depth', ylabel='train'>,\n",
       "        <AxesSubplot:xlabel='min_samples_leaf', ylabel='train'>,\n",
       "        <AxesSubplot:xlabel='train', ylabel='train'>,\n",
       "        <AxesSubplot:xlabel='test', ylabel='train'>],\n",
       "       [<AxesSubplot:xlabel='max_depth', ylabel='test'>,\n",
       "        <AxesSubplot:xlabel='min_samples_leaf', ylabel='test'>,\n",
       "        <AxesSubplot:xlabel='train', ylabel='test'>,\n",
       "        <AxesSubplot:xlabel='test', ylabel='test'>]], dtype=object)"
      ]
     },
     "execution_count": 144,
     "metadata": {},
     "output_type": "execute_result"
    },
    {
     "data": {
      "image/png": "[encoded data removed]",
      "text/plain": [
       "<Figure size 1400x800 with 16 Axes>"
      ]
     },
     "metadata": {},
     "output_type": "display_data"
    }
   ],
   "source": [
    "scatter_matrix(results, figsize=(14, 8), alpha=0.3)"
   ]
  },
  {
   "cell_type": "code",
   "execution_count": 145,
   "metadata": {
    "colab": {
     "base_uri": "https://localhost:8080/",
     "height": 746
    },
    "colab_type": "code",
    "id": "AcQnhOM3gnJ-",
    "outputId": "07d5e4cc-55a9-4efd-f004-5ba308742344",
    "vscode": {
     "languageId": "python"
    }
   },
   "outputs": [
    {
     "data": {
      "text/plain": [
       "<seaborn.axisgrid.PairGrid at 0x1f2bd07feb0>"
      ]
     },
     "execution_count": 145,
     "metadata": {},
     "output_type": "execute_result"
    },
    {
     "data": {
      "image/png": "[encoded data removed]",
      "text/plain": [
       "<Figure size 1000x1000 with 20 Axes>"
      ]
     },
     "metadata": {},
     "output_type": "display_data"
    }
   ],
   "source": [
    "sns.pairplot(results)"
   ]
  },
  {
   "cell_type": "code",
   "execution_count": 146,
   "metadata": {
    "colab": {
     "base_uri": "https://localhost:8080/",
     "height": 564
    },
    "colab_type": "code",
    "id": "sH5F3Gd8hAFG",
    "outputId": "dd639bd8-af98-462f-a2fc-6ae8e7fed133",
    "vscode": {
     "languageId": "python"
    }
   },
   "outputs": [
    {
     "name": "stderr",
     "output_type": "stream",
     "text": [
      "C:\\Users\\jujun\\AppData\\Local\\Temp\\ipykernel_21760\\3874067594.py:4: DeprecationWarning: `np.bool` is a deprecated alias for the builtin `bool`. To silence this warning, use `bool` by itself. Doing this will not modify any behavior and is safe. If you specifically wanted the numpy scalar type, use `np.bool_` here.\n",
      "Deprecated in NumPy 1.20; for more details and guidance: https://numpy.org/devdocs/release/1.20.0-notes.html#deprecations\n",
      "  mask = np.zeros_like(corr, dtype=np.bool)\n"
     ]
    },
    {
     "data": {
      "text/plain": [
       "<AxesSubplot:>"
      ]
     },
     "execution_count": 146,
     "metadata": {},
     "output_type": "execute_result"
    },
    {
     "data": {
      "image/png": "[encoded data removed]",
      "text/plain": [
       "<Figure size 1100x900 with 2 Axes>"
      ]
     },
     "metadata": {},
     "output_type": "display_data"
    }
   ],
   "source": [
    "sns.set(style=\"white\")\n",
    "\n",
    "# Generate a mask for the upper triangle\n",
    "mask = np.zeros_like(corr, dtype=np.bool)\n",
    "mask[np.triu_indices_from(mask)] = True\n",
    "\n",
    "# Set up the matplotlib figure\n",
    "f, ax = plt.subplots(figsize=(11, 9))\n",
    "\n",
    "# Generate a custom diverging colormap\n",
    "cmap = sns.diverging_palette(220, 10, as_cmap=True)\n",
    "\n",
    "# Draw the heatmap with the mask and correct aspect ratio\n",
    "sns.heatmap(\n",
    "    corr,\n",
    "    mask=mask,\n",
    "    cmap=cmap,\n",
    "    vmax=0.3,\n",
    "    center=0,\n",
    "    square=True,\n",
    "    linewidths=0.5,\n",
    "    cbar_kws={\"shrink\": 0.5},\n",
    ")"
   ]
  },
  {
   "cell_type": "code",
   "execution_count": 147,
   "metadata": {
    "colab": {
     "base_uri": "https://localhost:8080/",
     "height": 2380
    },
    "colab_type": "code",
    "id": "fa3AUdNZiBEs",
    "outputId": "610986e1-45fc-4db3-8f76-eaa41cbb17f1",
    "vscode": {
     "languageId": "python"
    }
   },
   "outputs": [
    {
     "name": "stdout",
     "output_type": "stream",
     "text": [
      "Max Depth = 1\tMin Samples Leaf = 128\tAcurácia de Treino = 75.79%\tAcurácia de Teste = 75.78%\n",
      "Max Depth = 1\tMin Samples Leaf = 192\tAcurácia de Treino = 75.79%\tAcurácia de Teste = 75.78%\n",
      "Max Depth = 1\tMin Samples Leaf = 256\tAcurácia de Treino = 75.79%\tAcurácia de Teste = 75.78%\n",
      "Max Depth = 1\tMin Samples Leaf = 512\tAcurácia de Treino = 75.79%\tAcurácia de Teste = 75.78%\n",
      "Max Depth = 2\tMin Samples Leaf = 128\tAcurácia de Treino = 75.79%\tAcurácia de Teste = 75.78%\n",
      "Max Depth = 2\tMin Samples Leaf = 192\tAcurácia de Treino = 75.79%\tAcurácia de Teste = 75.78%\n",
      "Max Depth = 2\tMin Samples Leaf = 256\tAcurácia de Treino = 75.79%\tAcurácia de Teste = 75.78%\n",
      "Max Depth = 2\tMin Samples Leaf = 512\tAcurácia de Treino = 75.79%\tAcurácia de Teste = 75.78%\n",
      "Max Depth = 3\tMin Samples Leaf = 128\tAcurácia de Treino = 78.75%\tAcurácia de Teste = 78.67%\n",
      "Max Depth = 3\tMin Samples Leaf = 192\tAcurácia de Treino = 78.75%\tAcurácia de Teste = 78.67%\n",
      "Max Depth = 3\tMin Samples Leaf = 256\tAcurácia de Treino = 78.75%\tAcurácia de Teste = 78.67%\n",
      "Max Depth = 3\tMin Samples Leaf = 512\tAcurácia de Treino = 77.53%\tAcurácia de Teste = 77.50%\n",
      "Max Depth = 4\tMin Samples Leaf = 128\tAcurácia de Treino = 78.75%\tAcurácia de Teste = 78.67%\n",
      "Max Depth = 4\tMin Samples Leaf = 192\tAcurácia de Treino = 78.75%\tAcurácia de Teste = 78.67%\n",
      "Max Depth = 4\tMin Samples Leaf = 256\tAcurácia de Treino = 78.75%\tAcurácia de Teste = 78.67%\n",
      "Max Depth = 4\tMin Samples Leaf = 512\tAcurácia de Treino = 77.53%\tAcurácia de Teste = 77.50%\n",
      "Max Depth = 5\tMin Samples Leaf = 128\tAcurácia de Treino = 78.77%\tAcurácia de Teste = 78.44%\n",
      "Max Depth = 5\tMin Samples Leaf = 192\tAcurácia de Treino = 78.77%\tAcurácia de Teste = 78.44%\n",
      "Max Depth = 5\tMin Samples Leaf = 256\tAcurácia de Treino = 78.77%\tAcurácia de Teste = 78.44%\n",
      "Max Depth = 5\tMin Samples Leaf = 512\tAcurácia de Treino = 77.53%\tAcurácia de Teste = 77.50%\n",
      "Max Depth = 6\tMin Samples Leaf = 128\tAcurácia de Treino = 78.85%\tAcurácia de Teste = 78.27%\n",
      "Max Depth = 6\tMin Samples Leaf = 192\tAcurácia de Treino = 78.79%\tAcurácia de Teste = 78.31%\n",
      "Max Depth = 6\tMin Samples Leaf = 256\tAcurácia de Treino = 78.79%\tAcurácia de Teste = 78.27%\n",
      "Max Depth = 6\tMin Samples Leaf = 512\tAcurácia de Treino = 77.53%\tAcurácia de Teste = 77.50%\n",
      "Max Depth = 7\tMin Samples Leaf = 128\tAcurácia de Treino = 79.01%\tAcurácia de Teste = 78.21%\n",
      "Max Depth = 7\tMin Samples Leaf = 192\tAcurácia de Treino = 78.92%\tAcurácia de Teste = 78.10%\n",
      "Max Depth = 7\tMin Samples Leaf = 256\tAcurácia de Treino = 78.85%\tAcurácia de Teste = 78.08%\n",
      "Max Depth = 7\tMin Samples Leaf = 512\tAcurácia de Treino = 77.53%\tAcurácia de Teste = 77.50%\n",
      "Max Depth = 8\tMin Samples Leaf = 128\tAcurácia de Treino = 79.05%\tAcurácia de Teste = 78.37%\n",
      "Max Depth = 8\tMin Samples Leaf = 192\tAcurácia de Treino = 78.98%\tAcurácia de Teste = 78.20%\n",
      "Max Depth = 8\tMin Samples Leaf = 256\tAcurácia de Treino = 78.89%\tAcurácia de Teste = 77.94%\n",
      "Max Depth = 8\tMin Samples Leaf = 512\tAcurácia de Treino = 77.53%\tAcurácia de Teste = 77.50%\n",
      "Max Depth = 9\tMin Samples Leaf = 128\tAcurácia de Treino = 79.12%\tAcurácia de Teste = 78.30%\n",
      "Max Depth = 9\tMin Samples Leaf = 192\tAcurácia de Treino = 78.99%\tAcurácia de Teste = 78.11%\n",
      "Max Depth = 9\tMin Samples Leaf = 256\tAcurácia de Treino = 78.90%\tAcurácia de Teste = 77.85%\n",
      "Max Depth = 9\tMin Samples Leaf = 512\tAcurácia de Treino = 77.53%\tAcurácia de Teste = 77.50%\n",
      "Max Depth = 10\tMin Samples Leaf = 128\tAcurácia de Treino = 79.16%\tAcurácia de Teste = 78.29%\n",
      "Max Depth = 10\tMin Samples Leaf = 192\tAcurácia de Treino = 79.01%\tAcurácia de Teste = 78.05%\n",
      "Max Depth = 10\tMin Samples Leaf = 256\tAcurácia de Treino = 78.90%\tAcurácia de Teste = 77.85%\n",
      "Max Depth = 10\tMin Samples Leaf = 512\tAcurácia de Treino = 77.53%\tAcurácia de Teste = 77.50%\n",
      "Max Depth = 11\tMin Samples Leaf = 128\tAcurácia de Treino = 79.19%\tAcurácia de Teste = 78.31%\n",
      "Max Depth = 11\tMin Samples Leaf = 192\tAcurácia de Treino = 79.01%\tAcurácia de Teste = 78.05%\n",
      "Max Depth = 11\tMin Samples Leaf = 256\tAcurácia de Treino = 78.90%\tAcurácia de Teste = 77.85%\n",
      "Max Depth = 11\tMin Samples Leaf = 512\tAcurácia de Treino = 77.53%\tAcurácia de Teste = 77.50%\n",
      "Max Depth = 12\tMin Samples Leaf = 128\tAcurácia de Treino = 79.21%\tAcurácia de Teste = 78.22%\n",
      "Max Depth = 12\tMin Samples Leaf = 192\tAcurácia de Treino = 79.01%\tAcurácia de Teste = 78.05%\n",
      "Max Depth = 12\tMin Samples Leaf = 256\tAcurácia de Treino = 78.90%\tAcurácia de Teste = 77.85%\n",
      "Max Depth = 12\tMin Samples Leaf = 512\tAcurácia de Treino = 77.53%\tAcurácia de Teste = 77.50%\n",
      "Max Depth = 13\tMin Samples Leaf = 128\tAcurácia de Treino = 79.21%\tAcurácia de Teste = 78.22%\n",
      "Max Depth = 13\tMin Samples Leaf = 192\tAcurácia de Treino = 79.01%\tAcurácia de Teste = 78.05%\n",
      "Max Depth = 13\tMin Samples Leaf = 256\tAcurácia de Treino = 78.90%\tAcurácia de Teste = 77.85%\n",
      "Max Depth = 13\tMin Samples Leaf = 512\tAcurácia de Treino = 77.53%\tAcurácia de Teste = 77.50%\n",
      "Max Depth = 14\tMin Samples Leaf = 128\tAcurácia de Treino = 79.21%\tAcurácia de Teste = 78.22%\n",
      "Max Depth = 14\tMin Samples Leaf = 192\tAcurácia de Treino = 79.01%\tAcurácia de Teste = 78.05%\n",
      "Max Depth = 14\tMin Samples Leaf = 256\tAcurácia de Treino = 78.90%\tAcurácia de Teste = 77.85%\n",
      "Max Depth = 14\tMin Samples Leaf = 512\tAcurácia de Treino = 77.53%\tAcurácia de Teste = 77.50%\n",
      "Max Depth = 15\tMin Samples Leaf = 128\tAcurácia de Treino = 79.21%\tAcurácia de Teste = 78.22%\n",
      "Max Depth = 15\tMin Samples Leaf = 192\tAcurácia de Treino = 79.01%\tAcurácia de Teste = 78.05%\n",
      "Max Depth = 15\tMin Samples Leaf = 256\tAcurácia de Treino = 78.90%\tAcurácia de Teste = 77.85%\n",
      "Max Depth = 15\tMin Samples Leaf = 512\tAcurácia de Treino = 77.53%\tAcurácia de Teste = 77.50%\n",
      "Max Depth = 16\tMin Samples Leaf = 128\tAcurácia de Treino = 79.21%\tAcurácia de Teste = 78.22%\n",
      "Max Depth = 16\tMin Samples Leaf = 192\tAcurácia de Treino = 79.01%\tAcurácia de Teste = 78.05%\n",
      "Max Depth = 16\tMin Samples Leaf = 256\tAcurácia de Treino = 78.90%\tAcurácia de Teste = 77.85%\n",
      "Max Depth = 16\tMin Samples Leaf = 512\tAcurácia de Treino = 77.53%\tAcurácia de Teste = 77.50%\n",
      "Max Depth = 17\tMin Samples Leaf = 128\tAcurácia de Treino = 79.21%\tAcurácia de Teste = 78.22%\n",
      "Max Depth = 17\tMin Samples Leaf = 192\tAcurácia de Treino = 79.01%\tAcurácia de Teste = 78.05%\n",
      "Max Depth = 17\tMin Samples Leaf = 256\tAcurácia de Treino = 78.90%\tAcurácia de Teste = 77.85%\n",
      "Max Depth = 17\tMin Samples Leaf = 512\tAcurácia de Treino = 77.53%\tAcurácia de Teste = 77.50%\n",
      "Max Depth = 18\tMin Samples Leaf = 128\tAcurácia de Treino = 79.21%\tAcurácia de Teste = 78.22%\n",
      "Max Depth = 18\tMin Samples Leaf = 192\tAcurácia de Treino = 79.01%\tAcurácia de Teste = 78.05%\n",
      "Max Depth = 18\tMin Samples Leaf = 256\tAcurácia de Treino = 78.90%\tAcurácia de Teste = 77.85%\n",
      "Max Depth = 18\tMin Samples Leaf = 512\tAcurácia de Treino = 77.53%\tAcurácia de Teste = 77.50%\n",
      "Max Depth = 19\tMin Samples Leaf = 128\tAcurácia de Treino = 79.21%\tAcurácia de Teste = 78.22%\n",
      "Max Depth = 19\tMin Samples Leaf = 192\tAcurácia de Treino = 79.01%\tAcurácia de Teste = 78.05%\n",
      "Max Depth = 19\tMin Samples Leaf = 256\tAcurácia de Treino = 78.90%\tAcurácia de Teste = 77.85%\n",
      "Max Depth = 19\tMin Samples Leaf = 512\tAcurácia de Treino = 77.53%\tAcurácia de Teste = 77.50%\n",
      "Max Depth = 20\tMin Samples Leaf = 128\tAcurácia de Treino = 79.21%\tAcurácia de Teste = 78.22%\n",
      "Max Depth = 20\tMin Samples Leaf = 192\tAcurácia de Treino = 79.01%\tAcurácia de Teste = 78.05%\n",
      "Max Depth = 20\tMin Samples Leaf = 256\tAcurácia de Treino = 78.90%\tAcurácia de Teste = 77.85%\n",
      "Max Depth = 20\tMin Samples Leaf = 512\tAcurácia de Treino = 77.53%\tAcurácia de Teste = 77.50%\n",
      "Max Depth = 21\tMin Samples Leaf = 128\tAcurácia de Treino = 79.21%\tAcurácia de Teste = 78.22%\n",
      "Max Depth = 21\tMin Samples Leaf = 192\tAcurácia de Treino = 79.01%\tAcurácia de Teste = 78.05%\n",
      "Max Depth = 21\tMin Samples Leaf = 256\tAcurácia de Treino = 78.90%\tAcurácia de Teste = 77.85%\n",
      "Max Depth = 21\tMin Samples Leaf = 512\tAcurácia de Treino = 77.53%\tAcurácia de Teste = 77.50%\n",
      "Max Depth = 22\tMin Samples Leaf = 128\tAcurácia de Treino = 79.21%\tAcurácia de Teste = 78.22%\n",
      "Max Depth = 22\tMin Samples Leaf = 192\tAcurácia de Treino = 79.01%\tAcurácia de Teste = 78.05%\n",
      "Max Depth = 22\tMin Samples Leaf = 256\tAcurácia de Treino = 78.90%\tAcurácia de Teste = 77.85%\n",
      "Max Depth = 22\tMin Samples Leaf = 512\tAcurácia de Treino = 77.53%\tAcurácia de Teste = 77.50%\n",
      "Max Depth = 23\tMin Samples Leaf = 128\tAcurácia de Treino = 79.21%\tAcurácia de Teste = 78.22%\n",
      "Max Depth = 23\tMin Samples Leaf = 192\tAcurácia de Treino = 79.01%\tAcurácia de Teste = 78.05%\n",
      "Max Depth = 23\tMin Samples Leaf = 256\tAcurácia de Treino = 78.90%\tAcurácia de Teste = 77.85%\n",
      "Max Depth = 23\tMin Samples Leaf = 512\tAcurácia de Treino = 77.53%\tAcurácia de Teste = 77.50%\n",
      "Max Depth = 24\tMin Samples Leaf = 128\tAcurácia de Treino = 79.21%\tAcurácia de Teste = 78.22%\n",
      "Max Depth = 24\tMin Samples Leaf = 192\tAcurácia de Treino = 79.01%\tAcurácia de Teste = 78.05%\n",
      "Max Depth = 24\tMin Samples Leaf = 256\tAcurácia de Treino = 78.90%\tAcurácia de Teste = 77.85%\n",
      "Max Depth = 24\tMin Samples Leaf = 512\tAcurácia de Treino = 77.53%\tAcurácia de Teste = 77.50%\n",
      "Max Depth = 25\tMin Samples Leaf = 128\tAcurácia de Treino = 79.21%\tAcurácia de Teste = 78.22%\n",
      "Max Depth = 25\tMin Samples Leaf = 192\tAcurácia de Treino = 79.01%\tAcurácia de Teste = 78.05%\n",
      "Max Depth = 25\tMin Samples Leaf = 256\tAcurácia de Treino = 78.90%\tAcurácia de Teste = 77.85%\n",
      "Max Depth = 25\tMin Samples Leaf = 512\tAcurácia de Treino = 77.53%\tAcurácia de Teste = 77.50%\n",
      "Max Depth = 26\tMin Samples Leaf = 128\tAcurácia de Treino = 79.21%\tAcurácia de Teste = 78.22%\n",
      "Max Depth = 26\tMin Samples Leaf = 192\tAcurácia de Treino = 79.01%\tAcurácia de Teste = 78.05%\n",
      "Max Depth = 26\tMin Samples Leaf = 256\tAcurácia de Treino = 78.90%\tAcurácia de Teste = 77.85%\n",
      "Max Depth = 26\tMin Samples Leaf = 512\tAcurácia de Treino = 77.53%\tAcurácia de Teste = 77.50%\n",
      "Max Depth = 27\tMin Samples Leaf = 128\tAcurácia de Treino = 79.21%\tAcurácia de Teste = 78.22%\n",
      "Max Depth = 27\tMin Samples Leaf = 192\tAcurácia de Treino = 79.01%\tAcurácia de Teste = 78.05%\n",
      "Max Depth = 27\tMin Samples Leaf = 256\tAcurácia de Treino = 78.90%\tAcurácia de Teste = 77.85%\n",
      "Max Depth = 27\tMin Samples Leaf = 512\tAcurácia de Treino = 77.53%\tAcurácia de Teste = 77.50%\n",
      "Max Depth = 28\tMin Samples Leaf = 128\tAcurácia de Treino = 79.21%\tAcurácia de Teste = 78.22%\n",
      "Max Depth = 28\tMin Samples Leaf = 192\tAcurácia de Treino = 79.01%\tAcurácia de Teste = 78.05%\n",
      "Max Depth = 28\tMin Samples Leaf = 256\tAcurácia de Treino = 78.90%\tAcurácia de Teste = 77.85%\n",
      "Max Depth = 28\tMin Samples Leaf = 512\tAcurácia de Treino = 77.53%\tAcurácia de Teste = 77.50%\n",
      "Max Depth = 29\tMin Samples Leaf = 128\tAcurácia de Treino = 79.21%\tAcurácia de Teste = 78.22%\n",
      "Max Depth = 29\tMin Samples Leaf = 192\tAcurácia de Treino = 79.01%\tAcurácia de Teste = 78.05%\n",
      "Max Depth = 29\tMin Samples Leaf = 256\tAcurácia de Treino = 78.90%\tAcurácia de Teste = 77.85%\n",
      "Max Depth = 29\tMin Samples Leaf = 512\tAcurácia de Treino = 77.53%\tAcurácia de Teste = 77.50%\n",
      "Max Depth = 30\tMin Samples Leaf = 128\tAcurácia de Treino = 79.21%\tAcurácia de Teste = 78.22%\n",
      "Max Depth = 30\tMin Samples Leaf = 192\tAcurácia de Treino = 79.01%\tAcurácia de Teste = 78.05%\n",
      "Max Depth = 30\tMin Samples Leaf = 256\tAcurácia de Treino = 78.90%\tAcurácia de Teste = 77.85%\n",
      "Max Depth = 30\tMin Samples Leaf = 512\tAcurácia de Treino = 77.53%\tAcurácia de Teste = 77.50%\n",
      "Max Depth = 31\tMin Samples Leaf = 128\tAcurácia de Treino = 79.21%\tAcurácia de Teste = 78.22%\n",
      "Max Depth = 31\tMin Samples Leaf = 192\tAcurácia de Treino = 79.01%\tAcurácia de Teste = 78.05%\n",
      "Max Depth = 31\tMin Samples Leaf = 256\tAcurácia de Treino = 78.90%\tAcurácia de Teste = 77.85%\n",
      "Max Depth = 31\tMin Samples Leaf = 512\tAcurácia de Treino = 77.53%\tAcurácia de Teste = 77.50%\n",
      "Max Depth = 32\tMin Samples Leaf = 128\tAcurácia de Treino = 79.21%\tAcurácia de Teste = 78.22%\n",
      "Max Depth = 32\tMin Samples Leaf = 192\tAcurácia de Treino = 79.01%\tAcurácia de Teste = 78.05%\n",
      "Max Depth = 32\tMin Samples Leaf = 256\tAcurácia de Treino = 78.90%\tAcurácia de Teste = 77.85%\n",
      "Max Depth = 32\tMin Samples Leaf = 512\tAcurácia de Treino = 77.53%\tAcurácia de Teste = 77.50%\n"
     ]
    }
   ],
   "source": [
    "results = []\n",
    "for max_depth in range(1, 33):\n",
    "    for min_samples_leaf in [128, 192, 256, 512]:\n",
    "        results.append(run_dtc_model(max_depth, min_samples_leaf))\n",
    "\n",
    "results = pd.DataFrame(\n",
    "    results, columns=[\"max_depth\", \"min_samples_leaf\", \"train\", \"test\"]\n",
    ")\n",
    "results.head()\n",
    "\n",
    "corr = results.corr()"
   ]
  },
  {
   "cell_type": "code",
   "execution_count": 148,
   "metadata": {
    "colab": {
     "base_uri": "https://localhost:8080/",
     "height": 564
    },
    "colab_type": "code",
    "id": "3XjB5-HyinEM",
    "outputId": "91601662-5adb-4dbe-84d8-a9926b99718b",
    "vscode": {
     "languageId": "python"
    }
   },
   "outputs": [
    {
     "name": "stderr",
     "output_type": "stream",
     "text": [
      "C:\\Users\\jujun\\AppData\\Local\\Temp\\ipykernel_21760\\3874067594.py:4: DeprecationWarning: `np.bool` is a deprecated alias for the builtin `bool`. To silence this warning, use `bool` by itself. Doing this will not modify any behavior and is safe. If you specifically wanted the numpy scalar type, use `np.bool_` here.\n",
      "Deprecated in NumPy 1.20; for more details and guidance: https://numpy.org/devdocs/release/1.20.0-notes.html#deprecations\n",
      "  mask = np.zeros_like(corr, dtype=np.bool)\n"
     ]
    },
    {
     "data": {
      "text/plain": [
       "<AxesSubplot:>"
      ]
     },
     "execution_count": 148,
     "metadata": {},
     "output_type": "execute_result"
    },
    {
     "data": {
      "image/png": "[encoded data removed]",
      "text/plain": [
       "<Figure size 1100x900 with 2 Axes>"
      ]
     },
     "metadata": {},
     "output_type": "display_data"
    }
   ],
   "source": [
    "sns.set(style=\"white\")\n",
    "\n",
    "# Generate a mask for the upper triangle\n",
    "mask = np.zeros_like(corr, dtype=np.bool)\n",
    "mask[np.triu_indices_from(mask)] = True\n",
    "\n",
    "# Set up the matplotlib figure\n",
    "f, ax = plt.subplots(figsize=(11, 9))\n",
    "\n",
    "# Generate a custom diverging colormap\n",
    "cmap = sns.diverging_palette(220, 10, as_cmap=True)\n",
    "\n",
    "# Draw the heatmap with the mask and correct aspect ratio\n",
    "sns.heatmap(\n",
    "    corr,\n",
    "    mask=mask,\n",
    "    cmap=cmap,\n",
    "    vmax=0.3,\n",
    "    center=0,\n",
    "    square=True,\n",
    "    linewidths=0.5,\n",
    "    cbar_kws={\"shrink\": 0.5},\n",
    ")"
   ]
  },
  {
   "attachments": {},
   "cell_type": "markdown",
   "metadata": {
    "colab_type": "text",
    "id": "pwwC1wHakOvC"
   },
   "source": [
    "### Explorando Hiperparâmetros em 3 Dimensões e Análise de Correlação"
   ]
  },
  {
   "cell_type": "code",
   "execution_count": 154,
   "metadata": {
    "colab": {
     "base_uri": "https://localhost:8080/",
     "height": 2513
    },
    "colab_type": "code",
    "id": "jlCg0np0kSsa",
    "outputId": "35af79ca-2aed-4622-8b91-fa1890835557",
    "vscode": {
     "languageId": "python"
    }
   },
   "outputs": [
    {
     "data": {
      "text/html": [
       "<div>\n",
       "<style scoped>\n",
       "    .dataframe tbody tr th:only-of-type {\n",
       "        vertical-align: middle;\n",
       "    }\n",
       "\n",
       "    .dataframe tbody tr th {\n",
       "        vertical-align: top;\n",
       "    }\n",
       "\n",
       "    .dataframe thead th {\n",
       "        text-align: right;\n",
       "    }\n",
       "</style>\n",
       "<table border=\"1\" class=\"dataframe\">\n",
       "  <thead>\n",
       "    <tr style=\"text-align: right;\">\n",
       "      <th></th>\n",
       "      <th>max_depth</th>\n",
       "      <th>min_samples_leaf</th>\n",
       "      <th>min_samples_split</th>\n",
       "      <th>train</th>\n",
       "      <th>test</th>\n",
       "      <th>fit_time</th>\n",
       "      <th>score_time</th>\n",
       "    </tr>\n",
       "  </thead>\n",
       "  <tbody>\n",
       "    <tr>\n",
       "      <th>0</th>\n",
       "      <td>1</td>\n",
       "      <td>32</td>\n",
       "      <td>32</td>\n",
       "      <td>75.791169</td>\n",
       "      <td>75.784219</td>\n",
       "      <td>0.003854</td>\n",
       "      <td>0.001001</td>\n",
       "    </tr>\n",
       "    <tr>\n",
       "      <th>1</th>\n",
       "      <td>1</td>\n",
       "      <td>32</td>\n",
       "      <td>64</td>\n",
       "      <td>75.791169</td>\n",
       "      <td>75.784219</td>\n",
       "      <td>0.003903</td>\n",
       "      <td>0.001101</td>\n",
       "    </tr>\n",
       "    <tr>\n",
       "      <th>2</th>\n",
       "      <td>1</td>\n",
       "      <td>32</td>\n",
       "      <td>128</td>\n",
       "      <td>75.791169</td>\n",
       "      <td>75.784219</td>\n",
       "      <td>0.003703</td>\n",
       "      <td>0.001001</td>\n",
       "    </tr>\n",
       "    <tr>\n",
       "      <th>3</th>\n",
       "      <td>1</td>\n",
       "      <td>32</td>\n",
       "      <td>256</td>\n",
       "      <td>75.791169</td>\n",
       "      <td>75.784219</td>\n",
       "      <td>0.004133</td>\n",
       "      <td>0.001054</td>\n",
       "    </tr>\n",
       "    <tr>\n",
       "      <th>4</th>\n",
       "      <td>1</td>\n",
       "      <td>64</td>\n",
       "      <td>32</td>\n",
       "      <td>75.791169</td>\n",
       "      <td>75.784219</td>\n",
       "      <td>0.004104</td>\n",
       "      <td>0.001001</td>\n",
       "    </tr>\n",
       "  </tbody>\n",
       "</table>\n",
       "</div>"
      ],
      "text/plain": [
       "   max_depth  min_samples_leaf  min_samples_split      train       test  \\\n",
       "0          1                32                 32  75.791169  75.784219   \n",
       "1          1                32                 64  75.791169  75.784219   \n",
       "2          1                32                128  75.791169  75.784219   \n",
       "3          1                32                256  75.791169  75.784219   \n",
       "4          1                64                 32  75.791169  75.784219   \n",
       "\n",
       "   fit_time  score_time  \n",
       "0  0.003854    0.001001  \n",
       "1  0.003903    0.001101  \n",
       "2  0.003703    0.001001  \n",
       "3  0.004133    0.001054  \n",
       "4  0.004104    0.001001  "
      ]
     },
     "execution_count": 154,
     "metadata": {},
     "output_type": "execute_result"
    }
   ],
   "source": [
    "def run_dtc_model(max_depth, min_samples_leaf, min_samples_split):\n",
    "    SEED = 301\n",
    "    np.random.seed(SEED)\n",
    "\n",
    "    cv = GroupKFold(n_splits=10)\n",
    "    modelo = DecisionTreeClassifier(\n",
    "        max_depth=max_depth,\n",
    "        min_samples_leaf=min_samples_leaf,\n",
    "        min_samples_split=min_samples_split,\n",
    "    )\n",
    "    results = cross_validate(\n",
    "        modelo, x_bad, y_bad, cv=cv, groups=df.modelo, return_train_score=True\n",
    "    )\n",
    "\n",
    "    fit_time = results[\"fit_time\"].mean()\n",
    "    score_time = results[\"score_time\"].mean()\n",
    "    train_score = results[\"train_score\"].mean() * 100\n",
    "    test_score = results[\"test_score\"].mean() * 100\n",
    "\n",
    "    return [\n",
    "        max_depth,\n",
    "        min_samples_leaf,\n",
    "        min_samples_split,\n",
    "        train_score,\n",
    "        test_score,\n",
    "        fit_time,\n",
    "        score_time,\n",
    "    ]\n",
    "\n",
    "\n",
    "results = []\n",
    "for max_depth in range(1, 33):\n",
    "    for min_samples_leaf in [32, 64, 128, 256]:\n",
    "        for min_samples_split in [32, 64, 128, 256]:\n",
    "            results.append(\n",
    "                run_dtc_model(max_depth, min_samples_leaf, min_samples_split)\n",
    "            )\n",
    "\n",
    "results = pd.DataFrame(\n",
    "    results,\n",
    "    columns=[\n",
    "        \"max_depth\",\n",
    "        \"min_samples_leaf\",\n",
    "        \"min_samples_split\",\n",
    "        \"train\",\n",
    "        \"test\",\n",
    "        \"fit_time\",\n",
    "        \"score_time\",\n",
    "    ],\n",
    ")\n",
    "\n",
    "results.head()"
   ]
  },
  {
   "cell_type": "code",
   "execution_count": 155,
   "metadata": {
    "colab": {},
    "colab_type": "code",
    "id": "vUmCKerTkqdS",
    "vscode": {
     "languageId": "python"
    }
   },
   "outputs": [],
   "source": [
    "corr = results.corr()"
   ]
  },
  {
   "cell_type": "code",
   "execution_count": 156,
   "metadata": {
    "colab": {},
    "colab_type": "code",
    "id": "a7d6zbMglbBJ",
    "vscode": {
     "languageId": "python"
    }
   },
   "outputs": [
    {
     "data": {
      "text/plain": [
       "<AxesSubplot:>"
      ]
     },
     "execution_count": 156,
     "metadata": {},
     "output_type": "execute_result"
    },
    {
     "data": {
      "image/png": "[encoded data removed]",
      "text/plain": [
       "<Figure size 1100x900 with 2 Axes>"
      ]
     },
     "metadata": {},
     "output_type": "display_data"
    }
   ],
   "source": [
    "sns.set(style=\"white\")\n",
    "\n",
    "# Generate a mask for the upper triangle\n",
    "mask = np.zeros_like(corr, dtype=bool)\n",
    "mask[np.triu_indices_from(mask)] = True\n",
    "\n",
    "# Set up the matplotlib figure\n",
    "f, ax = plt.subplots(figsize=(11, 9))\n",
    "\n",
    "# Generate a custom diverging colormap\n",
    "cmap = sns.diverging_palette(220, 10, as_cmap=True)\n",
    "\n",
    "# Draw the heatmap with the mask and correct aspect ratio\n",
    "sns.heatmap(\n",
    "    corr,\n",
    "    mask=mask,\n",
    "    cmap=cmap,\n",
    "    vmax=0.3,\n",
    "    center=0,\n",
    "    square=True,\n",
    "    linewidths=0.5,\n",
    "    cbar_kws={\"shrink\": 0.5},\n",
    ")"
   ]
  },
  {
   "cell_type": "code",
   "execution_count": 157,
   "metadata": {
    "colab": {},
    "colab_type": "code",
    "id": "YY5vVBEGlctR",
    "vscode": {
     "languageId": "python"
    }
   },
   "outputs": [
    {
     "data": {
      "text/html": [
       "<div>\n",
       "<style scoped>\n",
       "    .dataframe tbody tr th:only-of-type {\n",
       "        vertical-align: middle;\n",
       "    }\n",
       "\n",
       "    .dataframe tbody tr th {\n",
       "        vertical-align: top;\n",
       "    }\n",
       "\n",
       "    .dataframe thead th {\n",
       "        text-align: right;\n",
       "    }\n",
       "</style>\n",
       "<table border=\"1\" class=\"dataframe\">\n",
       "  <thead>\n",
       "    <tr style=\"text-align: right;\">\n",
       "      <th></th>\n",
       "      <th>max_depth</th>\n",
       "      <th>min_samples_leaf</th>\n",
       "      <th>min_samples_split</th>\n",
       "      <th>train</th>\n",
       "      <th>test</th>\n",
       "      <th>fit_time</th>\n",
       "      <th>score_time</th>\n",
       "    </tr>\n",
       "  </thead>\n",
       "  <tbody>\n",
       "    <tr>\n",
       "      <th>63</th>\n",
       "      <td>4</td>\n",
       "      <td>256</td>\n",
       "      <td>256</td>\n",
       "      <td>78.750993</td>\n",
       "      <td>78.672633</td>\n",
       "      <td>0.008522</td>\n",
       "      <td>0.001001</td>\n",
       "    </tr>\n",
       "    <tr>\n",
       "      <th>48</th>\n",
       "      <td>4</td>\n",
       "      <td>32</td>\n",
       "      <td>32</td>\n",
       "      <td>78.750993</td>\n",
       "      <td>78.672633</td>\n",
       "      <td>0.009102</td>\n",
       "      <td>0.001203</td>\n",
       "    </tr>\n",
       "    <tr>\n",
       "      <th>34</th>\n",
       "      <td>3</td>\n",
       "      <td>32</td>\n",
       "      <td>128</td>\n",
       "      <td>78.750993</td>\n",
       "      <td>78.672633</td>\n",
       "      <td>0.007307</td>\n",
       "      <td>0.001001</td>\n",
       "    </tr>\n",
       "    <tr>\n",
       "      <th>35</th>\n",
       "      <td>3</td>\n",
       "      <td>32</td>\n",
       "      <td>256</td>\n",
       "      <td>78.750993</td>\n",
       "      <td>78.672633</td>\n",
       "      <td>0.007171</td>\n",
       "      <td>0.001202</td>\n",
       "    </tr>\n",
       "    <tr>\n",
       "      <th>36</th>\n",
       "      <td>3</td>\n",
       "      <td>64</td>\n",
       "      <td>32</td>\n",
       "      <td>78.750993</td>\n",
       "      <td>78.672633</td>\n",
       "      <td>0.008296</td>\n",
       "      <td>0.001401</td>\n",
       "    </tr>\n",
       "  </tbody>\n",
       "</table>\n",
       "</div>"
      ],
      "text/plain": [
       "    max_depth  min_samples_leaf  min_samples_split      train       test  \\\n",
       "63          4               256                256  78.750993  78.672633   \n",
       "48          4                32                 32  78.750993  78.672633   \n",
       "34          3                32                128  78.750993  78.672633   \n",
       "35          3                32                256  78.750993  78.672633   \n",
       "36          3                64                 32  78.750993  78.672633   \n",
       "\n",
       "    fit_time  score_time  \n",
       "63  0.008522    0.001001  \n",
       "48  0.009102    0.001203  \n",
       "34  0.007307    0.001001  \n",
       "35  0.007171    0.001202  \n",
       "36  0.008296    0.001401  "
      ]
     },
     "execution_count": 157,
     "metadata": {},
     "output_type": "execute_result"
    }
   ],
   "source": [
    "results.sort_values(\"test\", ascending=False).head()"
   ]
  },
  {
   "attachments": {},
   "cell_type": "markdown",
   "metadata": {
    "colab_type": "text",
    "id": "at5ydyJOqQMv"
   },
   "source": [
    "### Explorando espaço de Hiperparâmetros com GridSearchCV\n",
    "\n",
    "O GridSearchCV é uma ferramenta usada para automatizar o processo de ajuste dos parâmetros de um algoritmo, pois ele fará de maneira sistemática diversas combinações dos parâmetros e depois de avaliá-los os armazenará num único objeto."
   ]
  },
  {
   "cell_type": "code",
   "execution_count": 162,
   "metadata": {
    "colab": {
     "base_uri": "https://localhost:8080/",
     "height": 1001
    },
    "colab_type": "code",
    "id": "Zb69KkJwljln",
    "outputId": "8007092f-69e1-4601-ef44-94c6c9fb3f9d",
    "vscode": {
     "languageId": "python"
    }
   },
   "outputs": [
    {
     "data": {
      "text/html": [
       "<div>\n",
       "<style scoped>\n",
       "    .dataframe tbody tr th:only-of-type {\n",
       "        vertical-align: middle;\n",
       "    }\n",
       "\n",
       "    .dataframe tbody tr th {\n",
       "        vertical-align: top;\n",
       "    }\n",
       "\n",
       "    .dataframe thead th {\n",
       "        text-align: right;\n",
       "    }\n",
       "</style>\n",
       "<table border=\"1\" class=\"dataframe\">\n",
       "  <thead>\n",
       "    <tr style=\"text-align: right;\">\n",
       "      <th></th>\n",
       "      <th>mean_fit_time</th>\n",
       "      <th>std_fit_time</th>\n",
       "      <th>mean_score_time</th>\n",
       "      <th>std_score_time</th>\n",
       "      <th>param_criterion</th>\n",
       "      <th>param_max_depth</th>\n",
       "      <th>param_min_samples_leaf</th>\n",
       "      <th>param_min_samples_split</th>\n",
       "      <th>params</th>\n",
       "      <th>split0_test_score</th>\n",
       "      <th>...</th>\n",
       "      <th>split3_test_score</th>\n",
       "      <th>split4_test_score</th>\n",
       "      <th>split5_test_score</th>\n",
       "      <th>split6_test_score</th>\n",
       "      <th>split7_test_score</th>\n",
       "      <th>split8_test_score</th>\n",
       "      <th>split9_test_score</th>\n",
       "      <th>mean_test_score</th>\n",
       "      <th>std_test_score</th>\n",
       "      <th>rank_test_score</th>\n",
       "    </tr>\n",
       "  </thead>\n",
       "  <tbody>\n",
       "    <tr>\n",
       "      <th>0</th>\n",
       "      <td>0.008808</td>\n",
       "      <td>1.077691e-03</td>\n",
       "      <td>0.001702</td>\n",
       "      <td>0.000782</td>\n",
       "      <td>gini</td>\n",
       "      <td>3</td>\n",
       "      <td>32</td>\n",
       "      <td>32</td>\n",
       "      <td>{'criterion': 'gini', 'max_depth': 3, 'min_sam...</td>\n",
       "      <td>0.804757</td>\n",
       "      <td>...</td>\n",
       "      <td>0.78408</td>\n",
       "      <td>0.783181</td>\n",
       "      <td>0.797809</td>\n",
       "      <td>0.762866</td>\n",
       "      <td>0.781818</td>\n",
       "      <td>0.77551</td>\n",
       "      <td>0.790262</td>\n",
       "      <td>0.786726</td>\n",
       "      <td>0.011361</td>\n",
       "      <td>1</td>\n",
       "    </tr>\n",
       "    <tr>\n",
       "      <th>1</th>\n",
       "      <td>0.008008</td>\n",
       "      <td>6.125084e-07</td>\n",
       "      <td>0.001401</td>\n",
       "      <td>0.000490</td>\n",
       "      <td>gini</td>\n",
       "      <td>3</td>\n",
       "      <td>32</td>\n",
       "      <td>64</td>\n",
       "      <td>{'criterion': 'gini', 'max_depth': 3, 'min_sam...</td>\n",
       "      <td>0.804757</td>\n",
       "      <td>...</td>\n",
       "      <td>0.78408</td>\n",
       "      <td>0.783181</td>\n",
       "      <td>0.797809</td>\n",
       "      <td>0.762866</td>\n",
       "      <td>0.781818</td>\n",
       "      <td>0.77551</td>\n",
       "      <td>0.790262</td>\n",
       "      <td>0.786726</td>\n",
       "      <td>0.011361</td>\n",
       "      <td>1</td>\n",
       "    </tr>\n",
       "    <tr>\n",
       "      <th>2</th>\n",
       "      <td>0.008058</td>\n",
       "      <td>7.230210e-04</td>\n",
       "      <td>0.001252</td>\n",
       "      <td>0.000512</td>\n",
       "      <td>gini</td>\n",
       "      <td>3</td>\n",
       "      <td>32</td>\n",
       "      <td>128</td>\n",
       "      <td>{'criterion': 'gini', 'max_depth': 3, 'min_sam...</td>\n",
       "      <td>0.804757</td>\n",
       "      <td>...</td>\n",
       "      <td>0.78408</td>\n",
       "      <td>0.783181</td>\n",
       "      <td>0.797809</td>\n",
       "      <td>0.762866</td>\n",
       "      <td>0.781818</td>\n",
       "      <td>0.77551</td>\n",
       "      <td>0.790262</td>\n",
       "      <td>0.786726</td>\n",
       "      <td>0.011361</td>\n",
       "      <td>1</td>\n",
       "    </tr>\n",
       "    <tr>\n",
       "      <th>3</th>\n",
       "      <td>0.007367</td>\n",
       "      <td>4.506812e-04</td>\n",
       "      <td>0.001101</td>\n",
       "      <td>0.000300</td>\n",
       "      <td>gini</td>\n",
       "      <td>3</td>\n",
       "      <td>64</td>\n",
       "      <td>32</td>\n",
       "      <td>{'criterion': 'gini', 'max_depth': 3, 'min_sam...</td>\n",
       "      <td>0.804757</td>\n",
       "      <td>...</td>\n",
       "      <td>0.78408</td>\n",
       "      <td>0.783181</td>\n",
       "      <td>0.797809</td>\n",
       "      <td>0.762866</td>\n",
       "      <td>0.781818</td>\n",
       "      <td>0.77551</td>\n",
       "      <td>0.790262</td>\n",
       "      <td>0.786726</td>\n",
       "      <td>0.011361</td>\n",
       "      <td>1</td>\n",
       "    </tr>\n",
       "    <tr>\n",
       "      <th>4</th>\n",
       "      <td>0.007307</td>\n",
       "      <td>4.587919e-04</td>\n",
       "      <td>0.001201</td>\n",
       "      <td>0.000400</td>\n",
       "      <td>gini</td>\n",
       "      <td>3</td>\n",
       "      <td>64</td>\n",
       "      <td>64</td>\n",
       "      <td>{'criterion': 'gini', 'max_depth': 3, 'min_sam...</td>\n",
       "      <td>0.804757</td>\n",
       "      <td>...</td>\n",
       "      <td>0.78408</td>\n",
       "      <td>0.783181</td>\n",
       "      <td>0.797809</td>\n",
       "      <td>0.762866</td>\n",
       "      <td>0.781818</td>\n",
       "      <td>0.77551</td>\n",
       "      <td>0.790262</td>\n",
       "      <td>0.786726</td>\n",
       "      <td>0.011361</td>\n",
       "      <td>1</td>\n",
       "    </tr>\n",
       "  </tbody>\n",
       "</table>\n",
       "<p>5 rows × 22 columns</p>\n",
       "</div>"
      ],
      "text/plain": [
       "   mean_fit_time  std_fit_time  mean_score_time  std_score_time  \\\n",
       "0       0.008808  1.077691e-03         0.001702        0.000782   \n",
       "1       0.008008  6.125084e-07         0.001401        0.000490   \n",
       "2       0.008058  7.230210e-04         0.001252        0.000512   \n",
       "3       0.007367  4.506812e-04         0.001101        0.000300   \n",
       "4       0.007307  4.587919e-04         0.001201        0.000400   \n",
       "\n",
       "  param_criterion param_max_depth param_min_samples_leaf  \\\n",
       "0            gini               3                     32   \n",
       "1            gini               3                     32   \n",
       "2            gini               3                     32   \n",
       "3            gini               3                     64   \n",
       "4            gini               3                     64   \n",
       "\n",
       "  param_min_samples_split                                             params  \\\n",
       "0                      32  {'criterion': 'gini', 'max_depth': 3, 'min_sam...   \n",
       "1                      64  {'criterion': 'gini', 'max_depth': 3, 'min_sam...   \n",
       "2                     128  {'criterion': 'gini', 'max_depth': 3, 'min_sam...   \n",
       "3                      32  {'criterion': 'gini', 'max_depth': 3, 'min_sam...   \n",
       "4                      64  {'criterion': 'gini', 'max_depth': 3, 'min_sam...   \n",
       "\n",
       "   split0_test_score  ...  split3_test_score  split4_test_score  \\\n",
       "0           0.804757  ...            0.78408           0.783181   \n",
       "1           0.804757  ...            0.78408           0.783181   \n",
       "2           0.804757  ...            0.78408           0.783181   \n",
       "3           0.804757  ...            0.78408           0.783181   \n",
       "4           0.804757  ...            0.78408           0.783181   \n",
       "\n",
       "   split5_test_score  split6_test_score  split7_test_score  split8_test_score  \\\n",
       "0           0.797809           0.762866           0.781818            0.77551   \n",
       "1           0.797809           0.762866           0.781818            0.77551   \n",
       "2           0.797809           0.762866           0.781818            0.77551   \n",
       "3           0.797809           0.762866           0.781818            0.77551   \n",
       "4           0.797809           0.762866           0.781818            0.77551   \n",
       "\n",
       "   split9_test_score  mean_test_score  std_test_score  rank_test_score  \n",
       "0           0.790262         0.786726        0.011361                1  \n",
       "1           0.790262         0.786726        0.011361                1  \n",
       "2           0.790262         0.786726        0.011361                1  \n",
       "3           0.790262         0.786726        0.011361                1  \n",
       "4           0.790262         0.786726        0.011361                1  \n",
       "\n",
       "[5 rows x 22 columns]"
      ]
     },
     "execution_count": 162,
     "metadata": {},
     "output_type": "execute_result"
    }
   ],
   "source": [
    "SEED = 301\n",
    "np.random.seed(SEED)\n",
    "\n",
    "parameters = {\n",
    "    \"max_depth\": [3, 5],\n",
    "    \"min_samples_split\": [32, 64, 128],\n",
    "    \"min_samples_leaf\": [32, 64, 128],\n",
    "    \"criterion\": [\"gini\", \"entropy\"],\n",
    "}\n",
    "\n",
    "search = GridSearchCV(DecisionTreeClassifier(), parameters, cv=GroupKFold(n_splits=10))\n",
    "\n",
    "search.fit(x_bad, y_bad, groups=df.modelo)\n",
    "\n",
    "results = pd.DataFrame(search.cv_results_)\n",
    "results.head()"
   ]
  },
  {
   "cell_type": "code",
   "execution_count": 163,
   "metadata": {
    "colab": {
     "base_uri": "https://localhost:8080/",
     "height": 51
    },
    "colab_type": "code",
    "id": "xGEqRLcUrMuF",
    "outputId": "67455454-2563-4a0d-f1ed-caf3631ec678",
    "vscode": {
     "languageId": "python"
    }
   },
   "outputs": [
    {
     "name": "stdout",
     "output_type": "stream",
     "text": [
      "{'criterion': 'gini', 'max_depth': 3, 'min_samples_leaf': 32, 'min_samples_split': 32}\n",
      "78.67263337284332\n"
     ]
    }
   ],
   "source": [
    "print(search.best_params_)\n",
    "print(search.best_score_ * 100)"
   ]
  },
  {
   "cell_type": "code",
   "execution_count": 164,
   "metadata": {
    "colab": {
     "base_uri": "https://localhost:8080/",
     "height": 119
    },
    "colab_type": "code",
    "id": "EcXir723rbI5",
    "outputId": "c87ec896-0312-4092-af13-26d64f1fcf36",
    "vscode": {
     "languageId": "python"
    }
   },
   "outputs": [
    {
     "data": {
      "text/html": [
       "<style>#sk-container-id-5 {color: black;background-color: white;}#sk-container-id-5 pre{padding: 0;}#sk-container-id-5 div.sk-toggleable {background-color: white;}#sk-container-id-5 label.sk-toggleable__label {cursor: pointer;display: block;width: 100%;margin-bottom: 0;padding: 0.3em;box-sizing: border-box;text-align: center;}#sk-container-id-5 label.sk-toggleable__label-arrow:before {content: \"▸\";float: left;margin-right: 0.25em;color: #696969;}#sk-container-id-5 label.sk-toggleable__label-arrow:hover:before {color: black;}#sk-container-id-5 div.sk-estimator:hover label.sk-toggleable__label-arrow:before {color: black;}#sk-container-id-5 div.sk-toggleable__content {max-height: 0;max-width: 0;overflow: hidden;text-align: left;background-color: #f0f8ff;}#sk-container-id-5 div.sk-toggleable__content pre {margin: 0.2em;color: black;border-radius: 0.25em;background-color: #f0f8ff;}#sk-container-id-5 input.sk-toggleable__control:checked~div.sk-toggleable__content {max-height: 200px;max-width: 100%;overflow: auto;}#sk-container-id-5 input.sk-toggleable__control:checked~label.sk-toggleable__label-arrow:before {content: \"▾\";}#sk-container-id-5 div.sk-estimator input.sk-toggleable__control:checked~label.sk-toggleable__label {background-color: #d4ebff;}#sk-container-id-5 div.sk-label input.sk-toggleable__control:checked~label.sk-toggleable__label {background-color: #d4ebff;}#sk-container-id-5 input.sk-hidden--visually {border: 0;clip: rect(1px 1px 1px 1px);clip: rect(1px, 1px, 1px, 1px);height: 1px;margin: -1px;overflow: hidden;padding: 0;position: absolute;width: 1px;}#sk-container-id-5 div.sk-estimator {font-family: monospace;background-color: #f0f8ff;border: 1px dotted black;border-radius: 0.25em;box-sizing: border-box;margin-bottom: 0.5em;}#sk-container-id-5 div.sk-estimator:hover {background-color: #d4ebff;}#sk-container-id-5 div.sk-parallel-item::after {content: \"\";width: 100%;border-bottom: 1px solid gray;flex-grow: 1;}#sk-container-id-5 div.sk-label:hover label.sk-toggleable__label {background-color: #d4ebff;}#sk-container-id-5 div.sk-serial::before {content: \"\";position: absolute;border-left: 1px solid gray;box-sizing: border-box;top: 0;bottom: 0;left: 50%;z-index: 0;}#sk-container-id-5 div.sk-serial {display: flex;flex-direction: column;align-items: center;background-color: white;padding-right: 0.2em;padding-left: 0.2em;position: relative;}#sk-container-id-5 div.sk-item {position: relative;z-index: 1;}#sk-container-id-5 div.sk-parallel {display: flex;align-items: stretch;justify-content: center;background-color: white;position: relative;}#sk-container-id-5 div.sk-item::before, #sk-container-id-5 div.sk-parallel-item::before {content: \"\";position: absolute;border-left: 1px solid gray;box-sizing: border-box;top: 0;bottom: 0;left: 50%;z-index: -1;}#sk-container-id-5 div.sk-parallel-item {display: flex;flex-direction: column;z-index: 1;position: relative;background-color: white;}#sk-container-id-5 div.sk-parallel-item:first-child::after {align-self: flex-end;width: 50%;}#sk-container-id-5 div.sk-parallel-item:last-child::after {align-self: flex-start;width: 50%;}#sk-container-id-5 div.sk-parallel-item:only-child::after {width: 0;}#sk-container-id-5 div.sk-dashed-wrapped {border: 1px dashed gray;margin: 0 0.4em 0.5em 0.4em;box-sizing: border-box;padding-bottom: 0.4em;background-color: white;}#sk-container-id-5 div.sk-label label {font-family: monospace;font-weight: bold;display: inline-block;line-height: 1.2em;}#sk-container-id-5 div.sk-label-container {text-align: center;}#sk-container-id-5 div.sk-container {/* jupyter's `normalize.less` sets `[hidden] { display: none; }` but bootstrap.min.css set `[hidden] { display: none !important; }` so we also need the `!important` here to be able to override the default hidden behavior on the sphinx rendered scikit-learn.org. See: https://github.com/scikit-learn/scikit-learn/issues/21755 */display: inline-block !important;position: relative;}#sk-container-id-5 div.sk-text-repr-fallback {display: none;}</style><div id=\"sk-container-id-5\" class=\"sk-top-container\"><div class=\"sk-text-repr-fallback\"><pre>DecisionTreeClassifier(max_depth=3, min_samples_leaf=32, min_samples_split=32)</pre><b>In a Jupyter environment, please rerun this cell to show the HTML representation or trust the notebook. <br />On GitHub, the HTML representation is unable to render, please try loading this page with nbviewer.org.</b></div><div class=\"sk-container\" hidden><div class=\"sk-item\"><div class=\"sk-estimator sk-toggleable\"><input class=\"sk-toggleable__control sk-hidden--visually\" id=\"sk-estimator-id-5\" type=\"checkbox\" checked><label for=\"sk-estimator-id-5\" class=\"sk-toggleable__label sk-toggleable__label-arrow\">DecisionTreeClassifier</label><div class=\"sk-toggleable__content\"><pre>DecisionTreeClassifier(max_depth=3, min_samples_leaf=32, min_samples_split=32)</pre></div></div></div></div></div>"
      ],
      "text/plain": [
       "DecisionTreeClassifier(max_depth=3, min_samples_leaf=32, min_samples_split=32)"
      ]
     },
     "execution_count": 164,
     "metadata": {},
     "output_type": "execute_result"
    }
   ],
   "source": [
    "best_estimator = search.best_estimator_\n",
    "best_estimator"
   ]
  },
  {
   "attachments": {},
   "cell_type": "markdown",
   "metadata": {},
   "source": [
    "### Análise Otimista da Amostragem de Teste"
   ]
  },
  {
   "cell_type": "code",
   "execution_count": 166,
   "metadata": {
    "colab": {
     "base_uri": "https://localhost:8080/",
     "height": 34
    },
    "colab_type": "code",
    "id": "fBUiCF3krkZo",
    "outputId": "8c2a9814-d909-44c5-e556-d349f16a37ce",
    "vscode": {
     "languageId": "python"
    }
   },
   "outputs": [
    {
     "name": "stdout",
     "output_type": "stream",
     "text": [
      "Acurária: 78.75%\n"
     ]
    }
   ],
   "source": [
    "predicts = best_estimator.predict(x_bad)\n",
    "accuracy = accuracy_score(predicts, y_bad) * 100\n",
    "print(\"Acurária: %.2f%%\" % accuracy)"
   ]
  },
  {
   "attachments": {},
   "cell_type": "markdown",
   "metadata": {
    "colab_type": "text",
    "id": "mM-vg1Mrtj7V"
   },
   "source": [
    "### Análise sem Vício com Validação Cruzada nos Testes (Nested Cross Validation)\n",
    "\n",
    "O modelo sem a utilização do nested cross validade usa o mesmo conjunto de dados para treinar e testar repetidas vezes, alterando somente qual parcela é utilizada para treino e qual para teste, mas o algoritmo já \"viu\" aqueles dados antes a medida que vai sendo realizado o CV, e isso pode \"vazar\" informações para o modelo e causar overfit. Com o nested cross validade separa-se o conjunto não apenas em treino e teste, mas em treino-validação-teste, seria algo como \"um cross validade dentro de um cross validade\", ou seja um cross validade aninhado (nested cross validade). Com isso garante-se que uma parcela dos dados serão os dados nunca vistos (conjunto de teste), e as outras parcelas serão utilizadas para treinar e validar diversas vezes (conjuntos treino-validação). O objetivo é evitar o overfit e ter uma métrica mais real de como o modelo estará se trabalhando no mundo real."
   ]
  },
  {
   "cell_type": "code",
   "execution_count": 168,
   "metadata": {
    "colab": {
     "base_uri": "https://localhost:8080/",
     "height": 2275
    },
    "colab_type": "code",
    "id": "cqZznVDKr--h",
    "outputId": "93115510-6916-4732-b730-35b76cec6f2b",
    "vscode": {
     "languageId": "python"
    }
   },
   "outputs": [
    {
     "name": "stdout",
     "output_type": "stream",
     "text": [
      "A Biblioteca Pandas não suporta Nested Cross Validation com GroupKFold, utiliza-se, portanto, somente o KFold.\n"
     ]
    }
   ],
   "source": [
    "try:\n",
    "    scores = cross_val_score(\n",
    "        search, x_bad, y_bad, cv=GroupKFold(n_splits=10), groups=df.modelo\n",
    "    )\n",
    "except:\n",
    "    print(\n",
    "        \"A Biblioteca Pandas não suporta Nested Cross Validation com GroupKFold, utiliza-se, portanto, somente o KFold.\"\n",
    "    )"
   ]
  },
  {
   "cell_type": "code",
   "execution_count": 171,
   "metadata": {
    "colab": {
     "base_uri": "https://localhost:8080/",
     "height": 831
    },
    "colab_type": "code",
    "id": "9aYIMS1At7ZW",
    "outputId": "dab66c41-71ca-4601-c2eb-428aac573963",
    "vscode": {
     "languageId": "python"
    }
   },
   "outputs": [
    {
     "data": {
      "text/html": [
       "<div>\n",
       "<style scoped>\n",
       "    .dataframe tbody tr th:only-of-type {\n",
       "        vertical-align: middle;\n",
       "    }\n",
       "\n",
       "    .dataframe tbody tr th {\n",
       "        vertical-align: top;\n",
       "    }\n",
       "\n",
       "    .dataframe thead th {\n",
       "        text-align: right;\n",
       "    }\n",
       "</style>\n",
       "<table border=\"1\" class=\"dataframe\">\n",
       "  <thead>\n",
       "    <tr style=\"text-align: right;\">\n",
       "      <th></th>\n",
       "      <th>mean_fit_time</th>\n",
       "      <th>std_fit_time</th>\n",
       "      <th>mean_score_time</th>\n",
       "      <th>std_score_time</th>\n",
       "      <th>param_criterion</th>\n",
       "      <th>param_max_depth</th>\n",
       "      <th>param_min_samples_leaf</th>\n",
       "      <th>param_min_samples_split</th>\n",
       "      <th>params</th>\n",
       "      <th>split0_test_score</th>\n",
       "      <th>split1_test_score</th>\n",
       "      <th>split2_test_score</th>\n",
       "      <th>split3_test_score</th>\n",
       "      <th>split4_test_score</th>\n",
       "      <th>mean_test_score</th>\n",
       "      <th>std_test_score</th>\n",
       "      <th>rank_test_score</th>\n",
       "    </tr>\n",
       "  </thead>\n",
       "  <tbody>\n",
       "    <tr>\n",
       "      <th>0</th>\n",
       "      <td>0.007949</td>\n",
       "      <td>6.433056e-04</td>\n",
       "      <td>0.001201</td>\n",
       "      <td>4.006393e-04</td>\n",
       "      <td>gini</td>\n",
       "      <td>3</td>\n",
       "      <td>32</td>\n",
       "      <td>32</td>\n",
       "      <td>{'criterion': 'gini', 'max_depth': 3, 'min_sam...</td>\n",
       "      <td>0.784</td>\n",
       "      <td>0.776</td>\n",
       "      <td>0.8025</td>\n",
       "      <td>0.793</td>\n",
       "      <td>0.7795</td>\n",
       "      <td>0.787</td>\n",
       "      <td>0.009618</td>\n",
       "      <td>1</td>\n",
       "    </tr>\n",
       "    <tr>\n",
       "      <th>1</th>\n",
       "      <td>0.007407</td>\n",
       "      <td>4.906223e-04</td>\n",
       "      <td>0.001602</td>\n",
       "      <td>4.900771e-04</td>\n",
       "      <td>gini</td>\n",
       "      <td>3</td>\n",
       "      <td>32</td>\n",
       "      <td>64</td>\n",
       "      <td>{'criterion': 'gini', 'max_depth': 3, 'min_sam...</td>\n",
       "      <td>0.784</td>\n",
       "      <td>0.776</td>\n",
       "      <td>0.8025</td>\n",
       "      <td>0.793</td>\n",
       "      <td>0.7795</td>\n",
       "      <td>0.787</td>\n",
       "      <td>0.009618</td>\n",
       "      <td>1</td>\n",
       "    </tr>\n",
       "    <tr>\n",
       "      <th>2</th>\n",
       "      <td>0.007206</td>\n",
       "      <td>4.007844e-04</td>\n",
       "      <td>0.001201</td>\n",
       "      <td>4.001619e-04</td>\n",
       "      <td>gini</td>\n",
       "      <td>3</td>\n",
       "      <td>32</td>\n",
       "      <td>128</td>\n",
       "      <td>{'criterion': 'gini', 'max_depth': 3, 'min_sam...</td>\n",
       "      <td>0.784</td>\n",
       "      <td>0.776</td>\n",
       "      <td>0.8025</td>\n",
       "      <td>0.793</td>\n",
       "      <td>0.7795</td>\n",
       "      <td>0.787</td>\n",
       "      <td>0.009618</td>\n",
       "      <td>1</td>\n",
       "    </tr>\n",
       "    <tr>\n",
       "      <th>3</th>\n",
       "      <td>0.007006</td>\n",
       "      <td>5.761645e-07</td>\n",
       "      <td>0.001001</td>\n",
       "      <td>2.431402e-07</td>\n",
       "      <td>gini</td>\n",
       "      <td>3</td>\n",
       "      <td>64</td>\n",
       "      <td>32</td>\n",
       "      <td>{'criterion': 'gini', 'max_depth': 3, 'min_sam...</td>\n",
       "      <td>0.784</td>\n",
       "      <td>0.776</td>\n",
       "      <td>0.8025</td>\n",
       "      <td>0.793</td>\n",
       "      <td>0.7795</td>\n",
       "      <td>0.787</td>\n",
       "      <td>0.009618</td>\n",
       "      <td>1</td>\n",
       "    </tr>\n",
       "    <tr>\n",
       "      <th>4</th>\n",
       "      <td>0.006806</td>\n",
       "      <td>4.003764e-04</td>\n",
       "      <td>0.001001</td>\n",
       "      <td>1.907349e-07</td>\n",
       "      <td>gini</td>\n",
       "      <td>3</td>\n",
       "      <td>64</td>\n",
       "      <td>64</td>\n",
       "      <td>{'criterion': 'gini', 'max_depth': 3, 'min_sam...</td>\n",
       "      <td>0.784</td>\n",
       "      <td>0.776</td>\n",
       "      <td>0.8025</td>\n",
       "      <td>0.793</td>\n",
       "      <td>0.7795</td>\n",
       "      <td>0.787</td>\n",
       "      <td>0.009618</td>\n",
       "      <td>1</td>\n",
       "    </tr>\n",
       "  </tbody>\n",
       "</table>\n",
       "</div>"
      ],
      "text/plain": [
       "   mean_fit_time  std_fit_time  mean_score_time  std_score_time  \\\n",
       "0       0.007949  6.433056e-04         0.001201    4.006393e-04   \n",
       "1       0.007407  4.906223e-04         0.001602    4.900771e-04   \n",
       "2       0.007206  4.007844e-04         0.001201    4.001619e-04   \n",
       "3       0.007006  5.761645e-07         0.001001    2.431402e-07   \n",
       "4       0.006806  4.003764e-04         0.001001    1.907349e-07   \n",
       "\n",
       "  param_criterion param_max_depth param_min_samples_leaf  \\\n",
       "0            gini               3                     32   \n",
       "1            gini               3                     32   \n",
       "2            gini               3                     32   \n",
       "3            gini               3                     64   \n",
       "4            gini               3                     64   \n",
       "\n",
       "  param_min_samples_split                                             params  \\\n",
       "0                      32  {'criterion': 'gini', 'max_depth': 3, 'min_sam...   \n",
       "1                      64  {'criterion': 'gini', 'max_depth': 3, 'min_sam...   \n",
       "2                     128  {'criterion': 'gini', 'max_depth': 3, 'min_sam...   \n",
       "3                      32  {'criterion': 'gini', 'max_depth': 3, 'min_sam...   \n",
       "4                      64  {'criterion': 'gini', 'max_depth': 3, 'min_sam...   \n",
       "\n",
       "   split0_test_score  split1_test_score  split2_test_score  split3_test_score  \\\n",
       "0              0.784              0.776             0.8025              0.793   \n",
       "1              0.784              0.776             0.8025              0.793   \n",
       "2              0.784              0.776             0.8025              0.793   \n",
       "3              0.784              0.776             0.8025              0.793   \n",
       "4              0.784              0.776             0.8025              0.793   \n",
       "\n",
       "   split4_test_score  mean_test_score  std_test_score  rank_test_score  \n",
       "0             0.7795            0.787        0.009618                1  \n",
       "1             0.7795            0.787        0.009618                1  \n",
       "2             0.7795            0.787        0.009618                1  \n",
       "3             0.7795            0.787        0.009618                1  \n",
       "4             0.7795            0.787        0.009618                1  "
      ]
     },
     "execution_count": 171,
     "metadata": {},
     "output_type": "execute_result"
    }
   ],
   "source": [
    "SEED = 301\n",
    "np.random.seed(SEED)\n",
    "\n",
    "parameters = {\n",
    "    \"max_depth\": [3, 5],\n",
    "    \"min_samples_split\": [32, 64, 128],\n",
    "    \"min_samples_leaf\": [32, 64, 128],\n",
    "    \"criterion\": [\"gini\", \"entropy\"],\n",
    "}\n",
    "\n",
    "search = GridSearchCV(\n",
    "    DecisionTreeClassifier(), parameters, cv=KFold(n_splits=5, shuffle=True)\n",
    ")\n",
    "\n",
    "search.fit(x_bad, y_bad)\n",
    "\n",
    "results = pd.DataFrame(search.cv_results_)\n",
    "results.head()"
   ]
  },
  {
   "attachments": {},
   "cell_type": "markdown",
   "metadata": {},
   "source": [
    "### Análise com Cross Validation Score e Exibição da melhor Árvore de Decisão\n",
    "\n",
    "O método cross_val_score realiza todo o trabalho que tivemos para executar um modelo, dividir a base de dados em treino e teste e através do parâmetro cv informamos quantas vezes isso será executado e teremos o mesmo resultado final"
   ]
  },
  {
   "cell_type": "code",
   "execution_count": 178,
   "metadata": {
    "colab": {
     "base_uri": "https://localhost:8080/",
     "height": 34
    },
    "colab_type": "code",
    "id": "IHOi-91kulqx",
    "outputId": "e571f494-0ce0-4ee3-acb6-008a8d81d608",
    "vscode": {
     "languageId": "python"
    }
   },
   "outputs": [
    {
     "data": {
      "text/plain": [
       "array([0.7795, 0.7905, 0.786 , 0.791 , 0.788 ])"
      ]
     },
     "execution_count": 178,
     "metadata": {},
     "output_type": "execute_result"
    }
   ],
   "source": [
    "scores = cross_val_score(search, x_bad, y_bad, cv=KFold(n_splits=5, shuffle=True))\n",
    "scores"
   ]
  },
  {
   "cell_type": "code",
   "execution_count": 179,
   "metadata": {
    "colab": {},
    "colab_type": "code",
    "id": "Lc5EU1Uou07O",
    "vscode": {
     "languageId": "python"
    }
   },
   "outputs": [
    {
     "name": "stdout",
     "output_type": "stream",
     "text": [
      "Acurácia Média: 78.70%\n",
      "Intervalo de Acurácia: 77.87% a 79.53%\n"
     ]
    }
   ],
   "source": [
    "def print_score(scores):\n",
    "    media = scores.mean() * 100\n",
    "    desvio = scores.std() * 100\n",
    "    print(\"Acurácia Média: %.2f%%\" % media)\n",
    "    print(\n",
    "        \"Intervalo de Acurácia: %.2f%% a %.2f%%\"\n",
    "        % (media - 2 * desvio, media + 2 * desvio)\n",
    "    )\n",
    "\n",
    "\n",
    "print_score(scores)"
   ]
  },
  {
   "cell_type": "code",
   "execution_count": 180,
   "metadata": {
    "colab": {
     "base_uri": "https://localhost:8080/",
     "height": 119
    },
    "colab_type": "code",
    "id": "7fUVmolpvKco",
    "outputId": "7d91d46f-cd79-439d-f132-6eb7b8f44cd8",
    "vscode": {
     "languageId": "python"
    }
   },
   "outputs": [
    {
     "data": {
      "text/html": [
       "<style>#sk-container-id-7 {color: black;background-color: white;}#sk-container-id-7 pre{padding: 0;}#sk-container-id-7 div.sk-toggleable {background-color: white;}#sk-container-id-7 label.sk-toggleable__label {cursor: pointer;display: block;width: 100%;margin-bottom: 0;padding: 0.3em;box-sizing: border-box;text-align: center;}#sk-container-id-7 label.sk-toggleable__label-arrow:before {content: \"▸\";float: left;margin-right: 0.25em;color: #696969;}#sk-container-id-7 label.sk-toggleable__label-arrow:hover:before {color: black;}#sk-container-id-7 div.sk-estimator:hover label.sk-toggleable__label-arrow:before {color: black;}#sk-container-id-7 div.sk-toggleable__content {max-height: 0;max-width: 0;overflow: hidden;text-align: left;background-color: #f0f8ff;}#sk-container-id-7 div.sk-toggleable__content pre {margin: 0.2em;color: black;border-radius: 0.25em;background-color: #f0f8ff;}#sk-container-id-7 input.sk-toggleable__control:checked~div.sk-toggleable__content {max-height: 200px;max-width: 100%;overflow: auto;}#sk-container-id-7 input.sk-toggleable__control:checked~label.sk-toggleable__label-arrow:before {content: \"▾\";}#sk-container-id-7 div.sk-estimator input.sk-toggleable__control:checked~label.sk-toggleable__label {background-color: #d4ebff;}#sk-container-id-7 div.sk-label input.sk-toggleable__control:checked~label.sk-toggleable__label {background-color: #d4ebff;}#sk-container-id-7 input.sk-hidden--visually {border: 0;clip: rect(1px 1px 1px 1px);clip: rect(1px, 1px, 1px, 1px);height: 1px;margin: -1px;overflow: hidden;padding: 0;position: absolute;width: 1px;}#sk-container-id-7 div.sk-estimator {font-family: monospace;background-color: #f0f8ff;border: 1px dotted black;border-radius: 0.25em;box-sizing: border-box;margin-bottom: 0.5em;}#sk-container-id-7 div.sk-estimator:hover {background-color: #d4ebff;}#sk-container-id-7 div.sk-parallel-item::after {content: \"\";width: 100%;border-bottom: 1px solid gray;flex-grow: 1;}#sk-container-id-7 div.sk-label:hover label.sk-toggleable__label {background-color: #d4ebff;}#sk-container-id-7 div.sk-serial::before {content: \"\";position: absolute;border-left: 1px solid gray;box-sizing: border-box;top: 0;bottom: 0;left: 50%;z-index: 0;}#sk-container-id-7 div.sk-serial {display: flex;flex-direction: column;align-items: center;background-color: white;padding-right: 0.2em;padding-left: 0.2em;position: relative;}#sk-container-id-7 div.sk-item {position: relative;z-index: 1;}#sk-container-id-7 div.sk-parallel {display: flex;align-items: stretch;justify-content: center;background-color: white;position: relative;}#sk-container-id-7 div.sk-item::before, #sk-container-id-7 div.sk-parallel-item::before {content: \"\";position: absolute;border-left: 1px solid gray;box-sizing: border-box;top: 0;bottom: 0;left: 50%;z-index: -1;}#sk-container-id-7 div.sk-parallel-item {display: flex;flex-direction: column;z-index: 1;position: relative;background-color: white;}#sk-container-id-7 div.sk-parallel-item:first-child::after {align-self: flex-end;width: 50%;}#sk-container-id-7 div.sk-parallel-item:last-child::after {align-self: flex-start;width: 50%;}#sk-container-id-7 div.sk-parallel-item:only-child::after {width: 0;}#sk-container-id-7 div.sk-dashed-wrapped {border: 1px dashed gray;margin: 0 0.4em 0.5em 0.4em;box-sizing: border-box;padding-bottom: 0.4em;background-color: white;}#sk-container-id-7 div.sk-label label {font-family: monospace;font-weight: bold;display: inline-block;line-height: 1.2em;}#sk-container-id-7 div.sk-label-container {text-align: center;}#sk-container-id-7 div.sk-container {/* jupyter's `normalize.less` sets `[hidden] { display: none; }` but bootstrap.min.css set `[hidden] { display: none !important; }` so we also need the `!important` here to be able to override the default hidden behavior on the sphinx rendered scikit-learn.org. See: https://github.com/scikit-learn/scikit-learn/issues/21755 */display: inline-block !important;position: relative;}#sk-container-id-7 div.sk-text-repr-fallback {display: none;}</style><div id=\"sk-container-id-7\" class=\"sk-top-container\"><div class=\"sk-text-repr-fallback\"><pre>DecisionTreeClassifier(max_depth=3, min_samples_leaf=32, min_samples_split=32)</pre><b>In a Jupyter environment, please rerun this cell to show the HTML representation or trust the notebook. <br />On GitHub, the HTML representation is unable to render, please try loading this page with nbviewer.org.</b></div><div class=\"sk-container\" hidden><div class=\"sk-item\"><div class=\"sk-estimator sk-toggleable\"><input class=\"sk-toggleable__control sk-hidden--visually\" id=\"sk-estimator-id-7\" type=\"checkbox\" checked><label for=\"sk-estimator-id-7\" class=\"sk-toggleable__label sk-toggleable__label-arrow\">DecisionTreeClassifier</label><div class=\"sk-toggleable__content\"><pre>DecisionTreeClassifier(max_depth=3, min_samples_leaf=32, min_samples_split=32)</pre></div></div></div></div></div>"
      ],
      "text/plain": [
       "DecisionTreeClassifier(max_depth=3, min_samples_leaf=32, min_samples_split=32)"
      ]
     },
     "execution_count": 180,
     "metadata": {},
     "output_type": "execute_result"
    }
   ],
   "source": [
    "best_estimator = search.best_estimator_\n",
    "best_estimator"
   ]
  },
  {
   "cell_type": "code",
   "execution_count": 181,
   "metadata": {
    "colab": {
     "base_uri": "https://localhost:8080/",
     "height": 598
    },
    "colab_type": "code",
    "id": "eDBL3kBxvPPi",
    "outputId": "e209a324-a3f6-4e4a-f860-a4b642c27ed6",
    "vscode": {
     "languageId": "python"
    }
   },
   "outputs": [
    {
     "data": {
      "image/svg+xml": "<?xml version=\"1.0\" encoding=\"UTF-8\" standalone=\"no\"?>\n<!DOCTYPE svg PUBLIC \"-//W3C//DTD SVG 1.1//EN\"\n \"http://www.w3.org/Graphics/SVG/1.1/DTD/svg11.dtd\">\n<!-- Generated by graphviz version 7.0.2 (20221119.0110)\n -->\n<!-- Title: Tree Pages: 1 -->\n<svg width=\"899pt\" height=\"433pt\"\n viewBox=\"0.00 0.00 899.00 433.00\" xmlns=\"http://www.w3.org/2000/svg\" xmlns:xlink=\"http://www.w3.org/1999/xlink\">\n<g id=\"graph0\" class=\"graph\" transform=\"scale(1 1) rotate(0) translate(4 429)\">\n<title>Tree</title>\n<polygon fill=\"white\" stroke=\"none\" points=\"-4,4 -4,-429 895,-429 895,4 -4,4\"/>\n<!-- 0 -->\n<g id=\"node1\" class=\"node\">\n<title>0</title>\n<path fill=\"#c8e4f8\" stroke=\"black\" d=\"M368.5,-425C368.5,-425 245.5,-425 245.5,-425 239.5,-425 233.5,-419 233.5,-413 233.5,-413 233.5,-354 233.5,-354 233.5,-348 239.5,-342 245.5,-342 245.5,-342 368.5,-342 368.5,-342 374.5,-342 380.5,-348 380.5,-354 380.5,-354 380.5,-413 380.5,-413 380.5,-419 374.5,-425 368.5,-425\"/>\n<text text-anchor=\"middle\" x=\"307\" y=\"-409.8\" font-family=\"Helvetica,sans-Serif\" font-size=\"14.00\">preco &lt;= 59982.246</text>\n<text text-anchor=\"middle\" x=\"307\" y=\"-394.8\" font-family=\"Helvetica,sans-Serif\" font-size=\"14.00\">gini = 0.487</text>\n<text text-anchor=\"middle\" x=\"307\" y=\"-379.8\" font-family=\"Helvetica,sans-Serif\" font-size=\"14.00\">samples = 10000</text>\n<text text-anchor=\"middle\" x=\"307\" y=\"-364.8\" font-family=\"Helvetica,sans-Serif\" font-size=\"14.00\">value = [4200, 5800]</text>\n<text text-anchor=\"middle\" x=\"307\" y=\"-349.8\" font-family=\"Helvetica,sans-Serif\" font-size=\"14.00\">class = sim</text>\n</g>\n<!-- 1 -->\n<g id=\"node2\" class=\"node\">\n<title>1</title>\n<path fill=\"#52a9e8\" stroke=\"black\" d=\"M275.5,-306C275.5,-306 152.5,-306 152.5,-306 146.5,-306 140.5,-300 140.5,-294 140.5,-294 140.5,-235 140.5,-235 140.5,-229 146.5,-223 152.5,-223 152.5,-223 275.5,-223 275.5,-223 281.5,-223 287.5,-229 287.5,-235 287.5,-235 287.5,-294 287.5,-294 287.5,-300 281.5,-306 275.5,-306\"/>\n<text text-anchor=\"middle\" x=\"214\" y=\"-290.8\" font-family=\"Helvetica,sans-Serif\" font-size=\"14.00\">preco &lt;= 40083.385</text>\n<text text-anchor=\"middle\" x=\"214\" y=\"-275.8\" font-family=\"Helvetica,sans-Serif\" font-size=\"14.00\">gini = 0.198</text>\n<text text-anchor=\"middle\" x=\"214\" y=\"-260.8\" font-family=\"Helvetica,sans-Serif\" font-size=\"14.00\">samples = 4347</text>\n<text text-anchor=\"middle\" x=\"214\" y=\"-245.8\" font-family=\"Helvetica,sans-Serif\" font-size=\"14.00\">value = [484, 3863]</text>\n<text text-anchor=\"middle\" x=\"214\" y=\"-230.8\" font-family=\"Helvetica,sans-Serif\" font-size=\"14.00\">class = sim</text>\n</g>\n<!-- 0&#45;&gt;1 -->\n<g id=\"edge1\" class=\"edge\">\n<title>0&#45;&gt;1</title>\n<path fill=\"none\" stroke=\"black\" d=\"M274.47,-341.58C267.64,-332.98 260.36,-323.82 253.3,-314.95\"/>\n<polygon fill=\"black\" stroke=\"black\" points=\"256.26,-313.04 247.29,-307.39 250.78,-317.39 256.26,-313.04\"/>\n<text text-anchor=\"middle\" x=\"243.51\" y=\"-327.34\" font-family=\"Helvetica,sans-Serif\" font-size=\"14.00\">True</text>\n</g>\n<!-- 6 -->\n<g id=\"node7\" class=\"node\">\n<title>6</title>\n<path fill=\"#f3c3a0\" stroke=\"black\" d=\"M538,-306C538,-306 372,-306 372,-306 366,-306 360,-300 360,-294 360,-294 360,-235 360,-235 360,-229 366,-223 372,-223 372,-223 538,-223 538,-223 544,-223 550,-229 550,-235 550,-235 550,-294 550,-294 550,-300 544,-306 538,-306\"/>\n<text text-anchor=\"middle\" x=\"455\" y=\"-290.8\" font-family=\"Helvetica,sans-Serif\" font-size=\"14.00\">km_por_ano &lt;= 24124.006</text>\n<text text-anchor=\"middle\" x=\"455\" y=\"-275.8\" font-family=\"Helvetica,sans-Serif\" font-size=\"14.00\">gini = 0.45</text>\n<text text-anchor=\"middle\" x=\"455\" y=\"-260.8\" font-family=\"Helvetica,sans-Serif\" font-size=\"14.00\">samples = 5653</text>\n<text text-anchor=\"middle\" x=\"455\" y=\"-245.8\" font-family=\"Helvetica,sans-Serif\" font-size=\"14.00\">value = [3716, 1937]</text>\n<text text-anchor=\"middle\" x=\"455\" y=\"-230.8\" font-family=\"Helvetica,sans-Serif\" font-size=\"14.00\">class = não</text>\n</g>\n<!-- 0&#45;&gt;6 -->\n<g id=\"edge6\" class=\"edge\">\n<title>0&#45;&gt;6</title>\n<path fill=\"none\" stroke=\"black\" d=\"M358.76,-341.58C370.25,-332.49 382.54,-322.79 394.35,-313.45\"/>\n<polygon fill=\"black\" stroke=\"black\" points=\"396.4,-316.28 402.08,-307.34 392.06,-310.79 396.4,-316.28\"/>\n<text text-anchor=\"middle\" x=\"400.36\" y=\"-327.53\" font-family=\"Helvetica,sans-Serif\" font-size=\"14.00\">False</text>\n</g>\n<!-- 2 -->\n<g id=\"node3\" class=\"node\">\n<title>2</title>\n<path fill=\"#399de5\" stroke=\"black\" d=\"M110,-179.5C110,-179.5 12,-179.5 12,-179.5 6,-179.5 0,-173.5 0,-167.5 0,-167.5 0,-123.5 0,-123.5 0,-117.5 6,-111.5 12,-111.5 12,-111.5 110,-111.5 110,-111.5 116,-111.5 122,-117.5 122,-123.5 122,-123.5 122,-167.5 122,-167.5 122,-173.5 116,-179.5 110,-179.5\"/>\n<text text-anchor=\"middle\" x=\"61\" y=\"-164.3\" font-family=\"Helvetica,sans-Serif\" font-size=\"14.00\">gini = 0.0</text>\n<text text-anchor=\"middle\" x=\"61\" y=\"-149.3\" font-family=\"Helvetica,sans-Serif\" font-size=\"14.00\">samples = 1935</text>\n<text text-anchor=\"middle\" x=\"61\" y=\"-134.3\" font-family=\"Helvetica,sans-Serif\" font-size=\"14.00\">value = [0, 1935]</text>\n<text text-anchor=\"middle\" x=\"61\" y=\"-119.3\" font-family=\"Helvetica,sans-Serif\" font-size=\"14.00\">class = sim</text>\n</g>\n<!-- 1&#45;&gt;2 -->\n<g id=\"edge2\" class=\"edge\">\n<title>1&#45;&gt;2</title>\n<path fill=\"none\" stroke=\"black\" d=\"M160.49,-222.58C145.22,-210.9 128.6,-198.19 113.39,-186.57\"/>\n<polygon fill=\"black\" stroke=\"black\" points=\"115.9,-184.07 105.83,-180.78 111.65,-189.64 115.9,-184.07\"/>\n</g>\n<!-- 3 -->\n<g id=\"node4\" class=\"node\">\n<title>3</title>\n<path fill=\"#6bb6ec\" stroke=\"black\" d=\"M275.5,-187C275.5,-187 152.5,-187 152.5,-187 146.5,-187 140.5,-181 140.5,-175 140.5,-175 140.5,-116 140.5,-116 140.5,-110 146.5,-104 152.5,-104 152.5,-104 275.5,-104 275.5,-104 281.5,-104 287.5,-110 287.5,-116 287.5,-116 287.5,-175 287.5,-175 287.5,-181 281.5,-187 275.5,-187\"/>\n<text text-anchor=\"middle\" x=\"214\" y=\"-171.8\" font-family=\"Helvetica,sans-Serif\" font-size=\"14.00\">preco &lt;= 41083.029</text>\n<text text-anchor=\"middle\" x=\"214\" y=\"-156.8\" font-family=\"Helvetica,sans-Serif\" font-size=\"14.00\">gini = 0.321</text>\n<text text-anchor=\"middle\" x=\"214\" y=\"-141.8\" font-family=\"Helvetica,sans-Serif\" font-size=\"14.00\">samples = 2412</text>\n<text text-anchor=\"middle\" x=\"214\" y=\"-126.8\" font-family=\"Helvetica,sans-Serif\" font-size=\"14.00\">value = [484, 1928]</text>\n<text text-anchor=\"middle\" x=\"214\" y=\"-111.8\" font-family=\"Helvetica,sans-Serif\" font-size=\"14.00\">class = sim</text>\n</g>\n<!-- 1&#45;&gt;3 -->\n<g id=\"edge3\" class=\"edge\">\n<title>1&#45;&gt;3</title>\n<path fill=\"none\" stroke=\"black\" d=\"M214,-222.58C214,-214.79 214,-206.53 214,-198.45\"/>\n<polygon fill=\"black\" stroke=\"black\" points=\"217.5,-198.71 214,-188.71 210.5,-198.71 217.5,-198.71\"/>\n</g>\n<!-- 4 -->\n<g id=\"node5\" class=\"node\">\n<title>4</title>\n<path fill=\"#95cbf1\" stroke=\"black\" d=\"M114.5,-68C114.5,-68 25.5,-68 25.5,-68 19.5,-68 13.5,-62 13.5,-56 13.5,-56 13.5,-12 13.5,-12 13.5,-6 19.5,0 25.5,0 25.5,0 114.5,0 114.5,0 120.5,0 126.5,-6 126.5,-12 126.5,-12 126.5,-56 126.5,-56 126.5,-62 120.5,-68 114.5,-68\"/>\n<text text-anchor=\"middle\" x=\"70\" y=\"-52.8\" font-family=\"Helvetica,sans-Serif\" font-size=\"14.00\">gini = 0.434</text>\n<text text-anchor=\"middle\" x=\"70\" y=\"-37.8\" font-family=\"Helvetica,sans-Serif\" font-size=\"14.00\">samples = 110</text>\n<text text-anchor=\"middle\" x=\"70\" y=\"-22.8\" font-family=\"Helvetica,sans-Serif\" font-size=\"14.00\">value = [35, 75]</text>\n<text text-anchor=\"middle\" x=\"70\" y=\"-7.8\" font-family=\"Helvetica,sans-Serif\" font-size=\"14.00\">class = sim</text>\n</g>\n<!-- 3&#45;&gt;4 -->\n<g id=\"edge4\" class=\"edge\">\n<title>3&#45;&gt;4</title>\n<path fill=\"none\" stroke=\"black\" d=\"M160.38,-103.73C148.15,-94.42 135.15,-84.54 122.95,-75.26\"/>\n<polygon fill=\"black\" stroke=\"black\" points=\"125.07,-72.48 115,-69.22 120.84,-78.05 125.07,-72.48\"/>\n</g>\n<!-- 5 -->\n<g id=\"node6\" class=\"node\">\n<title>5</title>\n<path fill=\"#69b5eb\" stroke=\"black\" d=\"M271,-68C271,-68 157,-68 157,-68 151,-68 145,-62 145,-56 145,-56 145,-12 145,-12 145,-6 151,0 157,0 157,0 271,0 271,0 277,0 283,-6 283,-12 283,-12 283,-56 283,-56 283,-62 277,-68 271,-68\"/>\n<text text-anchor=\"middle\" x=\"214\" y=\"-52.8\" font-family=\"Helvetica,sans-Serif\" font-size=\"14.00\">gini = 0.314</text>\n<text text-anchor=\"middle\" x=\"214\" y=\"-37.8\" font-family=\"Helvetica,sans-Serif\" font-size=\"14.00\">samples = 2302</text>\n<text text-anchor=\"middle\" x=\"214\" y=\"-22.8\" font-family=\"Helvetica,sans-Serif\" font-size=\"14.00\">value = [449, 1853]</text>\n<text text-anchor=\"middle\" x=\"214\" y=\"-7.8\" font-family=\"Helvetica,sans-Serif\" font-size=\"14.00\">class = sim</text>\n</g>\n<!-- 3&#45;&gt;5 -->\n<g id=\"edge5\" class=\"edge\">\n<title>3&#45;&gt;5</title>\n<path fill=\"none\" stroke=\"black\" d=\"M214,-103.73C214,-95.88 214,-87.63 214,-79.67\"/>\n<polygon fill=\"black\" stroke=\"black\" points=\"217.5,-79.81 214,-69.81 210.5,-79.81 217.5,-79.81\"/>\n</g>\n<!-- 7 -->\n<g id=\"node8\" class=\"node\">\n<title>7</title>\n<path fill=\"#fcefe5\" stroke=\"black\" d=\"M516,-187C516,-187 394,-187 394,-187 388,-187 382,-181 382,-175 382,-175 382,-116 382,-116 382,-110 388,-104 394,-104 394,-104 516,-104 516,-104 522,-104 528,-110 528,-116 528,-116 528,-175 528,-175 528,-181 522,-187 516,-187\"/>\n<text text-anchor=\"middle\" x=\"455\" y=\"-171.8\" font-family=\"Helvetica,sans-Serif\" font-size=\"14.00\">preco &lt;= 99974.41</text>\n<text text-anchor=\"middle\" x=\"455\" y=\"-156.8\" font-family=\"Helvetica,sans-Serif\" font-size=\"14.00\">gini = 0.498</text>\n<text text-anchor=\"middle\" x=\"455\" y=\"-141.8\" font-family=\"Helvetica,sans-Serif\" font-size=\"14.00\">samples = 3513</text>\n<text text-anchor=\"middle\" x=\"455\" y=\"-126.8\" font-family=\"Helvetica,sans-Serif\" font-size=\"14.00\">value = [1879, 1634]</text>\n<text text-anchor=\"middle\" x=\"455\" y=\"-111.8\" font-family=\"Helvetica,sans-Serif\" font-size=\"14.00\">class = não</text>\n</g>\n<!-- 6&#45;&gt;7 -->\n<g id=\"edge7\" class=\"edge\">\n<title>6&#45;&gt;7</title>\n<path fill=\"none\" stroke=\"black\" d=\"M455,-222.58C455,-214.79 455,-206.53 455,-198.45\"/>\n<polygon fill=\"black\" stroke=\"black\" points=\"458.5,-198.71 455,-188.71 451.5,-198.71 458.5,-198.71\"/>\n</g>\n<!-- 10 -->\n<g id=\"node11\" class=\"node\">\n<title>10</title>\n<path fill=\"#e9965a\" stroke=\"black\" d=\"M743.5,-187C743.5,-187 612.5,-187 612.5,-187 606.5,-187 600.5,-181 600.5,-175 600.5,-175 600.5,-116 600.5,-116 600.5,-110 606.5,-104 612.5,-104 612.5,-104 743.5,-104 743.5,-104 749.5,-104 755.5,-110 755.5,-116 755.5,-116 755.5,-175 755.5,-175 755.5,-181 749.5,-187 743.5,-187\"/>\n<text text-anchor=\"middle\" x=\"678\" y=\"-171.8\" font-family=\"Helvetica,sans-Serif\" font-size=\"14.00\">preco &lt;= 100076.957</text>\n<text text-anchor=\"middle\" x=\"678\" y=\"-156.8\" font-family=\"Helvetica,sans-Serif\" font-size=\"14.00\">gini = 0.243</text>\n<text text-anchor=\"middle\" x=\"678\" y=\"-141.8\" font-family=\"Helvetica,sans-Serif\" font-size=\"14.00\">samples = 2140</text>\n<text text-anchor=\"middle\" x=\"678\" y=\"-126.8\" font-family=\"Helvetica,sans-Serif\" font-size=\"14.00\">value = [1837, 303]</text>\n<text text-anchor=\"middle\" x=\"678\" y=\"-111.8\" font-family=\"Helvetica,sans-Serif\" font-size=\"14.00\">class = não</text>\n</g>\n<!-- 6&#45;&gt;10 -->\n<g id=\"edge10\" class=\"edge\">\n<title>6&#45;&gt;10</title>\n<path fill=\"none\" stroke=\"black\" d=\"M532.99,-222.58C551.41,-212.92 571.18,-202.55 590,-192.67\"/>\n<polygon fill=\"black\" stroke=\"black\" points=\"591.48,-195.85 598.71,-188.1 588.23,-189.65 591.48,-195.85\"/>\n</g>\n<!-- 8 -->\n<g id=\"node9\" class=\"node\">\n<title>8</title>\n<path fill=\"#f9e0ce\" stroke=\"black\" d=\"M435,-68C435,-68 313,-68 313,-68 307,-68 301,-62 301,-56 301,-56 301,-12 301,-12 301,-6 307,0 313,0 313,0 435,0 435,0 441,0 447,-6 447,-12 447,-12 447,-56 447,-56 447,-62 441,-68 435,-68\"/>\n<text text-anchor=\"middle\" x=\"374\" y=\"-52.8\" font-family=\"Helvetica,sans-Serif\" font-size=\"14.00\">gini = 0.49</text>\n<text text-anchor=\"middle\" x=\"374\" y=\"-37.8\" font-family=\"Helvetica,sans-Serif\" font-size=\"14.00\">samples = 2944</text>\n<text text-anchor=\"middle\" x=\"374\" y=\"-22.8\" font-family=\"Helvetica,sans-Serif\" font-size=\"14.00\">value = [1682, 1262]</text>\n<text text-anchor=\"middle\" x=\"374\" y=\"-7.8\" font-family=\"Helvetica,sans-Serif\" font-size=\"14.00\">class = não</text>\n</g>\n<!-- 7&#45;&gt;8 -->\n<g id=\"edge8\" class=\"edge\">\n<title>7&#45;&gt;8</title>\n<path fill=\"none\" stroke=\"black\" d=\"M424.84,-103.73C418.5,-95.15 411.79,-86.09 405.41,-77.46\"/>\n<polygon fill=\"black\" stroke=\"black\" points=\"408.29,-75.47 399.53,-69.52 402.67,-79.64 408.29,-75.47\"/>\n</g>\n<!-- 9 -->\n<g id=\"node10\" class=\"node\">\n<title>9</title>\n<path fill=\"#a2d1f3\" stroke=\"black\" d=\"M583,-68C583,-68 477,-68 477,-68 471,-68 465,-62 465,-56 465,-56 465,-12 465,-12 465,-6 471,0 477,0 477,0 583,0 583,0 589,0 595,-6 595,-12 595,-12 595,-56 595,-56 595,-62 589,-68 583,-68\"/>\n<text text-anchor=\"middle\" x=\"530\" y=\"-52.8\" font-family=\"Helvetica,sans-Serif\" font-size=\"14.00\">gini = 0.453</text>\n<text text-anchor=\"middle\" x=\"530\" y=\"-37.8\" font-family=\"Helvetica,sans-Serif\" font-size=\"14.00\">samples = 569</text>\n<text text-anchor=\"middle\" x=\"530\" y=\"-22.8\" font-family=\"Helvetica,sans-Serif\" font-size=\"14.00\">value = [197, 372]</text>\n<text text-anchor=\"middle\" x=\"530\" y=\"-7.8\" font-family=\"Helvetica,sans-Serif\" font-size=\"14.00\">class = sim</text>\n</g>\n<!-- 7&#45;&gt;9 -->\n<g id=\"edge9\" class=\"edge\">\n<title>7&#45;&gt;9</title>\n<path fill=\"none\" stroke=\"black\" d=\"M482.93,-103.73C488.74,-95.24 494.88,-86.28 500.73,-77.73\"/>\n<polygon fill=\"black\" stroke=\"black\" points=\"503.57,-79.78 506.34,-69.55 497.8,-75.82 503.57,-79.78\"/>\n</g>\n<!-- 11 -->\n<g id=\"node12\" class=\"node\">\n<title>11</title>\n<path fill=\"#e68742\" stroke=\"black\" d=\"M731,-68C731,-68 625,-68 625,-68 619,-68 613,-62 613,-56 613,-56 613,-12 613,-12 613,-6 619,0 625,0 625,0 731,0 731,0 737,0 743,-6 743,-12 743,-12 743,-56 743,-56 743,-62 737,-68 731,-68\"/>\n<text text-anchor=\"middle\" x=\"678\" y=\"-52.8\" font-family=\"Helvetica,sans-Serif\" font-size=\"14.00\">gini = 0.082</text>\n<text text-anchor=\"middle\" x=\"678\" y=\"-37.8\" font-family=\"Helvetica,sans-Serif\" font-size=\"14.00\">samples = 1809</text>\n<text text-anchor=\"middle\" x=\"678\" y=\"-22.8\" font-family=\"Helvetica,sans-Serif\" font-size=\"14.00\">value = [1732, 77]</text>\n<text text-anchor=\"middle\" x=\"678\" y=\"-7.8\" font-family=\"Helvetica,sans-Serif\" font-size=\"14.00\">class = não</text>\n</g>\n<!-- 10&#45;&gt;11 -->\n<g id=\"edge11\" class=\"edge\">\n<title>10&#45;&gt;11</title>\n<path fill=\"none\" stroke=\"black\" d=\"M678,-103.73C678,-95.88 678,-87.63 678,-79.67\"/>\n<polygon fill=\"black\" stroke=\"black\" points=\"681.5,-79.81 678,-69.81 674.5,-79.81 681.5,-79.81\"/>\n</g>\n<!-- 12 -->\n<g id=\"node13\" class=\"node\">\n<title>12</title>\n<path fill=\"#95cbf1\" stroke=\"black\" d=\"M879,-68C879,-68 773,-68 773,-68 767,-68 761,-62 761,-56 761,-56 761,-12 761,-12 761,-6 767,0 773,0 773,0 879,0 879,0 885,0 891,-6 891,-12 891,-12 891,-56 891,-56 891,-62 885,-68 879,-68\"/>\n<text text-anchor=\"middle\" x=\"826\" y=\"-52.8\" font-family=\"Helvetica,sans-Serif\" font-size=\"14.00\">gini = 0.433</text>\n<text text-anchor=\"middle\" x=\"826\" y=\"-37.8\" font-family=\"Helvetica,sans-Serif\" font-size=\"14.00\">samples = 331</text>\n<text text-anchor=\"middle\" x=\"826\" y=\"-22.8\" font-family=\"Helvetica,sans-Serif\" font-size=\"14.00\">value = [105, 226]</text>\n<text text-anchor=\"middle\" x=\"826\" y=\"-7.8\" font-family=\"Helvetica,sans-Serif\" font-size=\"14.00\">class = sim</text>\n</g>\n<!-- 10&#45;&gt;12 -->\n<g id=\"edge12\" class=\"edge\">\n<title>10&#45;&gt;12</title>\n<path fill=\"none\" stroke=\"black\" d=\"M733.11,-103.73C745.81,-94.33 759.3,-84.35 771.95,-74.99\"/>\n<polygon fill=\"black\" stroke=\"black\" points=\"773.82,-77.96 779.78,-69.2 769.65,-72.33 773.82,-77.96\"/>\n</g>\n</g>\n</svg>\n",
      "text/plain": [
       "<graphviz.sources.Source at 0x1f2c130b580>"
      ]
     },
     "execution_count": 181,
     "metadata": {},
     "output_type": "execute_result"
    }
   ],
   "source": [
    "features = x_bad.columns\n",
    "\n",
    "dot_data = export_graphviz(\n",
    "    best_estimator,\n",
    "    out_file=None,\n",
    "    filled=True,\n",
    "    rounded=True,\n",
    "    class_names=[\"não\", \"sim\"],\n",
    "    feature_names=features,\n",
    ")\n",
    "\n",
    "graph = graphviz.Source(dot_data)\n",
    "graph"
   ]
  },
  {
   "attachments": {},
   "cell_type": "markdown",
   "metadata": {
    "colab_type": "text",
    "id": "fEuxcp1mEbar"
   },
   "source": [
    "### Exploração de Hiperparâmetros com RandomizedSearchCV\n",
    "\n",
    "O GridSearchCV faz todas as combinações possíveis dos parâmetros que lhes foram passados na hora de fazer o ajuste fino do modelo, enquanto o RandomizedSearchCV faz apenas uma quantidade específica e limitada de combinações aleatórias, e nós é que determinamos quantas iterações queremos que sejam feitas: se determinamos que o algoritmo faça vinte combinações, por exemplo, ele fará apenas vinte.\n",
    "\n",
    "RandomizedSearchCV tem vantagem do tempo. Existem muitas discussões e vários estudos para se tentar definir qual é a melhor, e boa parte dos pesquisadores defende que uma função como o RandomizedSearchCV é, muitas vezes, a melhor opção."
   ]
  },
  {
   "cell_type": "code",
   "execution_count": 182,
   "metadata": {
    "colab": {
     "base_uri": "https://localhost:8080/",
     "height": 729
    },
    "colab_type": "code",
    "id": "kYvgxUgoFD0S",
    "outputId": "a821bba8-c091-4eea-d5e4-e3c0d3747d88",
    "vscode": {
     "languageId": "python"
    }
   },
   "outputs": [
    {
     "data": {
      "text/html": [
       "<div>\n",
       "<style scoped>\n",
       "    .dataframe tbody tr th:only-of-type {\n",
       "        vertical-align: middle;\n",
       "    }\n",
       "\n",
       "    .dataframe tbody tr th {\n",
       "        vertical-align: top;\n",
       "    }\n",
       "\n",
       "    .dataframe thead th {\n",
       "        text-align: right;\n",
       "    }\n",
       "</style>\n",
       "<table border=\"1\" class=\"dataframe\">\n",
       "  <thead>\n",
       "    <tr style=\"text-align: right;\">\n",
       "      <th></th>\n",
       "      <th>mean_fit_time</th>\n",
       "      <th>std_fit_time</th>\n",
       "      <th>mean_score_time</th>\n",
       "      <th>std_score_time</th>\n",
       "      <th>param_min_samples_split</th>\n",
       "      <th>param_min_samples_leaf</th>\n",
       "      <th>param_max_depth</th>\n",
       "      <th>param_criterion</th>\n",
       "      <th>params</th>\n",
       "      <th>split0_test_score</th>\n",
       "      <th>split1_test_score</th>\n",
       "      <th>split2_test_score</th>\n",
       "      <th>split3_test_score</th>\n",
       "      <th>split4_test_score</th>\n",
       "      <th>mean_test_score</th>\n",
       "      <th>std_test_score</th>\n",
       "      <th>rank_test_score</th>\n",
       "    </tr>\n",
       "  </thead>\n",
       "  <tbody>\n",
       "    <tr>\n",
       "      <th>0</th>\n",
       "      <td>0.009007</td>\n",
       "      <td>4.101908e-07</td>\n",
       "      <td>0.001402</td>\n",
       "      <td>4.900572e-04</td>\n",
       "      <td>128</td>\n",
       "      <td>128</td>\n",
       "      <td>5</td>\n",
       "      <td>gini</td>\n",
       "      <td>{'min_samples_split': 128, 'min_samples_leaf':...</td>\n",
       "      <td>0.784</td>\n",
       "      <td>0.769</td>\n",
       "      <td>0.7985</td>\n",
       "      <td>0.793</td>\n",
       "      <td>0.7730</td>\n",
       "      <td>0.7835</td>\n",
       "      <td>0.011278</td>\n",
       "      <td>13</td>\n",
       "    </tr>\n",
       "    <tr>\n",
       "      <th>1</th>\n",
       "      <td>0.007006</td>\n",
       "      <td>1.907349e-07</td>\n",
       "      <td>0.001001</td>\n",
       "      <td>2.431402e-07</td>\n",
       "      <td>64</td>\n",
       "      <td>32</td>\n",
       "      <td>3</td>\n",
       "      <td>gini</td>\n",
       "      <td>{'min_samples_split': 64, 'min_samples_leaf': ...</td>\n",
       "      <td>0.784</td>\n",
       "      <td>0.776</td>\n",
       "      <td>0.8025</td>\n",
       "      <td>0.793</td>\n",
       "      <td>0.7795</td>\n",
       "      <td>0.7870</td>\n",
       "      <td>0.009618</td>\n",
       "      <td>1</td>\n",
       "    </tr>\n",
       "    <tr>\n",
       "      <th>2</th>\n",
       "      <td>0.006706</td>\n",
       "      <td>4.001630e-04</td>\n",
       "      <td>0.001001</td>\n",
       "      <td>2.132481e-07</td>\n",
       "      <td>64</td>\n",
       "      <td>128</td>\n",
       "      <td>3</td>\n",
       "      <td>gini</td>\n",
       "      <td>{'min_samples_split': 64, 'min_samples_leaf': ...</td>\n",
       "      <td>0.784</td>\n",
       "      <td>0.776</td>\n",
       "      <td>0.8025</td>\n",
       "      <td>0.793</td>\n",
       "      <td>0.7795</td>\n",
       "      <td>0.7870</td>\n",
       "      <td>0.009618</td>\n",
       "      <td>1</td>\n",
       "    </tr>\n",
       "    <tr>\n",
       "      <th>3</th>\n",
       "      <td>0.012111</td>\n",
       "      <td>2.016307e-04</td>\n",
       "      <td>0.001201</td>\n",
       "      <td>4.005194e-04</td>\n",
       "      <td>32</td>\n",
       "      <td>64</td>\n",
       "      <td>5</td>\n",
       "      <td>entropy</td>\n",
       "      <td>{'min_samples_split': 32, 'min_samples_leaf': ...</td>\n",
       "      <td>0.784</td>\n",
       "      <td>0.769</td>\n",
       "      <td>0.8005</td>\n",
       "      <td>0.793</td>\n",
       "      <td>0.7730</td>\n",
       "      <td>0.7839</td>\n",
       "      <td>0.011825</td>\n",
       "      <td>7</td>\n",
       "    </tr>\n",
       "    <tr>\n",
       "      <th>4</th>\n",
       "      <td>0.012012</td>\n",
       "      <td>3.823628e-06</td>\n",
       "      <td>0.001202</td>\n",
       "      <td>4.003764e-04</td>\n",
       "      <td>64</td>\n",
       "      <td>64</td>\n",
       "      <td>5</td>\n",
       "      <td>entropy</td>\n",
       "      <td>{'min_samples_split': 64, 'min_samples_leaf': ...</td>\n",
       "      <td>0.784</td>\n",
       "      <td>0.769</td>\n",
       "      <td>0.8005</td>\n",
       "      <td>0.793</td>\n",
       "      <td>0.7730</td>\n",
       "      <td>0.7839</td>\n",
       "      <td>0.011825</td>\n",
       "      <td>7</td>\n",
       "    </tr>\n",
       "  </tbody>\n",
       "</table>\n",
       "</div>"
      ],
      "text/plain": [
       "   mean_fit_time  std_fit_time  mean_score_time  std_score_time  \\\n",
       "0       0.009007  4.101908e-07         0.001402    4.900572e-04   \n",
       "1       0.007006  1.907349e-07         0.001001    2.431402e-07   \n",
       "2       0.006706  4.001630e-04         0.001001    2.132481e-07   \n",
       "3       0.012111  2.016307e-04         0.001201    4.005194e-04   \n",
       "4       0.012012  3.823628e-06         0.001202    4.003764e-04   \n",
       "\n",
       "  param_min_samples_split param_min_samples_leaf param_max_depth  \\\n",
       "0                     128                    128               5   \n",
       "1                      64                     32               3   \n",
       "2                      64                    128               3   \n",
       "3                      32                     64               5   \n",
       "4                      64                     64               5   \n",
       "\n",
       "  param_criterion                                             params  \\\n",
       "0            gini  {'min_samples_split': 128, 'min_samples_leaf':...   \n",
       "1            gini  {'min_samples_split': 64, 'min_samples_leaf': ...   \n",
       "2            gini  {'min_samples_split': 64, 'min_samples_leaf': ...   \n",
       "3         entropy  {'min_samples_split': 32, 'min_samples_leaf': ...   \n",
       "4         entropy  {'min_samples_split': 64, 'min_samples_leaf': ...   \n",
       "\n",
       "   split0_test_score  split1_test_score  split2_test_score  split3_test_score  \\\n",
       "0              0.784              0.769             0.7985              0.793   \n",
       "1              0.784              0.776             0.8025              0.793   \n",
       "2              0.784              0.776             0.8025              0.793   \n",
       "3              0.784              0.769             0.8005              0.793   \n",
       "4              0.784              0.769             0.8005              0.793   \n",
       "\n",
       "   split4_test_score  mean_test_score  std_test_score  rank_test_score  \n",
       "0             0.7730           0.7835        0.011278               13  \n",
       "1             0.7795           0.7870        0.009618                1  \n",
       "2             0.7795           0.7870        0.009618                1  \n",
       "3             0.7730           0.7839        0.011825                7  \n",
       "4             0.7730           0.7839        0.011825                7  "
      ]
     },
     "execution_count": 182,
     "metadata": {},
     "output_type": "execute_result"
    }
   ],
   "source": [
    "from sklearn.model_selection import RandomizedSearchCV\n",
    "\n",
    "SEED = 301\n",
    "np.random.seed(SEED)\n",
    "\n",
    "parameters = {\n",
    "    \"max_depth\": [3, 5],\n",
    "    \"min_samples_split\": [32, 64, 128],\n",
    "    \"min_samples_leaf\": [32, 64, 128],\n",
    "    \"criterion\": [\"gini\", \"entropy\"],\n",
    "}\n",
    "\n",
    "seach = RandomizedSearchCV(\n",
    "    DecisionTreeClassifier(),\n",
    "    parameters,\n",
    "    n_iter=16,\n",
    "    cv=KFold(n_splits=5, shuffle=True),\n",
    "    random_state=SEED,\n",
    ")\n",
    "\n",
    "seach.fit(x_bad, y_bad)\n",
    "\n",
    "results = pd.DataFrame(seach.cv_results_)\n",
    "results.head()"
   ]
  },
  {
   "cell_type": "code",
   "execution_count": 183,
   "metadata": {
    "colab": {
     "base_uri": "https://localhost:8080/",
     "height": 51
    },
    "colab_type": "code",
    "id": "EsaJqtiIFuOr",
    "outputId": "97b205ca-f9fc-489a-8d72-922d779da9b0",
    "vscode": {
     "languageId": "python"
    }
   },
   "outputs": [
    {
     "name": "stdout",
     "output_type": "stream",
     "text": [
      "Acurácia Média: 78.71%\n",
      "Intervalo de Acurácia: 77.49% a 79.93%\n"
     ]
    }
   ],
   "source": [
    "scores = cross_val_score(seach, x_bad, y_bad, cv=KFold(n_splits=5, shuffle=True))\n",
    "print_score(scores)"
   ]
  },
  {
   "cell_type": "code",
   "execution_count": 184,
   "metadata": {
    "colab": {
     "base_uri": "https://localhost:8080/",
     "height": 119
    },
    "colab_type": "code",
    "id": "ezAIexIPF8L0",
    "outputId": "60bcf87b-2814-482f-9227-e6da15459752",
    "vscode": {
     "languageId": "python"
    }
   },
   "outputs": [
    {
     "data": {
      "text/html": [
       "<style>#sk-container-id-8 {color: black;background-color: white;}#sk-container-id-8 pre{padding: 0;}#sk-container-id-8 div.sk-toggleable {background-color: white;}#sk-container-id-8 label.sk-toggleable__label {cursor: pointer;display: block;width: 100%;margin-bottom: 0;padding: 0.3em;box-sizing: border-box;text-align: center;}#sk-container-id-8 label.sk-toggleable__label-arrow:before {content: \"▸\";float: left;margin-right: 0.25em;color: #696969;}#sk-container-id-8 label.sk-toggleable__label-arrow:hover:before {color: black;}#sk-container-id-8 div.sk-estimator:hover label.sk-toggleable__label-arrow:before {color: black;}#sk-container-id-8 div.sk-toggleable__content {max-height: 0;max-width: 0;overflow: hidden;text-align: left;background-color: #f0f8ff;}#sk-container-id-8 div.sk-toggleable__content pre {margin: 0.2em;color: black;border-radius: 0.25em;background-color: #f0f8ff;}#sk-container-id-8 input.sk-toggleable__control:checked~div.sk-toggleable__content {max-height: 200px;max-width: 100%;overflow: auto;}#sk-container-id-8 input.sk-toggleable__control:checked~label.sk-toggleable__label-arrow:before {content: \"▾\";}#sk-container-id-8 div.sk-estimator input.sk-toggleable__control:checked~label.sk-toggleable__label {background-color: #d4ebff;}#sk-container-id-8 div.sk-label input.sk-toggleable__control:checked~label.sk-toggleable__label {background-color: #d4ebff;}#sk-container-id-8 input.sk-hidden--visually {border: 0;clip: rect(1px 1px 1px 1px);clip: rect(1px, 1px, 1px, 1px);height: 1px;margin: -1px;overflow: hidden;padding: 0;position: absolute;width: 1px;}#sk-container-id-8 div.sk-estimator {font-family: monospace;background-color: #f0f8ff;border: 1px dotted black;border-radius: 0.25em;box-sizing: border-box;margin-bottom: 0.5em;}#sk-container-id-8 div.sk-estimator:hover {background-color: #d4ebff;}#sk-container-id-8 div.sk-parallel-item::after {content: \"\";width: 100%;border-bottom: 1px solid gray;flex-grow: 1;}#sk-container-id-8 div.sk-label:hover label.sk-toggleable__label {background-color: #d4ebff;}#sk-container-id-8 div.sk-serial::before {content: \"\";position: absolute;border-left: 1px solid gray;box-sizing: border-box;top: 0;bottom: 0;left: 50%;z-index: 0;}#sk-container-id-8 div.sk-serial {display: flex;flex-direction: column;align-items: center;background-color: white;padding-right: 0.2em;padding-left: 0.2em;position: relative;}#sk-container-id-8 div.sk-item {position: relative;z-index: 1;}#sk-container-id-8 div.sk-parallel {display: flex;align-items: stretch;justify-content: center;background-color: white;position: relative;}#sk-container-id-8 div.sk-item::before, #sk-container-id-8 div.sk-parallel-item::before {content: \"\";position: absolute;border-left: 1px solid gray;box-sizing: border-box;top: 0;bottom: 0;left: 50%;z-index: -1;}#sk-container-id-8 div.sk-parallel-item {display: flex;flex-direction: column;z-index: 1;position: relative;background-color: white;}#sk-container-id-8 div.sk-parallel-item:first-child::after {align-self: flex-end;width: 50%;}#sk-container-id-8 div.sk-parallel-item:last-child::after {align-self: flex-start;width: 50%;}#sk-container-id-8 div.sk-parallel-item:only-child::after {width: 0;}#sk-container-id-8 div.sk-dashed-wrapped {border: 1px dashed gray;margin: 0 0.4em 0.5em 0.4em;box-sizing: border-box;padding-bottom: 0.4em;background-color: white;}#sk-container-id-8 div.sk-label label {font-family: monospace;font-weight: bold;display: inline-block;line-height: 1.2em;}#sk-container-id-8 div.sk-label-container {text-align: center;}#sk-container-id-8 div.sk-container {/* jupyter's `normalize.less` sets `[hidden] { display: none; }` but bootstrap.min.css set `[hidden] { display: none !important; }` so we also need the `!important` here to be able to override the default hidden behavior on the sphinx rendered scikit-learn.org. See: https://github.com/scikit-learn/scikit-learn/issues/21755 */display: inline-block !important;position: relative;}#sk-container-id-8 div.sk-text-repr-fallback {display: none;}</style><div id=\"sk-container-id-8\" class=\"sk-top-container\"><div class=\"sk-text-repr-fallback\"><pre>DecisionTreeClassifier(max_depth=3, min_samples_leaf=32, min_samples_split=32)</pre><b>In a Jupyter environment, please rerun this cell to show the HTML representation or trust the notebook. <br />On GitHub, the HTML representation is unable to render, please try loading this page with nbviewer.org.</b></div><div class=\"sk-container\" hidden><div class=\"sk-item\"><div class=\"sk-estimator sk-toggleable\"><input class=\"sk-toggleable__control sk-hidden--visually\" id=\"sk-estimator-id-8\" type=\"checkbox\" checked><label for=\"sk-estimator-id-8\" class=\"sk-toggleable__label sk-toggleable__label-arrow\">DecisionTreeClassifier</label><div class=\"sk-toggleable__content\"><pre>DecisionTreeClassifier(max_depth=3, min_samples_leaf=32, min_samples_split=32)</pre></div></div></div></div></div>"
      ],
      "text/plain": [
       "DecisionTreeClassifier(max_depth=3, min_samples_leaf=32, min_samples_split=32)"
      ]
     },
     "execution_count": 184,
     "metadata": {},
     "output_type": "execute_result"
    }
   ],
   "source": [
    "best_estimator = search.best_estimator_\n",
    "best_estimator"
   ]
  },
  {
   "cell_type": "code",
   "execution_count": 185,
   "metadata": {
    "colab": {
     "base_uri": "https://localhost:8080/",
     "height": 598
    },
    "colab_type": "code",
    "id": "yswNAIceGLcf",
    "outputId": "587ac3c1-6e92-4773-e2dd-6ce5b09008af",
    "vscode": {
     "languageId": "python"
    }
   },
   "outputs": [
    {
     "data": {
      "image/svg+xml": "<?xml version=\"1.0\" encoding=\"UTF-8\" standalone=\"no\"?>\n<!DOCTYPE svg PUBLIC \"-//W3C//DTD SVG 1.1//EN\"\n \"http://www.w3.org/Graphics/SVG/1.1/DTD/svg11.dtd\">\n<!-- Generated by graphviz version 7.0.2 (20221119.0110)\n -->\n<!-- Title: Tree Pages: 1 -->\n<svg width=\"899pt\" height=\"433pt\"\n viewBox=\"0.00 0.00 899.00 433.00\" xmlns=\"http://www.w3.org/2000/svg\" xmlns:xlink=\"http://www.w3.org/1999/xlink\">\n<g id=\"graph0\" class=\"graph\" transform=\"scale(1 1) rotate(0) translate(4 429)\">\n<title>Tree</title>\n<polygon fill=\"white\" stroke=\"none\" points=\"-4,4 -4,-429 895,-429 895,4 -4,4\"/>\n<!-- 0 -->\n<g id=\"node1\" class=\"node\">\n<title>0</title>\n<path fill=\"#c8e4f8\" stroke=\"black\" d=\"M368.5,-425C368.5,-425 245.5,-425 245.5,-425 239.5,-425 233.5,-419 233.5,-413 233.5,-413 233.5,-354 233.5,-354 233.5,-348 239.5,-342 245.5,-342 245.5,-342 368.5,-342 368.5,-342 374.5,-342 380.5,-348 380.5,-354 380.5,-354 380.5,-413 380.5,-413 380.5,-419 374.5,-425 368.5,-425\"/>\n<text text-anchor=\"middle\" x=\"307\" y=\"-409.8\" font-family=\"Helvetica,sans-Serif\" font-size=\"14.00\">preco &lt;= 59982.246</text>\n<text text-anchor=\"middle\" x=\"307\" y=\"-394.8\" font-family=\"Helvetica,sans-Serif\" font-size=\"14.00\">gini = 0.487</text>\n<text text-anchor=\"middle\" x=\"307\" y=\"-379.8\" font-family=\"Helvetica,sans-Serif\" font-size=\"14.00\">samples = 10000</text>\n<text text-anchor=\"middle\" x=\"307\" y=\"-364.8\" font-family=\"Helvetica,sans-Serif\" font-size=\"14.00\">value = [4200, 5800]</text>\n<text text-anchor=\"middle\" x=\"307\" y=\"-349.8\" font-family=\"Helvetica,sans-Serif\" font-size=\"14.00\">class = sim</text>\n</g>\n<!-- 1 -->\n<g id=\"node2\" class=\"node\">\n<title>1</title>\n<path fill=\"#52a9e8\" stroke=\"black\" d=\"M275.5,-306C275.5,-306 152.5,-306 152.5,-306 146.5,-306 140.5,-300 140.5,-294 140.5,-294 140.5,-235 140.5,-235 140.5,-229 146.5,-223 152.5,-223 152.5,-223 275.5,-223 275.5,-223 281.5,-223 287.5,-229 287.5,-235 287.5,-235 287.5,-294 287.5,-294 287.5,-300 281.5,-306 275.5,-306\"/>\n<text text-anchor=\"middle\" x=\"214\" y=\"-290.8\" font-family=\"Helvetica,sans-Serif\" font-size=\"14.00\">preco &lt;= 40083.385</text>\n<text text-anchor=\"middle\" x=\"214\" y=\"-275.8\" font-family=\"Helvetica,sans-Serif\" font-size=\"14.00\">gini = 0.198</text>\n<text text-anchor=\"middle\" x=\"214\" y=\"-260.8\" font-family=\"Helvetica,sans-Serif\" font-size=\"14.00\">samples = 4347</text>\n<text text-anchor=\"middle\" x=\"214\" y=\"-245.8\" font-family=\"Helvetica,sans-Serif\" font-size=\"14.00\">value = [484, 3863]</text>\n<text text-anchor=\"middle\" x=\"214\" y=\"-230.8\" font-family=\"Helvetica,sans-Serif\" font-size=\"14.00\">class = sim</text>\n</g>\n<!-- 0&#45;&gt;1 -->\n<g id=\"edge1\" class=\"edge\">\n<title>0&#45;&gt;1</title>\n<path fill=\"none\" stroke=\"black\" d=\"M274.47,-341.58C267.64,-332.98 260.36,-323.82 253.3,-314.95\"/>\n<polygon fill=\"black\" stroke=\"black\" points=\"256.26,-313.04 247.29,-307.39 250.78,-317.39 256.26,-313.04\"/>\n<text text-anchor=\"middle\" x=\"243.51\" y=\"-327.34\" font-family=\"Helvetica,sans-Serif\" font-size=\"14.00\">True</text>\n</g>\n<!-- 6 -->\n<g id=\"node7\" class=\"node\">\n<title>6</title>\n<path fill=\"#f3c3a0\" stroke=\"black\" d=\"M538,-306C538,-306 372,-306 372,-306 366,-306 360,-300 360,-294 360,-294 360,-235 360,-235 360,-229 366,-223 372,-223 372,-223 538,-223 538,-223 544,-223 550,-229 550,-235 550,-235 550,-294 550,-294 550,-300 544,-306 538,-306\"/>\n<text text-anchor=\"middle\" x=\"455\" y=\"-290.8\" font-family=\"Helvetica,sans-Serif\" font-size=\"14.00\">km_por_ano &lt;= 24124.006</text>\n<text text-anchor=\"middle\" x=\"455\" y=\"-275.8\" font-family=\"Helvetica,sans-Serif\" font-size=\"14.00\">gini = 0.45</text>\n<text text-anchor=\"middle\" x=\"455\" y=\"-260.8\" font-family=\"Helvetica,sans-Serif\" font-size=\"14.00\">samples = 5653</text>\n<text text-anchor=\"middle\" x=\"455\" y=\"-245.8\" font-family=\"Helvetica,sans-Serif\" font-size=\"14.00\">value = [3716, 1937]</text>\n<text text-anchor=\"middle\" x=\"455\" y=\"-230.8\" font-family=\"Helvetica,sans-Serif\" font-size=\"14.00\">class = não</text>\n</g>\n<!-- 0&#45;&gt;6 -->\n<g id=\"edge6\" class=\"edge\">\n<title>0&#45;&gt;6</title>\n<path fill=\"none\" stroke=\"black\" d=\"M358.76,-341.58C370.25,-332.49 382.54,-322.79 394.35,-313.45\"/>\n<polygon fill=\"black\" stroke=\"black\" points=\"396.4,-316.28 402.08,-307.34 392.06,-310.79 396.4,-316.28\"/>\n<text text-anchor=\"middle\" x=\"400.36\" y=\"-327.53\" font-family=\"Helvetica,sans-Serif\" font-size=\"14.00\">False</text>\n</g>\n<!-- 2 -->\n<g id=\"node3\" class=\"node\">\n<title>2</title>\n<path fill=\"#399de5\" stroke=\"black\" d=\"M110,-179.5C110,-179.5 12,-179.5 12,-179.5 6,-179.5 0,-173.5 0,-167.5 0,-167.5 0,-123.5 0,-123.5 0,-117.5 6,-111.5 12,-111.5 12,-111.5 110,-111.5 110,-111.5 116,-111.5 122,-117.5 122,-123.5 122,-123.5 122,-167.5 122,-167.5 122,-173.5 116,-179.5 110,-179.5\"/>\n<text text-anchor=\"middle\" x=\"61\" y=\"-164.3\" font-family=\"Helvetica,sans-Serif\" font-size=\"14.00\">gini = 0.0</text>\n<text text-anchor=\"middle\" x=\"61\" y=\"-149.3\" font-family=\"Helvetica,sans-Serif\" font-size=\"14.00\">samples = 1935</text>\n<text text-anchor=\"middle\" x=\"61\" y=\"-134.3\" font-family=\"Helvetica,sans-Serif\" font-size=\"14.00\">value = [0, 1935]</text>\n<text text-anchor=\"middle\" x=\"61\" y=\"-119.3\" font-family=\"Helvetica,sans-Serif\" font-size=\"14.00\">class = sim</text>\n</g>\n<!-- 1&#45;&gt;2 -->\n<g id=\"edge2\" class=\"edge\">\n<title>1&#45;&gt;2</title>\n<path fill=\"none\" stroke=\"black\" d=\"M160.49,-222.58C145.22,-210.9 128.6,-198.19 113.39,-186.57\"/>\n<polygon fill=\"black\" stroke=\"black\" points=\"115.9,-184.07 105.83,-180.78 111.65,-189.64 115.9,-184.07\"/>\n</g>\n<!-- 3 -->\n<g id=\"node4\" class=\"node\">\n<title>3</title>\n<path fill=\"#6bb6ec\" stroke=\"black\" d=\"M275.5,-187C275.5,-187 152.5,-187 152.5,-187 146.5,-187 140.5,-181 140.5,-175 140.5,-175 140.5,-116 140.5,-116 140.5,-110 146.5,-104 152.5,-104 152.5,-104 275.5,-104 275.5,-104 281.5,-104 287.5,-110 287.5,-116 287.5,-116 287.5,-175 287.5,-175 287.5,-181 281.5,-187 275.5,-187\"/>\n<text text-anchor=\"middle\" x=\"214\" y=\"-171.8\" font-family=\"Helvetica,sans-Serif\" font-size=\"14.00\">preco &lt;= 41083.029</text>\n<text text-anchor=\"middle\" x=\"214\" y=\"-156.8\" font-family=\"Helvetica,sans-Serif\" font-size=\"14.00\">gini = 0.321</text>\n<text text-anchor=\"middle\" x=\"214\" y=\"-141.8\" font-family=\"Helvetica,sans-Serif\" font-size=\"14.00\">samples = 2412</text>\n<text text-anchor=\"middle\" x=\"214\" y=\"-126.8\" font-family=\"Helvetica,sans-Serif\" font-size=\"14.00\">value = [484, 1928]</text>\n<text text-anchor=\"middle\" x=\"214\" y=\"-111.8\" font-family=\"Helvetica,sans-Serif\" font-size=\"14.00\">class = sim</text>\n</g>\n<!-- 1&#45;&gt;3 -->\n<g id=\"edge3\" class=\"edge\">\n<title>1&#45;&gt;3</title>\n<path fill=\"none\" stroke=\"black\" d=\"M214,-222.58C214,-214.79 214,-206.53 214,-198.45\"/>\n<polygon fill=\"black\" stroke=\"black\" points=\"217.5,-198.71 214,-188.71 210.5,-198.71 217.5,-198.71\"/>\n</g>\n<!-- 4 -->\n<g id=\"node5\" class=\"node\">\n<title>4</title>\n<path fill=\"#95cbf1\" stroke=\"black\" d=\"M114.5,-68C114.5,-68 25.5,-68 25.5,-68 19.5,-68 13.5,-62 13.5,-56 13.5,-56 13.5,-12 13.5,-12 13.5,-6 19.5,0 25.5,0 25.5,0 114.5,0 114.5,0 120.5,0 126.5,-6 126.5,-12 126.5,-12 126.5,-56 126.5,-56 126.5,-62 120.5,-68 114.5,-68\"/>\n<text text-anchor=\"middle\" x=\"70\" y=\"-52.8\" font-family=\"Helvetica,sans-Serif\" font-size=\"14.00\">gini = 0.434</text>\n<text text-anchor=\"middle\" x=\"70\" y=\"-37.8\" font-family=\"Helvetica,sans-Serif\" font-size=\"14.00\">samples = 110</text>\n<text text-anchor=\"middle\" x=\"70\" y=\"-22.8\" font-family=\"Helvetica,sans-Serif\" font-size=\"14.00\">value = [35, 75]</text>\n<text text-anchor=\"middle\" x=\"70\" y=\"-7.8\" font-family=\"Helvetica,sans-Serif\" font-size=\"14.00\">class = sim</text>\n</g>\n<!-- 3&#45;&gt;4 -->\n<g id=\"edge4\" class=\"edge\">\n<title>3&#45;&gt;4</title>\n<path fill=\"none\" stroke=\"black\" d=\"M160.38,-103.73C148.15,-94.42 135.15,-84.54 122.95,-75.26\"/>\n<polygon fill=\"black\" stroke=\"black\" points=\"125.07,-72.48 115,-69.22 120.84,-78.05 125.07,-72.48\"/>\n</g>\n<!-- 5 -->\n<g id=\"node6\" class=\"node\">\n<title>5</title>\n<path fill=\"#69b5eb\" stroke=\"black\" d=\"M271,-68C271,-68 157,-68 157,-68 151,-68 145,-62 145,-56 145,-56 145,-12 145,-12 145,-6 151,0 157,0 157,0 271,0 271,0 277,0 283,-6 283,-12 283,-12 283,-56 283,-56 283,-62 277,-68 271,-68\"/>\n<text text-anchor=\"middle\" x=\"214\" y=\"-52.8\" font-family=\"Helvetica,sans-Serif\" font-size=\"14.00\">gini = 0.314</text>\n<text text-anchor=\"middle\" x=\"214\" y=\"-37.8\" font-family=\"Helvetica,sans-Serif\" font-size=\"14.00\">samples = 2302</text>\n<text text-anchor=\"middle\" x=\"214\" y=\"-22.8\" font-family=\"Helvetica,sans-Serif\" font-size=\"14.00\">value = [449, 1853]</text>\n<text text-anchor=\"middle\" x=\"214\" y=\"-7.8\" font-family=\"Helvetica,sans-Serif\" font-size=\"14.00\">class = sim</text>\n</g>\n<!-- 3&#45;&gt;5 -->\n<g id=\"edge5\" class=\"edge\">\n<title>3&#45;&gt;5</title>\n<path fill=\"none\" stroke=\"black\" d=\"M214,-103.73C214,-95.88 214,-87.63 214,-79.67\"/>\n<polygon fill=\"black\" stroke=\"black\" points=\"217.5,-79.81 214,-69.81 210.5,-79.81 217.5,-79.81\"/>\n</g>\n<!-- 7 -->\n<g id=\"node8\" class=\"node\">\n<title>7</title>\n<path fill=\"#fcefe5\" stroke=\"black\" d=\"M516,-187C516,-187 394,-187 394,-187 388,-187 382,-181 382,-175 382,-175 382,-116 382,-116 382,-110 388,-104 394,-104 394,-104 516,-104 516,-104 522,-104 528,-110 528,-116 528,-116 528,-175 528,-175 528,-181 522,-187 516,-187\"/>\n<text text-anchor=\"middle\" x=\"455\" y=\"-171.8\" font-family=\"Helvetica,sans-Serif\" font-size=\"14.00\">preco &lt;= 99974.41</text>\n<text text-anchor=\"middle\" x=\"455\" y=\"-156.8\" font-family=\"Helvetica,sans-Serif\" font-size=\"14.00\">gini = 0.498</text>\n<text text-anchor=\"middle\" x=\"455\" y=\"-141.8\" font-family=\"Helvetica,sans-Serif\" font-size=\"14.00\">samples = 3513</text>\n<text text-anchor=\"middle\" x=\"455\" y=\"-126.8\" font-family=\"Helvetica,sans-Serif\" font-size=\"14.00\">value = [1879, 1634]</text>\n<text text-anchor=\"middle\" x=\"455\" y=\"-111.8\" font-family=\"Helvetica,sans-Serif\" font-size=\"14.00\">class = não</text>\n</g>\n<!-- 6&#45;&gt;7 -->\n<g id=\"edge7\" class=\"edge\">\n<title>6&#45;&gt;7</title>\n<path fill=\"none\" stroke=\"black\" d=\"M455,-222.58C455,-214.79 455,-206.53 455,-198.45\"/>\n<polygon fill=\"black\" stroke=\"black\" points=\"458.5,-198.71 455,-188.71 451.5,-198.71 458.5,-198.71\"/>\n</g>\n<!-- 10 -->\n<g id=\"node11\" class=\"node\">\n<title>10</title>\n<path fill=\"#e9965a\" stroke=\"black\" d=\"M743.5,-187C743.5,-187 612.5,-187 612.5,-187 606.5,-187 600.5,-181 600.5,-175 600.5,-175 600.5,-116 600.5,-116 600.5,-110 606.5,-104 612.5,-104 612.5,-104 743.5,-104 743.5,-104 749.5,-104 755.5,-110 755.5,-116 755.5,-116 755.5,-175 755.5,-175 755.5,-181 749.5,-187 743.5,-187\"/>\n<text text-anchor=\"middle\" x=\"678\" y=\"-171.8\" font-family=\"Helvetica,sans-Serif\" font-size=\"14.00\">preco &lt;= 100076.957</text>\n<text text-anchor=\"middle\" x=\"678\" y=\"-156.8\" font-family=\"Helvetica,sans-Serif\" font-size=\"14.00\">gini = 0.243</text>\n<text text-anchor=\"middle\" x=\"678\" y=\"-141.8\" font-family=\"Helvetica,sans-Serif\" font-size=\"14.00\">samples = 2140</text>\n<text text-anchor=\"middle\" x=\"678\" y=\"-126.8\" font-family=\"Helvetica,sans-Serif\" font-size=\"14.00\">value = [1837, 303]</text>\n<text text-anchor=\"middle\" x=\"678\" y=\"-111.8\" font-family=\"Helvetica,sans-Serif\" font-size=\"14.00\">class = não</text>\n</g>\n<!-- 6&#45;&gt;10 -->\n<g id=\"edge10\" class=\"edge\">\n<title>6&#45;&gt;10</title>\n<path fill=\"none\" stroke=\"black\" d=\"M532.99,-222.58C551.41,-212.92 571.18,-202.55 590,-192.67\"/>\n<polygon fill=\"black\" stroke=\"black\" points=\"591.48,-195.85 598.71,-188.1 588.23,-189.65 591.48,-195.85\"/>\n</g>\n<!-- 8 -->\n<g id=\"node9\" class=\"node\">\n<title>8</title>\n<path fill=\"#f9e0ce\" stroke=\"black\" d=\"M435,-68C435,-68 313,-68 313,-68 307,-68 301,-62 301,-56 301,-56 301,-12 301,-12 301,-6 307,0 313,0 313,0 435,0 435,0 441,0 447,-6 447,-12 447,-12 447,-56 447,-56 447,-62 441,-68 435,-68\"/>\n<text text-anchor=\"middle\" x=\"374\" y=\"-52.8\" font-family=\"Helvetica,sans-Serif\" font-size=\"14.00\">gini = 0.49</text>\n<text text-anchor=\"middle\" x=\"374\" y=\"-37.8\" font-family=\"Helvetica,sans-Serif\" font-size=\"14.00\">samples = 2944</text>\n<text text-anchor=\"middle\" x=\"374\" y=\"-22.8\" font-family=\"Helvetica,sans-Serif\" font-size=\"14.00\">value = [1682, 1262]</text>\n<text text-anchor=\"middle\" x=\"374\" y=\"-7.8\" font-family=\"Helvetica,sans-Serif\" font-size=\"14.00\">class = não</text>\n</g>\n<!-- 7&#45;&gt;8 -->\n<g id=\"edge8\" class=\"edge\">\n<title>7&#45;&gt;8</title>\n<path fill=\"none\" stroke=\"black\" d=\"M424.84,-103.73C418.5,-95.15 411.79,-86.09 405.41,-77.46\"/>\n<polygon fill=\"black\" stroke=\"black\" points=\"408.29,-75.47 399.53,-69.52 402.67,-79.64 408.29,-75.47\"/>\n</g>\n<!-- 9 -->\n<g id=\"node10\" class=\"node\">\n<title>9</title>\n<path fill=\"#a2d1f3\" stroke=\"black\" d=\"M583,-68C583,-68 477,-68 477,-68 471,-68 465,-62 465,-56 465,-56 465,-12 465,-12 465,-6 471,0 477,0 477,0 583,0 583,0 589,0 595,-6 595,-12 595,-12 595,-56 595,-56 595,-62 589,-68 583,-68\"/>\n<text text-anchor=\"middle\" x=\"530\" y=\"-52.8\" font-family=\"Helvetica,sans-Serif\" font-size=\"14.00\">gini = 0.453</text>\n<text text-anchor=\"middle\" x=\"530\" y=\"-37.8\" font-family=\"Helvetica,sans-Serif\" font-size=\"14.00\">samples = 569</text>\n<text text-anchor=\"middle\" x=\"530\" y=\"-22.8\" font-family=\"Helvetica,sans-Serif\" font-size=\"14.00\">value = [197, 372]</text>\n<text text-anchor=\"middle\" x=\"530\" y=\"-7.8\" font-family=\"Helvetica,sans-Serif\" font-size=\"14.00\">class = sim</text>\n</g>\n<!-- 7&#45;&gt;9 -->\n<g id=\"edge9\" class=\"edge\">\n<title>7&#45;&gt;9</title>\n<path fill=\"none\" stroke=\"black\" d=\"M482.93,-103.73C488.74,-95.24 494.88,-86.28 500.73,-77.73\"/>\n<polygon fill=\"black\" stroke=\"black\" points=\"503.57,-79.78 506.34,-69.55 497.8,-75.82 503.57,-79.78\"/>\n</g>\n<!-- 11 -->\n<g id=\"node12\" class=\"node\">\n<title>11</title>\n<path fill=\"#e68742\" stroke=\"black\" d=\"M731,-68C731,-68 625,-68 625,-68 619,-68 613,-62 613,-56 613,-56 613,-12 613,-12 613,-6 619,0 625,0 625,0 731,0 731,0 737,0 743,-6 743,-12 743,-12 743,-56 743,-56 743,-62 737,-68 731,-68\"/>\n<text text-anchor=\"middle\" x=\"678\" y=\"-52.8\" font-family=\"Helvetica,sans-Serif\" font-size=\"14.00\">gini = 0.082</text>\n<text text-anchor=\"middle\" x=\"678\" y=\"-37.8\" font-family=\"Helvetica,sans-Serif\" font-size=\"14.00\">samples = 1809</text>\n<text text-anchor=\"middle\" x=\"678\" y=\"-22.8\" font-family=\"Helvetica,sans-Serif\" font-size=\"14.00\">value = [1732, 77]</text>\n<text text-anchor=\"middle\" x=\"678\" y=\"-7.8\" font-family=\"Helvetica,sans-Serif\" font-size=\"14.00\">class = não</text>\n</g>\n<!-- 10&#45;&gt;11 -->\n<g id=\"edge11\" class=\"edge\">\n<title>10&#45;&gt;11</title>\n<path fill=\"none\" stroke=\"black\" d=\"M678,-103.73C678,-95.88 678,-87.63 678,-79.67\"/>\n<polygon fill=\"black\" stroke=\"black\" points=\"681.5,-79.81 678,-69.81 674.5,-79.81 681.5,-79.81\"/>\n</g>\n<!-- 12 -->\n<g id=\"node13\" class=\"node\">\n<title>12</title>\n<path fill=\"#95cbf1\" stroke=\"black\" d=\"M879,-68C879,-68 773,-68 773,-68 767,-68 761,-62 761,-56 761,-56 761,-12 761,-12 761,-6 767,0 773,0 773,0 879,0 879,0 885,0 891,-6 891,-12 891,-12 891,-56 891,-56 891,-62 885,-68 879,-68\"/>\n<text text-anchor=\"middle\" x=\"826\" y=\"-52.8\" font-family=\"Helvetica,sans-Serif\" font-size=\"14.00\">gini = 0.433</text>\n<text text-anchor=\"middle\" x=\"826\" y=\"-37.8\" font-family=\"Helvetica,sans-Serif\" font-size=\"14.00\">samples = 331</text>\n<text text-anchor=\"middle\" x=\"826\" y=\"-22.8\" font-family=\"Helvetica,sans-Serif\" font-size=\"14.00\">value = [105, 226]</text>\n<text text-anchor=\"middle\" x=\"826\" y=\"-7.8\" font-family=\"Helvetica,sans-Serif\" font-size=\"14.00\">class = sim</text>\n</g>\n<!-- 10&#45;&gt;12 -->\n<g id=\"edge12\" class=\"edge\">\n<title>10&#45;&gt;12</title>\n<path fill=\"none\" stroke=\"black\" d=\"M733.11,-103.73C745.81,-94.33 759.3,-84.35 771.95,-74.99\"/>\n<polygon fill=\"black\" stroke=\"black\" points=\"773.82,-77.96 779.78,-69.2 769.65,-72.33 773.82,-77.96\"/>\n</g>\n</g>\n</svg>\n",
      "text/plain": [
       "<graphviz.sources.Source at 0x1f2c130b820>"
      ]
     },
     "execution_count": 185,
     "metadata": {},
     "output_type": "execute_result"
    }
   ],
   "source": [
    "features = x_bad.columns\n",
    "\n",
    "dot_data = export_graphviz(\n",
    "    best_estimator,\n",
    "    out_file=None,\n",
    "    filled=True,\n",
    "    rounded=True,\n",
    "    class_names=[\"não\", \"sim\"],\n",
    "    feature_names=features,\n",
    ")\n",
    "\n",
    "graph = graphviz.Source(dot_data)\n",
    "graph"
   ]
  },
  {
   "attachments": {},
   "cell_type": "markdown",
   "metadata": {
    "colab_type": "text",
    "id": "IkJ3owYrHUwK"
   },
   "source": [
    "### Alterando o espaço de Hiperparâmetros"
   ]
  },
  {
   "cell_type": "code",
   "execution_count": 187,
   "metadata": {
    "colab": {
     "base_uri": "https://localhost:8080/",
     "height": 814
    },
    "colab_type": "code",
    "id": "gnsH81_eGcEf",
    "outputId": "26fa1cfe-1420-40f3-ce7b-a54fe2fc1ec1",
    "vscode": {
     "languageId": "python"
    }
   },
   "outputs": [
    {
     "data": {
      "text/html": [
       "<div>\n",
       "<style scoped>\n",
       "    .dataframe tbody tr th:only-of-type {\n",
       "        vertical-align: middle;\n",
       "    }\n",
       "\n",
       "    .dataframe tbody tr th {\n",
       "        vertical-align: top;\n",
       "    }\n",
       "\n",
       "    .dataframe thead th {\n",
       "        text-align: right;\n",
       "    }\n",
       "</style>\n",
       "<table border=\"1\" class=\"dataframe\">\n",
       "  <thead>\n",
       "    <tr style=\"text-align: right;\">\n",
       "      <th></th>\n",
       "      <th>mean_fit_time</th>\n",
       "      <th>std_fit_time</th>\n",
       "      <th>mean_score_time</th>\n",
       "      <th>std_score_time</th>\n",
       "      <th>param_criterion</th>\n",
       "      <th>param_max_depth</th>\n",
       "      <th>param_min_samples_leaf</th>\n",
       "      <th>param_min_samples_split</th>\n",
       "      <th>params</th>\n",
       "      <th>split0_test_score</th>\n",
       "      <th>split1_test_score</th>\n",
       "      <th>split2_test_score</th>\n",
       "      <th>split3_test_score</th>\n",
       "      <th>split4_test_score</th>\n",
       "      <th>mean_test_score</th>\n",
       "      <th>std_test_score</th>\n",
       "      <th>rank_test_score</th>\n",
       "    </tr>\n",
       "  </thead>\n",
       "  <tbody>\n",
       "    <tr>\n",
       "      <th>0</th>\n",
       "      <td>0.009134</td>\n",
       "      <td>0.000203</td>\n",
       "      <td>0.001324</td>\n",
       "      <td>0.000413</td>\n",
       "      <td>entropy</td>\n",
       "      <td>3</td>\n",
       "      <td>71</td>\n",
       "      <td>100</td>\n",
       "      <td>{'criterion': 'entropy', 'max_depth': 3, 'min_...</td>\n",
       "      <td>0.7840</td>\n",
       "      <td>0.7760</td>\n",
       "      <td>0.8025</td>\n",
       "      <td>0.7930</td>\n",
       "      <td>0.7795</td>\n",
       "      <td>0.7870</td>\n",
       "      <td>0.009618</td>\n",
       "      <td>1</td>\n",
       "    </tr>\n",
       "    <tr>\n",
       "      <th>1</th>\n",
       "      <td>0.012304</td>\n",
       "      <td>0.000621</td>\n",
       "      <td>0.001126</td>\n",
       "      <td>0.000249</td>\n",
       "      <td>gini</td>\n",
       "      <td>15</td>\n",
       "      <td>93</td>\n",
       "      <td>111</td>\n",
       "      <td>{'criterion': 'gini', 'max_depth': 15, 'min_sa...</td>\n",
       "      <td>0.7740</td>\n",
       "      <td>0.7725</td>\n",
       "      <td>0.7830</td>\n",
       "      <td>0.7805</td>\n",
       "      <td>0.7725</td>\n",
       "      <td>0.7765</td>\n",
       "      <td>0.004393</td>\n",
       "      <td>14</td>\n",
       "    </tr>\n",
       "    <tr>\n",
       "      <th>2</th>\n",
       "      <td>0.011313</td>\n",
       "      <td>0.000402</td>\n",
       "      <td>0.001201</td>\n",
       "      <td>0.000400</td>\n",
       "      <td>gini</td>\n",
       "      <td>20</td>\n",
       "      <td>124</td>\n",
       "      <td>88</td>\n",
       "      <td>{'criterion': 'gini', 'max_depth': 20, 'min_sa...</td>\n",
       "      <td>0.7705</td>\n",
       "      <td>0.7745</td>\n",
       "      <td>0.7990</td>\n",
       "      <td>0.7790</td>\n",
       "      <td>0.7735</td>\n",
       "      <td>0.7793</td>\n",
       "      <td>0.010221</td>\n",
       "      <td>8</td>\n",
       "    </tr>\n",
       "    <tr>\n",
       "      <th>3</th>\n",
       "      <td>0.014877</td>\n",
       "      <td>0.000577</td>\n",
       "      <td>0.001275</td>\n",
       "      <td>0.000390</td>\n",
       "      <td>gini</td>\n",
       "      <td>None</td>\n",
       "      <td>46</td>\n",
       "      <td>62</td>\n",
       "      <td>{'criterion': 'gini', 'max_depth': None, 'min_...</td>\n",
       "      <td>0.7575</td>\n",
       "      <td>0.7730</td>\n",
       "      <td>0.7725</td>\n",
       "      <td>0.7835</td>\n",
       "      <td>0.7560</td>\n",
       "      <td>0.7685</td>\n",
       "      <td>0.010378</td>\n",
       "      <td>16</td>\n",
       "    </tr>\n",
       "    <tr>\n",
       "      <th>4</th>\n",
       "      <td>0.013680</td>\n",
       "      <td>0.001555</td>\n",
       "      <td>0.001802</td>\n",
       "      <td>0.000749</td>\n",
       "      <td>gini</td>\n",
       "      <td>15</td>\n",
       "      <td>126</td>\n",
       "      <td>84</td>\n",
       "      <td>{'criterion': 'gini', 'max_depth': 15, 'min_sa...</td>\n",
       "      <td>0.7705</td>\n",
       "      <td>0.7735</td>\n",
       "      <td>0.7995</td>\n",
       "      <td>0.7790</td>\n",
       "      <td>0.7745</td>\n",
       "      <td>0.7794</td>\n",
       "      <td>0.010413</td>\n",
       "      <td>7</td>\n",
       "    </tr>\n",
       "  </tbody>\n",
       "</table>\n",
       "</div>"
      ],
      "text/plain": [
       "   mean_fit_time  std_fit_time  mean_score_time  std_score_time  \\\n",
       "0       0.009134      0.000203         0.001324        0.000413   \n",
       "1       0.012304      0.000621         0.001126        0.000249   \n",
       "2       0.011313      0.000402         0.001201        0.000400   \n",
       "3       0.014877      0.000577         0.001275        0.000390   \n",
       "4       0.013680      0.001555         0.001802        0.000749   \n",
       "\n",
       "  param_criterion param_max_depth param_min_samples_leaf  \\\n",
       "0         entropy               3                     71   \n",
       "1            gini              15                     93   \n",
       "2            gini              20                    124   \n",
       "3            gini            None                     46   \n",
       "4            gini              15                    126   \n",
       "\n",
       "  param_min_samples_split                                             params  \\\n",
       "0                     100  {'criterion': 'entropy', 'max_depth': 3, 'min_...   \n",
       "1                     111  {'criterion': 'gini', 'max_depth': 15, 'min_sa...   \n",
       "2                      88  {'criterion': 'gini', 'max_depth': 20, 'min_sa...   \n",
       "3                      62  {'criterion': 'gini', 'max_depth': None, 'min_...   \n",
       "4                      84  {'criterion': 'gini', 'max_depth': 15, 'min_sa...   \n",
       "\n",
       "   split0_test_score  split1_test_score  split2_test_score  split3_test_score  \\\n",
       "0             0.7840             0.7760             0.8025             0.7930   \n",
       "1             0.7740             0.7725             0.7830             0.7805   \n",
       "2             0.7705             0.7745             0.7990             0.7790   \n",
       "3             0.7575             0.7730             0.7725             0.7835   \n",
       "4             0.7705             0.7735             0.7995             0.7790   \n",
       "\n",
       "   split4_test_score  mean_test_score  std_test_score  rank_test_score  \n",
       "0             0.7795           0.7870        0.009618                1  \n",
       "1             0.7725           0.7765        0.004393               14  \n",
       "2             0.7735           0.7793        0.010221                8  \n",
       "3             0.7560           0.7685        0.010378               16  \n",
       "4             0.7745           0.7794        0.010413                7  "
      ]
     },
     "execution_count": 187,
     "metadata": {},
     "output_type": "execute_result"
    }
   ],
   "source": [
    "from scipy.stats import randint\n",
    "\n",
    "SEED = 301\n",
    "np.random.seed(SEED)\n",
    "\n",
    "parameters = {\n",
    "    \"max_depth\": [3, 5, 10, 15, 20, 30, None],\n",
    "    \"min_samples_split\": randint(32, 128),\n",
    "    \"min_samples_leaf\": randint(32, 128),\n",
    "    \"criterion\": [\"gini\", \"entropy\"],\n",
    "}\n",
    "\n",
    "search = RandomizedSearchCV(\n",
    "    DecisionTreeClassifier(),\n",
    "    parameters,\n",
    "    n_iter=16,\n",
    "    cv=KFold(n_splits=5, shuffle=True),\n",
    "    random_state=SEED,\n",
    ")\n",
    "\n",
    "search.fit(x_bad, y_bad)\n",
    "\n",
    "results = pd.DataFrame(search.cv_results_)\n",
    "results.head()"
   ]
  },
  {
   "cell_type": "code",
   "execution_count": 189,
   "metadata": {
    "colab": {
     "base_uri": "https://localhost:8080/",
     "height": 153
    },
    "colab_type": "code",
    "id": "wXJUv9vnIEMb",
    "outputId": "9aa051fe-fd73-4a4a-a6ce-52668c25a652",
    "vscode": {
     "languageId": "python"
    }
   },
   "outputs": [
    {
     "name": "stdout",
     "output_type": "stream",
     "text": [
      "Acurácia Média: 78.70%\n",
      "Intervalo de Acurácia: 76.85% a 80.55%\n"
     ]
    },
    {
     "data": {
      "text/html": [
       "<style>#sk-container-id-9 {color: black;background-color: white;}#sk-container-id-9 pre{padding: 0;}#sk-container-id-9 div.sk-toggleable {background-color: white;}#sk-container-id-9 label.sk-toggleable__label {cursor: pointer;display: block;width: 100%;margin-bottom: 0;padding: 0.3em;box-sizing: border-box;text-align: center;}#sk-container-id-9 label.sk-toggleable__label-arrow:before {content: \"▸\";float: left;margin-right: 0.25em;color: #696969;}#sk-container-id-9 label.sk-toggleable__label-arrow:hover:before {color: black;}#sk-container-id-9 div.sk-estimator:hover label.sk-toggleable__label-arrow:before {color: black;}#sk-container-id-9 div.sk-toggleable__content {max-height: 0;max-width: 0;overflow: hidden;text-align: left;background-color: #f0f8ff;}#sk-container-id-9 div.sk-toggleable__content pre {margin: 0.2em;color: black;border-radius: 0.25em;background-color: #f0f8ff;}#sk-container-id-9 input.sk-toggleable__control:checked~div.sk-toggleable__content {max-height: 200px;max-width: 100%;overflow: auto;}#sk-container-id-9 input.sk-toggleable__control:checked~label.sk-toggleable__label-arrow:before {content: \"▾\";}#sk-container-id-9 div.sk-estimator input.sk-toggleable__control:checked~label.sk-toggleable__label {background-color: #d4ebff;}#sk-container-id-9 div.sk-label input.sk-toggleable__control:checked~label.sk-toggleable__label {background-color: #d4ebff;}#sk-container-id-9 input.sk-hidden--visually {border: 0;clip: rect(1px 1px 1px 1px);clip: rect(1px, 1px, 1px, 1px);height: 1px;margin: -1px;overflow: hidden;padding: 0;position: absolute;width: 1px;}#sk-container-id-9 div.sk-estimator {font-family: monospace;background-color: #f0f8ff;border: 1px dotted black;border-radius: 0.25em;box-sizing: border-box;margin-bottom: 0.5em;}#sk-container-id-9 div.sk-estimator:hover {background-color: #d4ebff;}#sk-container-id-9 div.sk-parallel-item::after {content: \"\";width: 100%;border-bottom: 1px solid gray;flex-grow: 1;}#sk-container-id-9 div.sk-label:hover label.sk-toggleable__label {background-color: #d4ebff;}#sk-container-id-9 div.sk-serial::before {content: \"\";position: absolute;border-left: 1px solid gray;box-sizing: border-box;top: 0;bottom: 0;left: 50%;z-index: 0;}#sk-container-id-9 div.sk-serial {display: flex;flex-direction: column;align-items: center;background-color: white;padding-right: 0.2em;padding-left: 0.2em;position: relative;}#sk-container-id-9 div.sk-item {position: relative;z-index: 1;}#sk-container-id-9 div.sk-parallel {display: flex;align-items: stretch;justify-content: center;background-color: white;position: relative;}#sk-container-id-9 div.sk-item::before, #sk-container-id-9 div.sk-parallel-item::before {content: \"\";position: absolute;border-left: 1px solid gray;box-sizing: border-box;top: 0;bottom: 0;left: 50%;z-index: -1;}#sk-container-id-9 div.sk-parallel-item {display: flex;flex-direction: column;z-index: 1;position: relative;background-color: white;}#sk-container-id-9 div.sk-parallel-item:first-child::after {align-self: flex-end;width: 50%;}#sk-container-id-9 div.sk-parallel-item:last-child::after {align-self: flex-start;width: 50%;}#sk-container-id-9 div.sk-parallel-item:only-child::after {width: 0;}#sk-container-id-9 div.sk-dashed-wrapped {border: 1px dashed gray;margin: 0 0.4em 0.5em 0.4em;box-sizing: border-box;padding-bottom: 0.4em;background-color: white;}#sk-container-id-9 div.sk-label label {font-family: monospace;font-weight: bold;display: inline-block;line-height: 1.2em;}#sk-container-id-9 div.sk-label-container {text-align: center;}#sk-container-id-9 div.sk-container {/* jupyter's `normalize.less` sets `[hidden] { display: none; }` but bootstrap.min.css set `[hidden] { display: none !important; }` so we also need the `!important` here to be able to override the default hidden behavior on the sphinx rendered scikit-learn.org. See: https://github.com/scikit-learn/scikit-learn/issues/21755 */display: inline-block !important;position: relative;}#sk-container-id-9 div.sk-text-repr-fallback {display: none;}</style><div id=\"sk-container-id-9\" class=\"sk-top-container\"><div class=\"sk-text-repr-fallback\"><pre>DecisionTreeClassifier(criterion=&#x27;entropy&#x27;, max_depth=3, min_samples_leaf=71,\n",
       "                       min_samples_split=100)</pre><b>In a Jupyter environment, please rerun this cell to show the HTML representation or trust the notebook. <br />On GitHub, the HTML representation is unable to render, please try loading this page with nbviewer.org.</b></div><div class=\"sk-container\" hidden><div class=\"sk-item\"><div class=\"sk-estimator sk-toggleable\"><input class=\"sk-toggleable__control sk-hidden--visually\" id=\"sk-estimator-id-9\" type=\"checkbox\" checked><label for=\"sk-estimator-id-9\" class=\"sk-toggleable__label sk-toggleable__label-arrow\">DecisionTreeClassifier</label><div class=\"sk-toggleable__content\"><pre>DecisionTreeClassifier(criterion=&#x27;entropy&#x27;, max_depth=3, min_samples_leaf=71,\n",
       "                       min_samples_split=100)</pre></div></div></div></div></div>"
      ],
      "text/plain": [
       "DecisionTreeClassifier(criterion='entropy', max_depth=3, min_samples_leaf=71,\n",
       "                       min_samples_split=100)"
      ]
     },
     "execution_count": 189,
     "metadata": {},
     "output_type": "execute_result"
    }
   ],
   "source": [
    "scores = cross_val_score(search, x_bad, y_bad, cv=KFold(n_splits=5, shuffle=True))\n",
    "print_score(scores)\n",
    "\n",
    "best_estimator = search.best_estimator_\n",
    "best_estimator"
   ]
  },
  {
   "cell_type": "code",
   "execution_count": 192,
   "metadata": {
    "colab": {
     "base_uri": "https://localhost:8080/",
     "height": 289
    },
    "colab_type": "code",
    "id": "-ucS1ad3LOTj",
    "outputId": "52c53f1c-6d66-40aa-cc41-0a5cb1fda96e",
    "vscode": {
     "languageId": "python"
    }
   },
   "outputs": [
    {
     "name": "stdout",
     "output_type": "stream",
     "text": [
      "0.787\t+-(0.019)\t{'criterion': 'gini', 'max_depth': 3, 'min_samples_leaf': 32, 'min_samples_split': 32}\n",
      "0.787\t+-(0.019)\t{'criterion': 'gini', 'max_depth': 3, 'min_samples_leaf': 32, 'min_samples_split': 64}\n",
      "0.787\t+-(0.019)\t{'criterion': 'entropy', 'max_depth': 3, 'min_samples_leaf': 128, 'min_samples_split': 128}\n",
      "0.787\t+-(0.019)\t{'criterion': 'entropy', 'max_depth': 3, 'min_samples_leaf': 128, 'min_samples_split': 64}\n",
      "0.787\t+-(0.019)\t{'criterion': 'entropy', 'max_depth': 3, 'min_samples_leaf': 128, 'min_samples_split': 32}\n",
      "0.787\t+-(0.019)\t{'criterion': 'entropy', 'max_depth': 3, 'min_samples_leaf': 64, 'min_samples_split': 128}\n",
      "0.787\t+-(0.019)\t{'criterion': 'entropy', 'max_depth': 3, 'min_samples_leaf': 64, 'min_samples_split': 64}\n",
      "0.787\t+-(0.019)\t{'criterion': 'entropy', 'max_depth': 3, 'min_samples_leaf': 64, 'min_samples_split': 32}\n",
      "0.787\t+-(0.019)\t{'criterion': 'entropy', 'max_depth': 3, 'min_samples_leaf': 32, 'min_samples_split': 128}\n",
      "0.787\t+-(0.019)\t{'criterion': 'entropy', 'max_depth': 3, 'min_samples_leaf': 32, 'min_samples_split': 64}\n",
      "0.787\t+-(0.019)\t{'criterion': 'entropy', 'max_depth': 3, 'min_samples_leaf': 32, 'min_samples_split': 32}\n",
      "0.787\t+-(0.019)\t{'criterion': 'gini', 'max_depth': 3, 'min_samples_leaf': 64, 'min_samples_split': 128}\n",
      "0.787\t+-(0.019)\t{'criterion': 'gini', 'max_depth': 3, 'min_samples_leaf': 64, 'min_samples_split': 64}\n",
      "0.787\t+-(0.019)\t{'criterion': 'gini', 'max_depth': 3, 'min_samples_leaf': 32, 'min_samples_split': 128}\n",
      "0.787\t+-(0.019)\t{'criterion': 'gini', 'max_depth': 3, 'min_samples_leaf': 128, 'min_samples_split': 128}\n",
      "0.787\t+-(0.019)\t{'criterion': 'gini', 'max_depth': 3, 'min_samples_leaf': 128, 'min_samples_split': 64}\n",
      "0.787\t+-(0.019)\t{'criterion': 'gini', 'max_depth': 3, 'min_samples_leaf': 128, 'min_samples_split': 32}\n",
      "0.787\t+-(0.019)\t{'criterion': 'gini', 'max_depth': 3, 'min_samples_leaf': 64, 'min_samples_split': 32}\n",
      "0.784\t+-(0.024)\t{'criterion': 'entropy', 'max_depth': 5, 'min_samples_leaf': 64, 'min_samples_split': 128}\n",
      "0.784\t+-(0.024)\t{'criterion': 'entropy', 'max_depth': 5, 'min_samples_leaf': 64, 'min_samples_split': 64}\n",
      "0.784\t+-(0.024)\t{'criterion': 'entropy', 'max_depth': 5, 'min_samples_leaf': 64, 'min_samples_split': 32}\n",
      "0.784\t+-(0.024)\t{'criterion': 'entropy', 'max_depth': 5, 'min_samples_leaf': 32, 'min_samples_split': 128}\n",
      "0.784\t+-(0.024)\t{'criterion': 'entropy', 'max_depth': 5, 'min_samples_leaf': 32, 'min_samples_split': 64}\n",
      "0.784\t+-(0.024)\t{'criterion': 'entropy', 'max_depth': 5, 'min_samples_leaf': 32, 'min_samples_split': 32}\n",
      "0.784\t+-(0.024)\t{'criterion': 'gini', 'max_depth': 5, 'min_samples_leaf': 32, 'min_samples_split': 128}\n",
      "0.784\t+-(0.024)\t{'criterion': 'gini', 'max_depth': 5, 'min_samples_leaf': 64, 'min_samples_split': 32}\n",
      "0.784\t+-(0.024)\t{'criterion': 'gini', 'max_depth': 5, 'min_samples_leaf': 64, 'min_samples_split': 128}\n",
      "0.784\t+-(0.024)\t{'criterion': 'gini', 'max_depth': 5, 'min_samples_leaf': 64, 'min_samples_split': 64}\n",
      "0.783\t+-(0.023)\t{'criterion': 'gini', 'max_depth': 5, 'min_samples_leaf': 128, 'min_samples_split': 128}\n",
      "0.783\t+-(0.023)\t{'criterion': 'gini', 'max_depth': 5, 'min_samples_leaf': 128, 'min_samples_split': 64}\n",
      "0.783\t+-(0.023)\t{'criterion': 'gini', 'max_depth': 5, 'min_samples_leaf': 128, 'min_samples_split': 32}\n",
      "0.783\t+-(0.023)\t{'criterion': 'entropy', 'max_depth': 5, 'min_samples_leaf': 128, 'min_samples_split': 32}\n",
      "0.783\t+-(0.023)\t{'criterion': 'entropy', 'max_depth': 5, 'min_samples_leaf': 128, 'min_samples_split': 64}\n",
      "0.783\t+-(0.023)\t{'criterion': 'entropy', 'max_depth': 5, 'min_samples_leaf': 128, 'min_samples_split': 128}\n",
      "0.783\t+-(0.022)\t{'criterion': 'gini', 'max_depth': 5, 'min_samples_leaf': 32, 'min_samples_split': 32}\n",
      "0.783\t+-(0.022)\t{'criterion': 'gini', 'max_depth': 5, 'min_samples_leaf': 32, 'min_samples_split': 64}\n"
     ]
    }
   ],
   "source": [
    "ordered_median_results = results.sort_values(\"mean_test_score\", ascending=False)\n",
    "\n",
    "for index, row in ordered_median_results.iterrows():\n",
    "    print(\n",
    "        \"%.3f\\t+-(%.3f)\\t%s\" % (row.mean_test_score, row.std_test_score * 2, row.params)\n",
    "    )"
   ]
  },
  {
   "attachments": {},
   "cell_type": "markdown",
   "metadata": {
    "colab_type": "text",
    "id": "IwOx6gR4NLsj"
   },
   "source": [
    "### Exploração Aleatória mais Profunda"
   ]
  },
  {
   "cell_type": "code",
   "execution_count": 195,
   "metadata": {
    "colab": {},
    "colab_type": "code",
    "id": "tDSWaEFnLyWe",
    "vscode": {
     "languageId": "python"
    }
   },
   "outputs": [
    {
     "name": "stdout",
     "output_type": "stream",
     "text": [
      "Tempo de Treinamento: 1.17 segundos\n"
     ]
    },
    {
     "data": {
      "text/html": [
       "<div>\n",
       "<style scoped>\n",
       "    .dataframe tbody tr th:only-of-type {\n",
       "        vertical-align: middle;\n",
       "    }\n",
       "\n",
       "    .dataframe tbody tr th {\n",
       "        vertical-align: top;\n",
       "    }\n",
       "\n",
       "    .dataframe thead th {\n",
       "        text-align: right;\n",
       "    }\n",
       "</style>\n",
       "<table border=\"1\" class=\"dataframe\">\n",
       "  <thead>\n",
       "    <tr style=\"text-align: right;\">\n",
       "      <th></th>\n",
       "      <th>mean_fit_time</th>\n",
       "      <th>std_fit_time</th>\n",
       "      <th>mean_score_time</th>\n",
       "      <th>std_score_time</th>\n",
       "      <th>param_criterion</th>\n",
       "      <th>param_max_depth</th>\n",
       "      <th>param_min_samples_leaf</th>\n",
       "      <th>param_min_samples_split</th>\n",
       "      <th>params</th>\n",
       "      <th>split0_test_score</th>\n",
       "      <th>split1_test_score</th>\n",
       "      <th>split2_test_score</th>\n",
       "      <th>split3_test_score</th>\n",
       "      <th>split4_test_score</th>\n",
       "      <th>mean_test_score</th>\n",
       "      <th>std_test_score</th>\n",
       "      <th>rank_test_score</th>\n",
       "    </tr>\n",
       "  </thead>\n",
       "  <tbody>\n",
       "    <tr>\n",
       "      <th>0</th>\n",
       "      <td>0.016615</td>\n",
       "      <td>0.000490</td>\n",
       "      <td>0.001402</td>\n",
       "      <td>0.000490</td>\n",
       "      <td>entropy</td>\n",
       "      <td>None</td>\n",
       "      <td>84</td>\n",
       "      <td>103</td>\n",
       "      <td>{'criterion': 'entropy', 'max_depth': None, 'm...</td>\n",
       "      <td>0.7780</td>\n",
       "      <td>0.7745</td>\n",
       "      <td>0.7735</td>\n",
       "      <td>0.7620</td>\n",
       "      <td>0.7625</td>\n",
       "      <td>0.7701</td>\n",
       "      <td>0.006583</td>\n",
       "      <td>16</td>\n",
       "    </tr>\n",
       "    <tr>\n",
       "      <th>1</th>\n",
       "      <td>0.006605</td>\n",
       "      <td>0.000491</td>\n",
       "      <td>0.001402</td>\n",
       "      <td>0.000490</td>\n",
       "      <td>gini</td>\n",
       "      <td>3</td>\n",
       "      <td>53</td>\n",
       "      <td>60</td>\n",
       "      <td>{'criterion': 'gini', 'max_depth': 3, 'min_sam...</td>\n",
       "      <td>0.7905</td>\n",
       "      <td>0.7855</td>\n",
       "      <td>0.7915</td>\n",
       "      <td>0.7905</td>\n",
       "      <td>0.7765</td>\n",
       "      <td>0.7869</td>\n",
       "      <td>0.005607</td>\n",
       "      <td>1</td>\n",
       "    </tr>\n",
       "    <tr>\n",
       "      <th>2</th>\n",
       "      <td>0.011711</td>\n",
       "      <td>0.000400</td>\n",
       "      <td>0.001023</td>\n",
       "      <td>0.000043</td>\n",
       "      <td>gini</td>\n",
       "      <td>30</td>\n",
       "      <td>118</td>\n",
       "      <td>61</td>\n",
       "      <td>{'criterion': 'gini', 'max_depth': 30, 'min_sa...</td>\n",
       "      <td>0.7775</td>\n",
       "      <td>0.7745</td>\n",
       "      <td>0.7785</td>\n",
       "      <td>0.7720</td>\n",
       "      <td>0.7875</td>\n",
       "      <td>0.7780</td>\n",
       "      <td>0.005273</td>\n",
       "      <td>7</td>\n",
       "    </tr>\n",
       "    <tr>\n",
       "      <th>3</th>\n",
       "      <td>0.019417</td>\n",
       "      <td>0.000490</td>\n",
       "      <td>0.001602</td>\n",
       "      <td>0.000490</td>\n",
       "      <td>entropy</td>\n",
       "      <td>None</td>\n",
       "      <td>53</td>\n",
       "      <td>85</td>\n",
       "      <td>{'criterion': 'entropy', 'max_depth': None, 'm...</td>\n",
       "      <td>0.7710</td>\n",
       "      <td>0.7780</td>\n",
       "      <td>0.7760</td>\n",
       "      <td>0.7650</td>\n",
       "      <td>0.7655</td>\n",
       "      <td>0.7711</td>\n",
       "      <td>0.005295</td>\n",
       "      <td>15</td>\n",
       "    </tr>\n",
       "    <tr>\n",
       "      <th>4</th>\n",
       "      <td>0.013212</td>\n",
       "      <td>0.000400</td>\n",
       "      <td>0.001202</td>\n",
       "      <td>0.000400</td>\n",
       "      <td>gini</td>\n",
       "      <td>10</td>\n",
       "      <td>44</td>\n",
       "      <td>67</td>\n",
       "      <td>{'criterion': 'gini', 'max_depth': 10, 'min_sa...</td>\n",
       "      <td>0.7755</td>\n",
       "      <td>0.7780</td>\n",
       "      <td>0.7835</td>\n",
       "      <td>0.7695</td>\n",
       "      <td>0.7735</td>\n",
       "      <td>0.7760</td>\n",
       "      <td>0.004669</td>\n",
       "      <td>9</td>\n",
       "    </tr>\n",
       "  </tbody>\n",
       "</table>\n",
       "</div>"
      ],
      "text/plain": [
       "   mean_fit_time  std_fit_time  mean_score_time  std_score_time  \\\n",
       "0       0.016615      0.000490         0.001402        0.000490   \n",
       "1       0.006605      0.000491         0.001402        0.000490   \n",
       "2       0.011711      0.000400         0.001023        0.000043   \n",
       "3       0.019417      0.000490         0.001602        0.000490   \n",
       "4       0.013212      0.000400         0.001202        0.000400   \n",
       "\n",
       "  param_criterion param_max_depth param_min_samples_leaf  \\\n",
       "0         entropy            None                     84   \n",
       "1            gini               3                     53   \n",
       "2            gini              30                    118   \n",
       "3         entropy            None                     53   \n",
       "4            gini              10                     44   \n",
       "\n",
       "  param_min_samples_split                                             params  \\\n",
       "0                     103  {'criterion': 'entropy', 'max_depth': None, 'm...   \n",
       "1                      60  {'criterion': 'gini', 'max_depth': 3, 'min_sam...   \n",
       "2                      61  {'criterion': 'gini', 'max_depth': 30, 'min_sa...   \n",
       "3                      85  {'criterion': 'entropy', 'max_depth': None, 'm...   \n",
       "4                      67  {'criterion': 'gini', 'max_depth': 10, 'min_sa...   \n",
       "\n",
       "   split0_test_score  split1_test_score  split2_test_score  split3_test_score  \\\n",
       "0             0.7780             0.7745             0.7735             0.7620   \n",
       "1             0.7905             0.7855             0.7915             0.7905   \n",
       "2             0.7775             0.7745             0.7785             0.7720   \n",
       "3             0.7710             0.7780             0.7760             0.7650   \n",
       "4             0.7755             0.7780             0.7835             0.7695   \n",
       "\n",
       "   split4_test_score  mean_test_score  std_test_score  rank_test_score  \n",
       "0             0.7625           0.7701        0.006583               16  \n",
       "1             0.7765           0.7869        0.005607                1  \n",
       "2             0.7875           0.7780        0.005273                7  \n",
       "3             0.7655           0.7711        0.005295               15  \n",
       "4             0.7735           0.7760        0.004669                9  "
      ]
     },
     "execution_count": 195,
     "metadata": {},
     "output_type": "execute_result"
    }
   ],
   "source": [
    "SEED = 564\n",
    "np.random.seed(SEED)\n",
    "\n",
    "parameters = {\n",
    "    \"max_depth\": [3, 5, 10, 15, 20, 30, None],\n",
    "    \"min_samples_split\": randint(32, 128),\n",
    "    \"min_samples_leaf\": randint(32, 128),\n",
    "    \"criterion\": [\"gini\", \"entropy\"],\n",
    "}\n",
    "\n",
    "tic = time.time()\n",
    "search = RandomizedSearchCV(\n",
    "    DecisionTreeClassifier(),\n",
    "    parameters,\n",
    "    n_iter=16,\n",
    "    cv=KFold(n_splits=5, shuffle=True),\n",
    "    random_state=SEED,\n",
    ")\n",
    "search.fit(x_bad, y_bad)\n",
    "tac = time.time()\n",
    "print(f\"Tempo de Treinamento: {'{:.2f}'.format(tac - tic)} segundos\")\n",
    "\n",
    "results = pd.DataFrame(search.cv_results_)\n",
    "results.head()"
   ]
  },
  {
   "attachments": {},
   "cell_type": "markdown",
   "metadata": {
    "colab_type": "text",
    "id": "UozdxyBiV-DQ"
   },
   "source": [
    "### GridSearchCV vs RandomizedSearch"
   ]
  },
  {
   "cell_type": "code",
   "execution_count": 197,
   "metadata": {
    "colab": {},
    "colab_type": "code",
    "id": "dvXlCKPQU-Le",
    "vscode": {
     "languageId": "python"
    }
   },
   "outputs": [
    {
     "name": "stdout",
     "output_type": "stream",
     "text": [
      "Tempo de Treinamento: 18.00 segundos\n"
     ]
    },
    {
     "data": {
      "text/html": [
       "<div>\n",
       "<style scoped>\n",
       "    .dataframe tbody tr th:only-of-type {\n",
       "        vertical-align: middle;\n",
       "    }\n",
       "\n",
       "    .dataframe tbody tr th {\n",
       "        vertical-align: top;\n",
       "    }\n",
       "\n",
       "    .dataframe thead th {\n",
       "        text-align: right;\n",
       "    }\n",
       "</style>\n",
       "<table border=\"1\" class=\"dataframe\">\n",
       "  <thead>\n",
       "    <tr style=\"text-align: right;\">\n",
       "      <th></th>\n",
       "      <th>mean_fit_time</th>\n",
       "      <th>std_fit_time</th>\n",
       "      <th>mean_score_time</th>\n",
       "      <th>std_score_time</th>\n",
       "      <th>param_n_estimators</th>\n",
       "      <th>param_min_samples_split</th>\n",
       "      <th>param_min_samples_leaf</th>\n",
       "      <th>param_max_depth</th>\n",
       "      <th>param_criterion</th>\n",
       "      <th>param_bootstrap</th>\n",
       "      <th>params</th>\n",
       "      <th>split0_test_score</th>\n",
       "      <th>split1_test_score</th>\n",
       "      <th>split2_test_score</th>\n",
       "      <th>split3_test_score</th>\n",
       "      <th>split4_test_score</th>\n",
       "      <th>mean_test_score</th>\n",
       "      <th>std_test_score</th>\n",
       "      <th>rank_test_score</th>\n",
       "    </tr>\n",
       "  </thead>\n",
       "  <tbody>\n",
       "    <tr>\n",
       "      <th>0</th>\n",
       "      <td>0.338042</td>\n",
       "      <td>0.007330</td>\n",
       "      <td>0.015516</td>\n",
       "      <td>0.000631</td>\n",
       "      <td>100</td>\n",
       "      <td>32</td>\n",
       "      <td>128</td>\n",
       "      <td>3</td>\n",
       "      <td>entropy</td>\n",
       "      <td>True</td>\n",
       "      <td>{'n_estimators': 100, 'min_samples_split': 32,...</td>\n",
       "      <td>0.7270</td>\n",
       "      <td>0.7580</td>\n",
       "      <td>0.7950</td>\n",
       "      <td>0.7850</td>\n",
       "      <td>0.7625</td>\n",
       "      <td>0.7655</td>\n",
       "      <td>0.023656</td>\n",
       "      <td>10</td>\n",
       "    </tr>\n",
       "    <tr>\n",
       "      <th>1</th>\n",
       "      <td>0.044240</td>\n",
       "      <td>0.003313</td>\n",
       "      <td>0.003203</td>\n",
       "      <td>0.000401</td>\n",
       "      <td>10</td>\n",
       "      <td>32</td>\n",
       "      <td>128</td>\n",
       "      <td>5</td>\n",
       "      <td>entropy</td>\n",
       "      <td>True</td>\n",
       "      <td>{'n_estimators': 10, 'min_samples_split': 32, ...</td>\n",
       "      <td>0.7425</td>\n",
       "      <td>0.7555</td>\n",
       "      <td>0.7915</td>\n",
       "      <td>0.7745</td>\n",
       "      <td>0.7630</td>\n",
       "      <td>0.7654</td>\n",
       "      <td>0.016687</td>\n",
       "      <td>11</td>\n",
       "    </tr>\n",
       "    <tr>\n",
       "      <th>2</th>\n",
       "      <td>0.454974</td>\n",
       "      <td>0.004364</td>\n",
       "      <td>0.017818</td>\n",
       "      <td>0.000401</td>\n",
       "      <td>100</td>\n",
       "      <td>32</td>\n",
       "      <td>32</td>\n",
       "      <td>5</td>\n",
       "      <td>entropy</td>\n",
       "      <td>True</td>\n",
       "      <td>{'n_estimators': 100, 'min_samples_split': 32,...</td>\n",
       "      <td>0.7760</td>\n",
       "      <td>0.7585</td>\n",
       "      <td>0.7945</td>\n",
       "      <td>0.7855</td>\n",
       "      <td>0.7625</td>\n",
       "      <td>0.7754</td>\n",
       "      <td>0.013559</td>\n",
       "      <td>3</td>\n",
       "    </tr>\n",
       "    <tr>\n",
       "      <th>3</th>\n",
       "      <td>0.030427</td>\n",
       "      <td>0.000801</td>\n",
       "      <td>0.002803</td>\n",
       "      <td>0.000400</td>\n",
       "      <td>10</td>\n",
       "      <td>128</td>\n",
       "      <td>32</td>\n",
       "      <td>3</td>\n",
       "      <td>gini</td>\n",
       "      <td>True</td>\n",
       "      <td>{'n_estimators': 10, 'min_samples_split': 128,...</td>\n",
       "      <td>0.7510</td>\n",
       "      <td>0.7580</td>\n",
       "      <td>0.7725</td>\n",
       "      <td>0.7845</td>\n",
       "      <td>0.7445</td>\n",
       "      <td>0.7621</td>\n",
       "      <td>0.014558</td>\n",
       "      <td>15</td>\n",
       "    </tr>\n",
       "    <tr>\n",
       "      <th>4</th>\n",
       "      <td>0.036836</td>\n",
       "      <td>0.001721</td>\n",
       "      <td>0.002503</td>\n",
       "      <td>0.000447</td>\n",
       "      <td>10</td>\n",
       "      <td>64</td>\n",
       "      <td>32</td>\n",
       "      <td>3</td>\n",
       "      <td>entropy</td>\n",
       "      <td>False</td>\n",
       "      <td>{'n_estimators': 10, 'min_samples_split': 64, ...</td>\n",
       "      <td>0.7755</td>\n",
       "      <td>0.7555</td>\n",
       "      <td>0.7500</td>\n",
       "      <td>0.7725</td>\n",
       "      <td>0.7620</td>\n",
       "      <td>0.7631</td>\n",
       "      <td>0.009723</td>\n",
       "      <td>13</td>\n",
       "    </tr>\n",
       "  </tbody>\n",
       "</table>\n",
       "</div>"
      ],
      "text/plain": [
       "   mean_fit_time  std_fit_time  mean_score_time  std_score_time  \\\n",
       "0       0.338042      0.007330         0.015516        0.000631   \n",
       "1       0.044240      0.003313         0.003203        0.000401   \n",
       "2       0.454974      0.004364         0.017818        0.000401   \n",
       "3       0.030427      0.000801         0.002803        0.000400   \n",
       "4       0.036836      0.001721         0.002503        0.000447   \n",
       "\n",
       "  param_n_estimators param_min_samples_split param_min_samples_leaf  \\\n",
       "0                100                      32                    128   \n",
       "1                 10                      32                    128   \n",
       "2                100                      32                     32   \n",
       "3                 10                     128                     32   \n",
       "4                 10                      64                     32   \n",
       "\n",
       "  param_max_depth param_criterion param_bootstrap  \\\n",
       "0               3         entropy            True   \n",
       "1               5         entropy            True   \n",
       "2               5         entropy            True   \n",
       "3               3            gini            True   \n",
       "4               3         entropy           False   \n",
       "\n",
       "                                              params  split0_test_score  \\\n",
       "0  {'n_estimators': 100, 'min_samples_split': 32,...             0.7270   \n",
       "1  {'n_estimators': 10, 'min_samples_split': 32, ...             0.7425   \n",
       "2  {'n_estimators': 100, 'min_samples_split': 32,...             0.7760   \n",
       "3  {'n_estimators': 10, 'min_samples_split': 128,...             0.7510   \n",
       "4  {'n_estimators': 10, 'min_samples_split': 64, ...             0.7755   \n",
       "\n",
       "   split1_test_score  split2_test_score  split3_test_score  split4_test_score  \\\n",
       "0             0.7580             0.7950             0.7850             0.7625   \n",
       "1             0.7555             0.7915             0.7745             0.7630   \n",
       "2             0.7585             0.7945             0.7855             0.7625   \n",
       "3             0.7580             0.7725             0.7845             0.7445   \n",
       "4             0.7555             0.7500             0.7725             0.7620   \n",
       "\n",
       "   mean_test_score  std_test_score  rank_test_score  \n",
       "0           0.7655        0.023656               10  \n",
       "1           0.7654        0.016687               11  \n",
       "2           0.7754        0.013559                3  \n",
       "3           0.7621        0.014558               15  \n",
       "4           0.7631        0.009723               13  "
      ]
     },
     "execution_count": 197,
     "metadata": {},
     "output_type": "execute_result"
    }
   ],
   "source": [
    "SEED = 301\n",
    "np.random.seed(SEED)\n",
    "\n",
    "parameters = {\n",
    "    \"n_estimators\": [10, 100],\n",
    "    \"max_depth\": [3, 5],\n",
    "    \"min_samples_split\": [32, 64, 128],\n",
    "    \"min_samples_leaf\": [32, 64, 128],\n",
    "    \"bootstrap\": [True, False],\n",
    "    \"criterion\": [\"gini\", \"entropy\"],\n",
    "}\n",
    "\n",
    "tic = time.time()\n",
    "search = RandomizedSearchCV(\n",
    "    RandomForestClassifier(),\n",
    "    parameters,\n",
    "    n_iter=16,\n",
    "    cv=KFold(n_splits=5, shuffle=True),\n",
    "    random_state=SEED,\n",
    ")\n",
    "\n",
    "search.fit(x_bad, y_bad)\n",
    "tac = time.time()\n",
    "print(f\"Tempo de Treinamento: {'{:.2f}'.format(tac - tic)} segundos\")\n",
    "\n",
    "results = pd.DataFrame(search.cv_results_)\n",
    "results.head()"
   ]
  },
  {
   "cell_type": "code",
   "execution_count": 198,
   "metadata": {
    "colab": {},
    "colab_type": "code",
    "id": "TmVz0hwwXUmy",
    "vscode": {
     "languageId": "python"
    }
   },
   "outputs": [
    {
     "name": "stdout",
     "output_type": "stream",
     "text": [
      "0.777\t+-(0.026)\t{'n_estimators': 100, 'min_samples_split': 64, 'min_samples_leaf': 32, 'max_depth': 5, 'criterion': 'entropy', 'bootstrap': True}\n",
      "0.776\t+-(0.028)\t{'n_estimators': 100, 'min_samples_split': 32, 'min_samples_leaf': 32, 'max_depth': 5, 'criterion': 'gini', 'bootstrap': False}\n",
      "0.775\t+-(0.027)\t{'n_estimators': 100, 'min_samples_split': 32, 'min_samples_leaf': 32, 'max_depth': 5, 'criterion': 'entropy', 'bootstrap': True}\n",
      "0.775\t+-(0.028)\t{'n_estimators': 100, 'min_samples_split': 64, 'min_samples_leaf': 64, 'max_depth': 3, 'criterion': 'gini', 'bootstrap': False}\n",
      "0.775\t+-(0.028)\t{'n_estimators': 100, 'min_samples_split': 32, 'min_samples_leaf': 128, 'max_depth': 3, 'criterion': 'entropy', 'bootstrap': False}\n",
      "0.774\t+-(0.029)\t{'n_estimators': 100, 'min_samples_split': 128, 'min_samples_leaf': 64, 'max_depth': 3, 'criterion': 'entropy', 'bootstrap': True}\n",
      "0.772\t+-(0.029)\t{'n_estimators': 100, 'min_samples_split': 128, 'min_samples_leaf': 32, 'max_depth': 3, 'criterion': 'entropy', 'bootstrap': False}\n",
      "0.771\t+-(0.022)\t{'n_estimators': 10, 'min_samples_split': 32, 'min_samples_leaf': 64, 'max_depth': 3, 'criterion': 'entropy', 'bootstrap': False}\n",
      "0.771\t+-(0.041)\t{'n_estimators': 10, 'min_samples_split': 32, 'min_samples_leaf': 32, 'max_depth': 5, 'criterion': 'gini', 'bootstrap': True}\n",
      "0.765\t+-(0.047)\t{'n_estimators': 100, 'min_samples_split': 32, 'min_samples_leaf': 128, 'max_depth': 3, 'criterion': 'entropy', 'bootstrap': True}\n",
      "0.765\t+-(0.033)\t{'n_estimators': 10, 'min_samples_split': 32, 'min_samples_leaf': 128, 'max_depth': 5, 'criterion': 'entropy', 'bootstrap': True}\n",
      "0.764\t+-(0.013)\t{'n_estimators': 10, 'min_samples_split': 128, 'min_samples_leaf': 64, 'max_depth': 3, 'criterion': 'gini', 'bootstrap': False}\n",
      "0.763\t+-(0.019)\t{'n_estimators': 10, 'min_samples_split': 64, 'min_samples_leaf': 32, 'max_depth': 3, 'criterion': 'entropy', 'bootstrap': False}\n",
      "0.762\t+-(0.043)\t{'n_estimators': 10, 'min_samples_split': 64, 'min_samples_leaf': 32, 'max_depth': 3, 'criterion': 'gini', 'bootstrap': True}\n",
      "0.762\t+-(0.029)\t{'n_estimators': 10, 'min_samples_split': 128, 'min_samples_leaf': 32, 'max_depth': 3, 'criterion': 'gini', 'bootstrap': True}\n",
      "0.747\t+-(0.041)\t{'n_estimators': 10, 'min_samples_split': 128, 'min_samples_leaf': 128, 'max_depth': 3, 'criterion': 'gini', 'bootstrap': True}\n"
     ]
    }
   ],
   "source": [
    "ordered_median_results = results.sort_values(\"mean_test_score\", ascending=False)\n",
    "\n",
    "for index, row in ordered_median_results.iterrows():\n",
    "    print(\n",
    "        \"%.3f\\t+-(%.3f)\\t%s\" % (row.mean_test_score, row.std_test_score * 2, row.params)\n",
    "    )"
   ]
  },
  {
   "cell_type": "code",
   "execution_count": 199,
   "metadata": {
    "colab": {},
    "colab_type": "code",
    "id": "1MVtTC3IYviB",
    "vscode": {
     "languageId": "python"
    }
   },
   "outputs": [
    {
     "name": "stdout",
     "output_type": "stream",
     "text": [
      "Tempo de Validação dos Scores: 73.56 segundos\n",
      "Acurácia Média: 77.48%\n",
      "Intervalo de Acurácia: 76.33% a 78.63%\n"
     ]
    },
    {
     "data": {
      "text/html": [
       "<style>#sk-container-id-10 {color: black;background-color: white;}#sk-container-id-10 pre{padding: 0;}#sk-container-id-10 div.sk-toggleable {background-color: white;}#sk-container-id-10 label.sk-toggleable__label {cursor: pointer;display: block;width: 100%;margin-bottom: 0;padding: 0.3em;box-sizing: border-box;text-align: center;}#sk-container-id-10 label.sk-toggleable__label-arrow:before {content: \"▸\";float: left;margin-right: 0.25em;color: #696969;}#sk-container-id-10 label.sk-toggleable__label-arrow:hover:before {color: black;}#sk-container-id-10 div.sk-estimator:hover label.sk-toggleable__label-arrow:before {color: black;}#sk-container-id-10 div.sk-toggleable__content {max-height: 0;max-width: 0;overflow: hidden;text-align: left;background-color: #f0f8ff;}#sk-container-id-10 div.sk-toggleable__content pre {margin: 0.2em;color: black;border-radius: 0.25em;background-color: #f0f8ff;}#sk-container-id-10 input.sk-toggleable__control:checked~div.sk-toggleable__content {max-height: 200px;max-width: 100%;overflow: auto;}#sk-container-id-10 input.sk-toggleable__control:checked~label.sk-toggleable__label-arrow:before {content: \"▾\";}#sk-container-id-10 div.sk-estimator input.sk-toggleable__control:checked~label.sk-toggleable__label {background-color: #d4ebff;}#sk-container-id-10 div.sk-label input.sk-toggleable__control:checked~label.sk-toggleable__label {background-color: #d4ebff;}#sk-container-id-10 input.sk-hidden--visually {border: 0;clip: rect(1px 1px 1px 1px);clip: rect(1px, 1px, 1px, 1px);height: 1px;margin: -1px;overflow: hidden;padding: 0;position: absolute;width: 1px;}#sk-container-id-10 div.sk-estimator {font-family: monospace;background-color: #f0f8ff;border: 1px dotted black;border-radius: 0.25em;box-sizing: border-box;margin-bottom: 0.5em;}#sk-container-id-10 div.sk-estimator:hover {background-color: #d4ebff;}#sk-container-id-10 div.sk-parallel-item::after {content: \"\";width: 100%;border-bottom: 1px solid gray;flex-grow: 1;}#sk-container-id-10 div.sk-label:hover label.sk-toggleable__label {background-color: #d4ebff;}#sk-container-id-10 div.sk-serial::before {content: \"\";position: absolute;border-left: 1px solid gray;box-sizing: border-box;top: 0;bottom: 0;left: 50%;z-index: 0;}#sk-container-id-10 div.sk-serial {display: flex;flex-direction: column;align-items: center;background-color: white;padding-right: 0.2em;padding-left: 0.2em;position: relative;}#sk-container-id-10 div.sk-item {position: relative;z-index: 1;}#sk-container-id-10 div.sk-parallel {display: flex;align-items: stretch;justify-content: center;background-color: white;position: relative;}#sk-container-id-10 div.sk-item::before, #sk-container-id-10 div.sk-parallel-item::before {content: \"\";position: absolute;border-left: 1px solid gray;box-sizing: border-box;top: 0;bottom: 0;left: 50%;z-index: -1;}#sk-container-id-10 div.sk-parallel-item {display: flex;flex-direction: column;z-index: 1;position: relative;background-color: white;}#sk-container-id-10 div.sk-parallel-item:first-child::after {align-self: flex-end;width: 50%;}#sk-container-id-10 div.sk-parallel-item:last-child::after {align-self: flex-start;width: 50%;}#sk-container-id-10 div.sk-parallel-item:only-child::after {width: 0;}#sk-container-id-10 div.sk-dashed-wrapped {border: 1px dashed gray;margin: 0 0.4em 0.5em 0.4em;box-sizing: border-box;padding-bottom: 0.4em;background-color: white;}#sk-container-id-10 div.sk-label label {font-family: monospace;font-weight: bold;display: inline-block;line-height: 1.2em;}#sk-container-id-10 div.sk-label-container {text-align: center;}#sk-container-id-10 div.sk-container {/* jupyter's `normalize.less` sets `[hidden] { display: none; }` but bootstrap.min.css set `[hidden] { display: none !important; }` so we also need the `!important` here to be able to override the default hidden behavior on the sphinx rendered scikit-learn.org. See: https://github.com/scikit-learn/scikit-learn/issues/21755 */display: inline-block !important;position: relative;}#sk-container-id-10 div.sk-text-repr-fallback {display: none;}</style><div id=\"sk-container-id-10\" class=\"sk-top-container\"><div class=\"sk-text-repr-fallback\"><pre>RandomForestClassifier(criterion=&#x27;entropy&#x27;, max_depth=5, min_samples_leaf=32,\n",
       "                       min_samples_split=64)</pre><b>In a Jupyter environment, please rerun this cell to show the HTML representation or trust the notebook. <br />On GitHub, the HTML representation is unable to render, please try loading this page with nbviewer.org.</b></div><div class=\"sk-container\" hidden><div class=\"sk-item\"><div class=\"sk-estimator sk-toggleable\"><input class=\"sk-toggleable__control sk-hidden--visually\" id=\"sk-estimator-id-10\" type=\"checkbox\" checked><label for=\"sk-estimator-id-10\" class=\"sk-toggleable__label sk-toggleable__label-arrow\">RandomForestClassifier</label><div class=\"sk-toggleable__content\"><pre>RandomForestClassifier(criterion=&#x27;entropy&#x27;, max_depth=5, min_samples_leaf=32,\n",
       "                       min_samples_split=64)</pre></div></div></div></div></div>"
      ],
      "text/plain": [
       "RandomForestClassifier(criterion='entropy', max_depth=5, min_samples_leaf=32,\n",
       "                       min_samples_split=64)"
      ]
     },
     "execution_count": 199,
     "metadata": {},
     "output_type": "execute_result"
    }
   ],
   "source": [
    "tic = time.time()\n",
    "scores = cross_val_score(search, x_bad, y_bad, cv=KFold(n_splits=5, shuffle=True))\n",
    "tac = time.time()\n",
    "\n",
    "print(f\"Tempo de Validação dos Scores: {'{:.2f}'.format(tac - tic)} segundos\")\n",
    "\n",
    "print_score(scores)\n",
    "best_estimator = search.best_estimator_\n",
    "best_estimator"
   ]
  },
  {
   "attachments": {},
   "cell_type": "markdown",
   "metadata": {
    "colab_type": "text",
    "id": "7l0DGO0cVVcQ"
   },
   "source": [
    "### Caso: Não é possível utilizar o Cross Validation\n",
    "\n",
    "Se faz necessária a criação de uma amostragem de validação.\n",
    "\n",
    "- Treino: esse dataset é usado para o treino, ou seja, o fit do modelo. Por exemplo, numa regressão os parâmetros são ajustados para minimizar o erro nesse dataset.\n",
    "- Validação: esse dataset é usado para a avaliação não-viesada da performance do modelo durante o ajuste de hiperparâmetros.\n",
    "- Teste: esse dataset é usado para a avaliação final do modelo. Não deve ser usado durante o treino e a validação.\n",
    "\n",
    "Uso de StratifiedShuffleSplit, uma combinação entre ShuffleSplit e StratifiedKFold. Quando usamos o StratifiedShuffleSplit, a proporção de distribuição de rótulos das classes é quase uniforme entre o conjunto de treino e teste, e a principal diferença entre o StratifiedShuffleSplit e StratifiedKFold (shuffle = True) é que no StratifiedKFold o conjunto de dados é embaralhado apenas uma vez no início, e depois é dividido no número especificado de n_splits, isso descarta a chance de sobreposição dos conjuntos de treino e teste, porém no StratifiedShuffleSplit os dados são embaralhados a cada vez que a divisão é feita, por isso é possível que os dados de treino e teste sejam sobrepostos.\n",
    "\n"
   ]
  },
  {
   "cell_type": "code",
   "execution_count": 207,
   "metadata": {
    "colab": {
     "base_uri": "https://localhost:8080/",
     "height": 84
    },
    "colab_type": "code",
    "id": "AHXt8oajXG8C",
    "outputId": "2153cb8c-cefa-48d6-f39c-786c0f1abb14",
    "vscode": {
     "languageId": "python"
    }
   },
   "outputs": [
    {
     "name": "stdout",
     "output_type": "stream",
     "text": [
      "(8000, 3)\n",
      "(2000, 3)\n",
      "(8000,)\n",
      "(2000,)\n"
     ]
    }
   ],
   "source": [
    "SEED = 301\n",
    "np.random.seed(SEED)\n",
    "\n",
    "x_test_train, x_validation, y_test_train, y_validation = train_test_split(\n",
    "    x_bad, y_bad, test_size=0.2, shuffle=True, stratify=y_bad\n",
    ")\n",
    "\n",
    "print(x_test_train.shape)\n",
    "print(x_validation.shape)\n",
    "print(y_test_train.shape)\n",
    "print(y_validation.shape)"
   ]
  },
  {
   "cell_type": "code",
   "execution_count": 208,
   "metadata": {
    "colab": {
     "base_uri": "https://localhost:8080/",
     "height": 683
    },
    "colab_type": "code",
    "id": "JwpXnL6iVXpW",
    "outputId": "513502a1-f423-428a-8701-1412eb58faae",
    "vscode": {
     "languageId": "python"
    }
   },
   "outputs": [
    {
     "name": "stdout",
     "output_type": "stream",
     "text": [
      "Tempo de Treinamento: 0.87 segundos\n"
     ]
    },
    {
     "data": {
      "text/html": [
       "<div>\n",
       "<style scoped>\n",
       "    .dataframe tbody tr th:only-of-type {\n",
       "        vertical-align: middle;\n",
       "    }\n",
       "\n",
       "    .dataframe tbody tr th {\n",
       "        vertical-align: top;\n",
       "    }\n",
       "\n",
       "    .dataframe thead th {\n",
       "        text-align: right;\n",
       "    }\n",
       "</style>\n",
       "<table border=\"1\" class=\"dataframe\">\n",
       "  <thead>\n",
       "    <tr style=\"text-align: right;\">\n",
       "      <th></th>\n",
       "      <th>mean_fit_time</th>\n",
       "      <th>std_fit_time</th>\n",
       "      <th>mean_score_time</th>\n",
       "      <th>std_score_time</th>\n",
       "      <th>param_bootstrap</th>\n",
       "      <th>param_criterion</th>\n",
       "      <th>param_max_depth</th>\n",
       "      <th>param_min_samples_leaf</th>\n",
       "      <th>param_min_samples_split</th>\n",
       "      <th>param_n_estimators</th>\n",
       "      <th>params</th>\n",
       "      <th>split0_test_score</th>\n",
       "      <th>mean_test_score</th>\n",
       "      <th>std_test_score</th>\n",
       "      <th>rank_test_score</th>\n",
       "    </tr>\n",
       "  </thead>\n",
       "  <tbody>\n",
       "    <tr>\n",
       "      <th>0</th>\n",
       "      <td>0.099091</td>\n",
       "      <td>0.0</td>\n",
       "      <td>0.007006</td>\n",
       "      <td>0.0</td>\n",
       "      <td>True</td>\n",
       "      <td>gini</td>\n",
       "      <td>5</td>\n",
       "      <td>89</td>\n",
       "      <td>58</td>\n",
       "      <td>24</td>\n",
       "      <td>{'bootstrap': True, 'criterion': 'gini', 'max_...</td>\n",
       "      <td>0.7885</td>\n",
       "      <td>0.7885</td>\n",
       "      <td>0.0</td>\n",
       "      <td>3</td>\n",
       "    </tr>\n",
       "    <tr>\n",
       "      <th>1</th>\n",
       "      <td>0.105095</td>\n",
       "      <td>0.0</td>\n",
       "      <td>0.006006</td>\n",
       "      <td>0.0</td>\n",
       "      <td>False</td>\n",
       "      <td>entropy</td>\n",
       "      <td>3</td>\n",
       "      <td>71</td>\n",
       "      <td>55</td>\n",
       "      <td>27</td>\n",
       "      <td>{'bootstrap': False, 'criterion': 'entropy', '...</td>\n",
       "      <td>0.7920</td>\n",
       "      <td>0.7920</td>\n",
       "      <td>0.0</td>\n",
       "      <td>1</td>\n",
       "    </tr>\n",
       "    <tr>\n",
       "      <th>2</th>\n",
       "      <td>0.078071</td>\n",
       "      <td>0.0</td>\n",
       "      <td>0.007007</td>\n",
       "      <td>0.0</td>\n",
       "      <td>True</td>\n",
       "      <td>entropy</td>\n",
       "      <td>3</td>\n",
       "      <td>33</td>\n",
       "      <td>99</td>\n",
       "      <td>21</td>\n",
       "      <td>{'bootstrap': True, 'criterion': 'entropy', 'm...</td>\n",
       "      <td>0.7910</td>\n",
       "      <td>0.7910</td>\n",
       "      <td>0.0</td>\n",
       "      <td>2</td>\n",
       "    </tr>\n",
       "    <tr>\n",
       "      <th>3</th>\n",
       "      <td>0.198186</td>\n",
       "      <td>0.0</td>\n",
       "      <td>0.011010</td>\n",
       "      <td>0.0</td>\n",
       "      <td>True</td>\n",
       "      <td>gini</td>\n",
       "      <td>3</td>\n",
       "      <td>98</td>\n",
       "      <td>100</td>\n",
       "      <td>67</td>\n",
       "      <td>{'bootstrap': True, 'criterion': 'gini', 'max_...</td>\n",
       "      <td>0.7785</td>\n",
       "      <td>0.7785</td>\n",
       "      <td>0.0</td>\n",
       "      <td>5</td>\n",
       "    </tr>\n",
       "    <tr>\n",
       "      <th>4</th>\n",
       "      <td>0.229208</td>\n",
       "      <td>0.0</td>\n",
       "      <td>0.011010</td>\n",
       "      <td>0.0</td>\n",
       "      <td>False</td>\n",
       "      <td>entropy</td>\n",
       "      <td>4</td>\n",
       "      <td>88</td>\n",
       "      <td>64</td>\n",
       "      <td>63</td>\n",
       "      <td>{'bootstrap': False, 'criterion': 'entropy', '...</td>\n",
       "      <td>0.7885</td>\n",
       "      <td>0.7885</td>\n",
       "      <td>0.0</td>\n",
       "      <td>3</td>\n",
       "    </tr>\n",
       "  </tbody>\n",
       "</table>\n",
       "</div>"
      ],
      "text/plain": [
       "   mean_fit_time  std_fit_time  mean_score_time  std_score_time  \\\n",
       "0       0.099091           0.0         0.007006             0.0   \n",
       "1       0.105095           0.0         0.006006             0.0   \n",
       "2       0.078071           0.0         0.007007             0.0   \n",
       "3       0.198186           0.0         0.011010             0.0   \n",
       "4       0.229208           0.0         0.011010             0.0   \n",
       "\n",
       "  param_bootstrap param_criterion param_max_depth param_min_samples_leaf  \\\n",
       "0            True            gini               5                     89   \n",
       "1           False         entropy               3                     71   \n",
       "2            True         entropy               3                     33   \n",
       "3            True            gini               3                     98   \n",
       "4           False         entropy               4                     88   \n",
       "\n",
       "  param_min_samples_split param_n_estimators  \\\n",
       "0                      58                 24   \n",
       "1                      55                 27   \n",
       "2                      99                 21   \n",
       "3                     100                 67   \n",
       "4                      64                 63   \n",
       "\n",
       "                                              params  split0_test_score  \\\n",
       "0  {'bootstrap': True, 'criterion': 'gini', 'max_...             0.7885   \n",
       "1  {'bootstrap': False, 'criterion': 'entropy', '...             0.7920   \n",
       "2  {'bootstrap': True, 'criterion': 'entropy', 'm...             0.7910   \n",
       "3  {'bootstrap': True, 'criterion': 'gini', 'max_...             0.7785   \n",
       "4  {'bootstrap': False, 'criterion': 'entropy', '...             0.7885   \n",
       "\n",
       "   mean_test_score  std_test_score  rank_test_score  \n",
       "0           0.7885             0.0                3  \n",
       "1           0.7920             0.0                1  \n",
       "2           0.7910             0.0                2  \n",
       "3           0.7785             0.0                5  \n",
       "4           0.7885             0.0                3  "
      ]
     },
     "execution_count": 208,
     "metadata": {},
     "output_type": "execute_result"
    }
   ],
   "source": [
    "parameters = {\n",
    "    \"n_estimators\": randint(10, 101),\n",
    "    \"max_depth\": randint(3, 6),\n",
    "    \"min_samples_split\": randint(32, 129),\n",
    "    \"min_samples_leaf\": randint(32, 129),\n",
    "    \"bootstrap\": [True, False],\n",
    "    \"criterion\": [\"gini\", \"entropy\"],\n",
    "}\n",
    "\n",
    "split = StratifiedShuffleSplit(n_splits=1, test_size=0.25)\n",
    "\n",
    "tic = time.time()\n",
    "search = RandomizedSearchCV(RandomForestClassifier(), parameters, n_iter=5, cv=split)\n",
    "search.fit(x_test_train, y_test_train)\n",
    "tac = time.time()\n",
    "print(f\"Tempo de Treinamento: {'{:.2f}'.format(tac - tic)} segundos\")\n",
    "\n",
    "results = pd.DataFrame(search.cv_results_)\n",
    "results.head()"
   ]
  },
  {
   "cell_type": "code",
   "execution_count": 209,
   "metadata": {
    "colab": {
     "base_uri": "https://localhost:8080/",
     "height": 51
    },
    "colab_type": "code",
    "id": "NNZaHB2PWmSB",
    "outputId": "63b5cf47-2e7a-48a4-f0bc-4b8541e29987",
    "vscode": {
     "languageId": "python"
    }
   },
   "outputs": [
    {
     "data": {
      "text/plain": [
       "array([0.732])"
      ]
     },
     "execution_count": 209,
     "metadata": {},
     "output_type": "execute_result"
    }
   ],
   "source": [
    "scores = cross_val_score(search, x_validation, y_validation, cv=split)\n",
    "scores"
   ]
  }
 ],
 "metadata": {
  "colab": {
   "collapsed_sections": [],
   "name": "Introdução a Machine Learning Otimização - parte 2.ipynb",
   "provenance": [],
   "version": "0.3.2"
  },
  "kernelspec": {
   "display_name": "Python 3",
   "name": "python3"
  }
 },
 "nbformat": 4,
 "nbformat_minor": 0
}
